{
  "cells": [
    {
      "cell_type": "markdown",
      "id": "38daedde-589c-4cac-bf43-2b13485898cb",
      "metadata": {
        "editable": true,
        "id": "38daedde-589c-4cac-bf43-2b13485898cb",
        "tags": []
      },
      "source": [
        "# 第2章: UNIXコマンド\n",
        "\n",
        "[popular-names.txt](/data/popular-names.txt)は、アメリカで生まれた赤ちゃんの「名前」「性別」「人数」「年」をタブ区切り形式で格納したファイルである。以下の処理を行うプログラムを作成し、[popular-names.txt](/data/popular-names.txt)を入力ファイルとして実行せよ。さらに、同様の処理をUNIXコマンドでも実行し、プログラムの実行結果を確認せよ。"
      ]
    },
    {
      "cell_type": "markdown",
      "source": [
        "ローカルに保存されたpopular-names.txtをcolabにアップデート"
      ],
      "metadata": {
        "id": "zn1sftkqnl4C"
      },
      "id": "zn1sftkqnl4C"
    },
    {
      "cell_type": "code",
      "source": [
        "%pwd"
      ],
      "metadata": {
        "colab": {
          "base_uri": "https://localhost:8080/",
          "height": 35
        },
        "id": "gSjToAewnRMm",
        "outputId": "85064ce6-03e8-4a08-e430-23d331bf5a87"
      },
      "id": "gSjToAewnRMm",
      "execution_count": 2,
      "outputs": [
        {
          "output_type": "execute_result",
          "data": {
            "text/plain": [
              "'/content'"
            ],
            "application/vnd.google.colaboratory.intrinsic+json": {
              "type": "string"
            }
          },
          "metadata": {},
          "execution_count": 2
        }
      ]
    },
    {
      "cell_type": "markdown",
      "id": "d0cd8b46-ec72-459e-8cd4-285ac3601172",
      "metadata": {
        "editable": true,
        "id": "d0cd8b46-ec72-459e-8cd4-285ac3601172",
        "tags": []
      },
      "source": [
        "## 10. 行数のカウント\n",
        "ファイルの行数をカウントせよ。確認にはwcコマンドを用いよ。"
      ]
    },
    {
      "cell_type": "code",
      "source": [
        "with open('/content/popular-names.txt', 'r') as f:\n",
        "  print(len(f.readlines()))"
      ],
      "metadata": {
        "colab": {
          "base_uri": "https://localhost:8080/"
        },
        "id": "gxhYST8Ro5bH",
        "outputId": "a74436cf-ce24-4185-b34c-cc9d35bbb5e6"
      },
      "id": "gxhYST8Ro5bH",
      "execution_count": 3,
      "outputs": [
        {
          "output_type": "stream",
          "name": "stdout",
          "text": [
            "2780\n"
          ]
        }
      ]
    },
    {
      "cell_type": "code",
      "source": [
        "!wc -l /content/popular-names.txt"
      ],
      "metadata": {
        "colab": {
          "base_uri": "https://localhost:8080/"
        },
        "id": "tzjKv-f_nz3i",
        "outputId": "5f202df0-be81-426f-8554-75d640c5b8d4"
      },
      "id": "tzjKv-f_nz3i",
      "execution_count": 4,
      "outputs": [
        {
          "output_type": "stream",
          "name": "stdout",
          "text": [
            "2780 /content/popular-names.txt\n"
          ]
        }
      ]
    },
    {
      "cell_type": "markdown",
      "id": "275b8ac0-17a1-4df2-9287-efae1f0c6740",
      "metadata": {
        "id": "275b8ac0-17a1-4df2-9287-efae1f0c6740"
      },
      "source": [
        "## 11. 先頭からN行を出力\n",
        "ファイルの先頭N行だけを表示せよ。例えば、N=10として先頭10行を表示せよ。確認にはheadコマンドを用いよ。"
      ]
    },
    {
      "cell_type": "code",
      "source": [
        "with open('/content/popular-names.txt', 'r') as f:\n",
        "  lines = f.readlines()\n",
        "  print(''.join(lines[:10]))\n",
        "\n"
      ],
      "metadata": {
        "colab": {
          "base_uri": "https://localhost:8080/"
        },
        "id": "LVUpHdVyp1YV",
        "outputId": "de9c7d1e-341d-4cbc-e022-6d1651f5c4da"
      },
      "id": "LVUpHdVyp1YV",
      "execution_count": 5,
      "outputs": [
        {
          "output_type": "stream",
          "name": "stdout",
          "text": [
            "Mary\tF\t7065\t1880\n",
            "Anna\tF\t2604\t1880\n",
            "Emma\tF\t2003\t1880\n",
            "Elizabeth\tF\t1939\t1880\n",
            "Minnie\tF\t1746\t1880\n",
            "Margaret\tF\t1578\t1880\n",
            "Ida\tF\t1472\t1880\n",
            "Alice\tF\t1414\t1880\n",
            "Bertha\tF\t1320\t1880\n",
            "Sarah\tF\t1288\t1880\n",
            "\n"
          ]
        }
      ]
    },
    {
      "cell_type": "code",
      "source": [
        "!head -n 10 /content/popular-names.txt"
      ],
      "metadata": {
        "colab": {
          "base_uri": "https://localhost:8080/"
        },
        "id": "XmFQNfcFqTg-",
        "outputId": "92f1f867-2aa8-4770-a605-828dfd1ad3b7"
      },
      "id": "XmFQNfcFqTg-",
      "execution_count": 6,
      "outputs": [
        {
          "output_type": "stream",
          "name": "stdout",
          "text": [
            "Mary\tF\t7065\t1880\n",
            "Anna\tF\t2604\t1880\n",
            "Emma\tF\t2003\t1880\n",
            "Elizabeth\tF\t1939\t1880\n",
            "Minnie\tF\t1746\t1880\n",
            "Margaret\tF\t1578\t1880\n",
            "Ida\tF\t1472\t1880\n",
            "Alice\tF\t1414\t1880\n",
            "Bertha\tF\t1320\t1880\n",
            "Sarah\tF\t1288\t1880\n"
          ]
        }
      ]
    },
    {
      "cell_type": "markdown",
      "id": "b7606710-56c9-4aea-90c8-48e57c3c73df",
      "metadata": {
        "id": "b7606710-56c9-4aea-90c8-48e57c3c73df"
      },
      "source": [
        "## 12. 末尾のN行を出力\n",
        "ファイルの末尾N行だけを表示せよ。例えば、N=10として末尾10行を表示せよ。確認にはtailコマンドを用いよ。"
      ]
    },
    {
      "cell_type": "code",
      "source": [
        "with open('/content/popular-names.txt', 'r') as f:\n",
        "  lines = f.readlines()\n",
        "  print(''.join(lines[-10:]))"
      ],
      "metadata": {
        "colab": {
          "base_uri": "https://localhost:8080/"
        },
        "id": "6gqT3kEjqg0z",
        "outputId": "3e37988e-aded-4baa-c415-03d6a98d17e7"
      },
      "id": "6gqT3kEjqg0z",
      "execution_count": 7,
      "outputs": [
        {
          "output_type": "stream",
          "name": "stdout",
          "text": [
            "Liam\tM\t19837\t2018\n",
            "Noah\tM\t18267\t2018\n",
            "William\tM\t14516\t2018\n",
            "James\tM\t13525\t2018\n",
            "Oliver\tM\t13389\t2018\n",
            "Benjamin\tM\t13381\t2018\n",
            "Elijah\tM\t12886\t2018\n",
            "Lucas\tM\t12585\t2018\n",
            "Mason\tM\t12435\t2018\n",
            "Logan\tM\t12352\t2018\n",
            "\n"
          ]
        }
      ]
    },
    {
      "cell_type": "code",
      "source": [
        "!tail -n 10 /content/popular-names.txt"
      ],
      "metadata": {
        "colab": {
          "base_uri": "https://localhost:8080/"
        },
        "id": "HzplEYtI6f5x",
        "outputId": "1499c677-15b6-4743-9a67-3369a041a728"
      },
      "id": "HzplEYtI6f5x",
      "execution_count": 8,
      "outputs": [
        {
          "output_type": "stream",
          "name": "stdout",
          "text": [
            "Liam\tM\t19837\t2018\n",
            "Noah\tM\t18267\t2018\n",
            "William\tM\t14516\t2018\n",
            "James\tM\t13525\t2018\n",
            "Oliver\tM\t13389\t2018\n",
            "Benjamin\tM\t13381\t2018\n",
            "Elijah\tM\t12886\t2018\n",
            "Lucas\tM\t12585\t2018\n",
            "Mason\tM\t12435\t2018\n",
            "Logan\tM\t12352\t2018\n"
          ]
        }
      ]
    },
    {
      "cell_type": "markdown",
      "id": "6ce5a4f0-b73a-43a0-be8c-c78142882e5c",
      "metadata": {
        "id": "6ce5a4f0-b73a-43a0-be8c-c78142882e5c"
      },
      "source": [
        "## 13. タブをスペースに置換\n",
        "ファイルの先頭10行に対して、タブ1文字につきスペース1文字に置換して出力せよ。確認にはsedコマンド、trコマンド、もしくはexpandコマンドなどを用いよ。"
      ]
    },
    {
      "cell_type": "code",
      "source": [
        "with open('/content/popular-names.txt') as f:\n",
        "  lines = f.readlines()\n",
        "  firstten_lines = lines[:10]\n",
        "  modified_lines = [line.replace(\"\\t\", \" \") for line in firstten_lines]\n",
        "  print(''.join(modified_lines))\n"
      ],
      "metadata": {
        "id": "W6bvU2PW6yT8",
        "outputId": "ab2692fe-3568-4db5-a7d2-335a7c38c78b",
        "colab": {
          "base_uri": "https://localhost:8080/"
        }
      },
      "id": "W6bvU2PW6yT8",
      "execution_count": 9,
      "outputs": [
        {
          "output_type": "stream",
          "name": "stdout",
          "text": [
            "Mary F 7065 1880\n",
            "Anna F 2604 1880\n",
            "Emma F 2003 1880\n",
            "Elizabeth F 1939 1880\n",
            "Minnie F 1746 1880\n",
            "Margaret F 1578 1880\n",
            "Ida F 1472 1880\n",
            "Alice F 1414 1880\n",
            "Bertha F 1320 1880\n",
            "Sarah F 1288 1880\n",
            "\n"
          ]
        }
      ]
    },
    {
      "cell_type": "code",
      "source": [
        "!sed '1,10 s/\\t/ /g' /content/popular-names.txt | head -n 10"
      ],
      "metadata": {
        "id": "zNf236qt2giJ",
        "outputId": "1fe97b3e-f605-46d1-b7e9-7d1d0867940c",
        "colab": {
          "base_uri": "https://localhost:8080/"
        }
      },
      "id": "zNf236qt2giJ",
      "execution_count": 10,
      "outputs": [
        {
          "output_type": "stream",
          "name": "stdout",
          "text": [
            "Mary F 7065 1880\n",
            "Anna F 2604 1880\n",
            "Emma F 2003 1880\n",
            "Elizabeth F 1939 1880\n",
            "Minnie F 1746 1880\n",
            "Margaret F 1578 1880\n",
            "Ida F 1472 1880\n",
            "Alice F 1414 1880\n",
            "Bertha F 1320 1880\n",
            "Sarah F 1288 1880\n"
          ]
        }
      ]
    },
    {
      "cell_type": "markdown",
      "id": "eaef4ffb-c436-41ab-a649-e4d5fd385a76",
      "metadata": {
        "id": "eaef4ffb-c436-41ab-a649-e4d5fd385a76"
      },
      "source": [
        "## 14. 1列目を出力\n",
        "ファイルの先頭10行に対して、各行の1列目だけを抜き出して表示せよ。確認にはcutコマンドなどを用いよ。"
      ]
    },
    {
      "cell_type": "code",
      "source": [
        "with open('/content/popular-names.txt') as f:\n",
        "  lines = f.readlines()\n",
        "  firstten_lines = lines[:10]\n",
        "  for line in firstten_lines:\n",
        "    first_column = line.split()[0]\n",
        "    print(first_column)\n"
      ],
      "metadata": {
        "id": "b_2ntkcN4sEy",
        "outputId": "a38c4573-43ec-494b-dd72-2ac1f9a5c9fe",
        "colab": {
          "base_uri": "https://localhost:8080/"
        }
      },
      "id": "b_2ntkcN4sEy",
      "execution_count": 11,
      "outputs": [
        {
          "output_type": "stream",
          "name": "stdout",
          "text": [
            "Mary\n",
            "Anna\n",
            "Emma\n",
            "Elizabeth\n",
            "Minnie\n",
            "Margaret\n",
            "Ida\n",
            "Alice\n",
            "Bertha\n",
            "Sarah\n"
          ]
        }
      ]
    },
    {
      "cell_type": "code",
      "source": [
        "!cut -f 1 /content/popular-names.txt | head -n 10"
      ],
      "metadata": {
        "id": "CU7E1S9tCxZR",
        "outputId": "1e7322a9-2a78-4a42-970a-8177ac772355",
        "colab": {
          "base_uri": "https://localhost:8080/"
        }
      },
      "id": "CU7E1S9tCxZR",
      "execution_count": 12,
      "outputs": [
        {
          "output_type": "stream",
          "name": "stdout",
          "text": [
            "Mary\n",
            "Anna\n",
            "Emma\n",
            "Elizabeth\n",
            "Minnie\n",
            "Margaret\n",
            "Ida\n",
            "Alice\n",
            "Bertha\n",
            "Sarah\n"
          ]
        }
      ]
    },
    {
      "cell_type": "markdown",
      "id": "00c76a76-98bc-4ccc-918d-459b8d7954cf",
      "metadata": {
        "id": "00c76a76-98bc-4ccc-918d-459b8d7954cf"
      },
      "source": [
        "## 15. ファイルをN分割する\n",
        "ファイルを行単位でN分割し、別のファイルに格納せよ。例えば、N=10としてファイルを10分割せよ。同様の処理をsplitコマンドで実現せよ。"
      ]
    },
    {
      "cell_type": "code",
      "source": [
        "!mkdir chunk"
      ],
      "metadata": {
        "id": "DId6DzYupeyx"
      },
      "id": "DId6DzYupeyx",
      "execution_count": 14,
      "outputs": []
    },
    {
      "cell_type": "code",
      "source": [
        "with open('/content/popular-names.txt') as f:\n",
        "  lines = f.readlines()\n",
        "  n = 10\n",
        "  size = len(lines) // n\n",
        "\n",
        "  for i in range(n):\n",
        "    start = i * size\n",
        "    end = (i + 1) * size\n",
        "\n",
        "    with open(f'/content/chunk/chunk{i+1}.txt', 'w') as f_out:\n",
        "      f_out.writelines(lines[start:end])\n"
      ],
      "metadata": {
        "id": "tpActoXmELNE"
      },
      "id": "tpActoXmELNE",
      "execution_count": 15,
      "outputs": []
    },
    {
      "cell_type": "code",
      "source": [
        "!mkdir -p /content/chunk2\n",
        "!split -n l/10 /content/popular-names.txt /content/chunk2/bunkatsu_"
      ],
      "metadata": {
        "id": "arU5dZn5HTIy"
      },
      "id": "arU5dZn5HTIy",
      "execution_count": 16,
      "outputs": []
    },
    {
      "cell_type": "markdown",
      "id": "bc88859b-8a4d-4028-9aa4-684ab5ad9797",
      "metadata": {
        "id": "bc88859b-8a4d-4028-9aa4-684ab5ad9797"
      },
      "source": [
        "## 16. ランダムに各行を並び替える\n",
        "ファイルを行単位でランダムに並び替えよ（注意: 各行の内容は変更せずに並び替えよ）。同様の処理をshufコマンドで実現せよ。"
      ]
    },
    {
      "cell_type": "code",
      "source": [
        "import random\n",
        "\n",
        "\n",
        "with open('/content/popular-names.txt', 'r') as f:\n",
        "    lines = f.readlines()\n",
        "\n",
        "random.shuffle(lines)\n",
        "\n",
        "with open('/content/popular-names-shuffled.txt', 'w') as f:\n",
        "    f.writelines(lines)"
      ],
      "metadata": {
        "id": "Ufz4XcleVII7"
      },
      "id": "Ufz4XcleVII7",
      "execution_count": 17,
      "outputs": []
    },
    {
      "cell_type": "code",
      "source": [],
      "metadata": {
        "id": "PnACPxcrVojZ"
      },
      "id": "PnACPxcrVojZ",
      "execution_count": null,
      "outputs": []
    },
    {
      "cell_type": "markdown",
      "id": "1041d23d-1a44-49c3-b95a-223fa9e3d3ae",
      "metadata": {
        "id": "1041d23d-1a44-49c3-b95a-223fa9e3d3ae"
      },
      "source": [
        "## 17. １列目の文字列の異なり\n",
        "1列目の文字列の異なり（文字列の種類）を求めよ。確認にはcut, sort, uniqコマンドを用いよ。"
      ]
    },
    {
      "cell_type": "markdown",
      "id": "3f5363e2-d751-40cc-958c-86d8b185089d",
      "metadata": {
        "id": "3f5363e2-d751-40cc-958c-86d8b185089d"
      },
      "source": [
        "## 18. 各行の1列目の文字列の出現頻度を求め、出現頻度の高い順に並べる\n",
        "1列目の文字列の出現頻度を求め、出現頻度と名前を出現頻度の多い順に並べて表示せよ。確認にはcut, uniq, sortコマンドを用いよ。"
      ]
    },
    {
      "cell_type": "markdown",
      "id": "5ea1c928-6748-4f02-9e65-2110655b30d8",
      "metadata": {
        "id": "5ea1c928-6748-4f02-9e65-2110655b30d8"
      },
      "source": [
        "## 19. 3列目の数値の降順に各行を並び替える\n",
        "3列目の数値の逆順でファイルの各行を整列せよ（注意: 各行の内容は変更せずに並び替えよ）。同様の処理をsortコマンドで実現せよ。"
      ]
    }
  ],
  "metadata": {
    "colab": {
      "provenance": []
    },
    "kernelspec": {
      "display_name": "Python 3 (ipykernel)",
      "language": "python",
      "name": "python3"
    },
    "language_info": {
      "codemirror_mode": {
        "name": "ipython",
        "version": 3
      },
      "file_extension": ".py",
      "mimetype": "text/x-python",
      "name": "python",
      "nbconvert_exporter": "python",
      "pygments_lexer": "ipython3",
      "version": "3.12.3"
    }
  },
  "nbformat": 4,
  "nbformat_minor": 5
}
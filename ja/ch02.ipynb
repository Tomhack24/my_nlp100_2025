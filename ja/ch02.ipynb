{
  "cells": [
    {
      "cell_type": "markdown",
      "id": "38daedde-589c-4cac-bf43-2b13485898cb",
      "metadata": {
        "editable": true,
        "id": "38daedde-589c-4cac-bf43-2b13485898cb",
        "tags": []
      },
      "source": [
        "# 第2章: UNIXコマンド\n",
        "\n",
        "[popular-names.txt](/data/popular-names.txt)は、アメリカで生まれた赤ちゃんの「名前」「性別」「人数」「年」をタブ区切り形式で格納したファイルである。以下の処理を行うプログラムを作成し、[popular-names.txt](/data/popular-names.txt)を入力ファイルとして実行せよ。さらに、同様の処理をUNIXコマンドでも実行し、プログラムの実行結果を確認せよ。"
      ]
    },
    {
      "cell_type": "markdown",
      "source": [
        "ローカルに保存されたpopular-names.txtをcolabにアップデート"
      ],
      "metadata": {
        "id": "zn1sftkqnl4C"
      },
      "id": "zn1sftkqnl4C"
    },
    {
      "cell_type": "code",
      "source": [
        "%pwd"
      ],
      "metadata": {
        "colab": {
          "base_uri": "https://localhost:8080/",
          "height": 35
        },
        "id": "gSjToAewnRMm",
        "outputId": "f2d2797f-8c1c-4a0b-830e-028feb575977"
      },
      "id": "gSjToAewnRMm",
      "execution_count": 1,
      "outputs": [
        {
          "output_type": "execute_result",
          "data": {
            "text/plain": [
              "'/content'"
            ],
            "application/vnd.google.colaboratory.intrinsic+json": {
              "type": "string"
            }
          },
          "metadata": {},
          "execution_count": 1
        }
      ]
    },
    {
      "cell_type": "markdown",
      "id": "d0cd8b46-ec72-459e-8cd4-285ac3601172",
      "metadata": {
        "editable": true,
        "id": "d0cd8b46-ec72-459e-8cd4-285ac3601172",
        "tags": []
      },
      "source": [
        "## 10. 行数のカウント\n",
        "ファイルの行数をカウントせよ。確認にはwcコマンドを用いよ。"
      ]
    },
    {
      "cell_type": "code",
      "source": [
        "with open('/content/popular-names.txt', 'r') as f:\n",
        "  print(len(f.readlines()))"
      ],
      "metadata": {
        "colab": {
          "base_uri": "https://localhost:8080/"
        },
        "id": "gxhYST8Ro5bH",
        "outputId": "db7b707e-b205-43e2-ef44-b34951b8332f"
      },
      "id": "gxhYST8Ro5bH",
      "execution_count": 2,
      "outputs": [
        {
          "output_type": "stream",
          "name": "stdout",
          "text": [
            "2780\n"
          ]
        }
      ]
    },
    {
      "cell_type": "code",
      "source": [
        "!wc -l /content/popular-names.txt"
      ],
      "metadata": {
        "colab": {
          "base_uri": "https://localhost:8080/"
        },
        "id": "tzjKv-f_nz3i",
        "outputId": "eeb5a7dc-2391-49a6-c5dd-5e7b51d68c1d"
      },
      "id": "tzjKv-f_nz3i",
      "execution_count": 3,
      "outputs": [
        {
          "output_type": "stream",
          "name": "stdout",
          "text": [
            "2780 /content/popular-names.txt\n"
          ]
        }
      ]
    },
    {
      "cell_type": "markdown",
      "id": "275b8ac0-17a1-4df2-9287-efae1f0c6740",
      "metadata": {
        "id": "275b8ac0-17a1-4df2-9287-efae1f0c6740"
      },
      "source": [
        "## 11. 先頭からN行を出力\n",
        "ファイルの先頭N行だけを表示せよ。例えば、N=10として先頭10行を表示せよ。確認にはheadコマンドを用いよ。"
      ]
    },
    {
      "cell_type": "code",
      "source": [
        "with open('/content/popular-names.txt', 'r') as f:\n",
        "  lines = f.readlines()\n",
        "  print(''.join(lines[:10]))\n",
        "\n"
      ],
      "metadata": {
        "colab": {
          "base_uri": "https://localhost:8080/"
        },
        "id": "LVUpHdVyp1YV",
        "outputId": "d3aacf14-2896-4aca-fe37-b088098f5642"
      },
      "id": "LVUpHdVyp1YV",
      "execution_count": 4,
      "outputs": [
        {
          "output_type": "stream",
          "name": "stdout",
          "text": [
            "Mary\tF\t7065\t1880\n",
            "Anna\tF\t2604\t1880\n",
            "Emma\tF\t2003\t1880\n",
            "Elizabeth\tF\t1939\t1880\n",
            "Minnie\tF\t1746\t1880\n",
            "Margaret\tF\t1578\t1880\n",
            "Ida\tF\t1472\t1880\n",
            "Alice\tF\t1414\t1880\n",
            "Bertha\tF\t1320\t1880\n",
            "Sarah\tF\t1288\t1880\n",
            "\n"
          ]
        }
      ]
    },
    {
      "cell_type": "code",
      "source": [
        "!head -n 10 /content/popular-names.txt"
      ],
      "metadata": {
        "colab": {
          "base_uri": "https://localhost:8080/"
        },
        "id": "XmFQNfcFqTg-",
        "outputId": "de55d248-daff-43a3-ea96-b77f63aa9ae5"
      },
      "id": "XmFQNfcFqTg-",
      "execution_count": 5,
      "outputs": [
        {
          "output_type": "stream",
          "name": "stdout",
          "text": [
            "Mary\tF\t7065\t1880\n",
            "Anna\tF\t2604\t1880\n",
            "Emma\tF\t2003\t1880\n",
            "Elizabeth\tF\t1939\t1880\n",
            "Minnie\tF\t1746\t1880\n",
            "Margaret\tF\t1578\t1880\n",
            "Ida\tF\t1472\t1880\n",
            "Alice\tF\t1414\t1880\n",
            "Bertha\tF\t1320\t1880\n",
            "Sarah\tF\t1288\t1880\n"
          ]
        }
      ]
    },
    {
      "cell_type": "markdown",
      "id": "b7606710-56c9-4aea-90c8-48e57c3c73df",
      "metadata": {
        "id": "b7606710-56c9-4aea-90c8-48e57c3c73df"
      },
      "source": [
        "## 12. 末尾のN行を出力\n",
        "ファイルの末尾N行だけを表示せよ。例えば、N=10として末尾10行を表示せよ。確認にはtailコマンドを用いよ。"
      ]
    },
    {
      "cell_type": "code",
      "source": [
        "with open('/content/popular-names.txt', 'r') as f:\n",
        "  lines = f.readlines()\n",
        "  print(''.join(lines[-10:]))"
      ],
      "metadata": {
        "colab": {
          "base_uri": "https://localhost:8080/"
        },
        "id": "6gqT3kEjqg0z",
        "outputId": "ab6e8e66-a1dd-46a5-f469-99288a6b69ac"
      },
      "id": "6gqT3kEjqg0z",
      "execution_count": 6,
      "outputs": [
        {
          "output_type": "stream",
          "name": "stdout",
          "text": [
            "Liam\tM\t19837\t2018\n",
            "Noah\tM\t18267\t2018\n",
            "William\tM\t14516\t2018\n",
            "James\tM\t13525\t2018\n",
            "Oliver\tM\t13389\t2018\n",
            "Benjamin\tM\t13381\t2018\n",
            "Elijah\tM\t12886\t2018\n",
            "Lucas\tM\t12585\t2018\n",
            "Mason\tM\t12435\t2018\n",
            "Logan\tM\t12352\t2018\n",
            "\n"
          ]
        }
      ]
    },
    {
      "cell_type": "code",
      "source": [
        "!tail -n 10 /content/popular-names.txt"
      ],
      "metadata": {
        "colab": {
          "base_uri": "https://localhost:8080/"
        },
        "id": "HzplEYtI6f5x",
        "outputId": "296df3e0-8407-4560-ed9f-267aea5006eb"
      },
      "id": "HzplEYtI6f5x",
      "execution_count": 7,
      "outputs": [
        {
          "output_type": "stream",
          "name": "stdout",
          "text": [
            "Liam\tM\t19837\t2018\n",
            "Noah\tM\t18267\t2018\n",
            "William\tM\t14516\t2018\n",
            "James\tM\t13525\t2018\n",
            "Oliver\tM\t13389\t2018\n",
            "Benjamin\tM\t13381\t2018\n",
            "Elijah\tM\t12886\t2018\n",
            "Lucas\tM\t12585\t2018\n",
            "Mason\tM\t12435\t2018\n",
            "Logan\tM\t12352\t2018\n"
          ]
        }
      ]
    },
    {
      "cell_type": "markdown",
      "id": "6ce5a4f0-b73a-43a0-be8c-c78142882e5c",
      "metadata": {
        "id": "6ce5a4f0-b73a-43a0-be8c-c78142882e5c"
      },
      "source": [
        "## 13. タブをスペースに置換\n",
        "ファイルの先頭10行に対して、タブ1文字につきスペース1文字に置換して出力せよ。確認にはsedコマンド、trコマンド、もしくはexpandコマンドなどを用いよ。"
      ]
    },
    {
      "cell_type": "code",
      "source": [
        "with open('/content/popular-names.txt') as f:\n",
        "  lines = f.readlines()\n",
        "  firstten_lines = lines[:10]\n",
        "  modified_lines = [line.replace(\"\\t\", \" \") for line in firstten_lines]\n",
        "  print(''.join(modified_lines))\n"
      ],
      "metadata": {
        "id": "W6bvU2PW6yT8",
        "outputId": "075f5b6d-9c82-47d5-96af-3892126ff997",
        "colab": {
          "base_uri": "https://localhost:8080/"
        }
      },
      "id": "W6bvU2PW6yT8",
      "execution_count": 8,
      "outputs": [
        {
          "output_type": "stream",
          "name": "stdout",
          "text": [
            "Mary F 7065 1880\n",
            "Anna F 2604 1880\n",
            "Emma F 2003 1880\n",
            "Elizabeth F 1939 1880\n",
            "Minnie F 1746 1880\n",
            "Margaret F 1578 1880\n",
            "Ida F 1472 1880\n",
            "Alice F 1414 1880\n",
            "Bertha F 1320 1880\n",
            "Sarah F 1288 1880\n",
            "\n"
          ]
        }
      ]
    },
    {
      "cell_type": "code",
      "source": [
        "!sed '1,10 s/\\t/ /g' /content/popular-names.txt | head -n 10"
      ],
      "metadata": {
        "id": "zNf236qt2giJ",
        "outputId": "3198843c-2699-4ed8-9c09-3dff5b456c6c",
        "colab": {
          "base_uri": "https://localhost:8080/"
        }
      },
      "id": "zNf236qt2giJ",
      "execution_count": 9,
      "outputs": [
        {
          "output_type": "stream",
          "name": "stdout",
          "text": [
            "Mary F 7065 1880\n",
            "Anna F 2604 1880\n",
            "Emma F 2003 1880\n",
            "Elizabeth F 1939 1880\n",
            "Minnie F 1746 1880\n",
            "Margaret F 1578 1880\n",
            "Ida F 1472 1880\n",
            "Alice F 1414 1880\n",
            "Bertha F 1320 1880\n",
            "Sarah F 1288 1880\n"
          ]
        }
      ]
    },
    {
      "cell_type": "markdown",
      "id": "eaef4ffb-c436-41ab-a649-e4d5fd385a76",
      "metadata": {
        "id": "eaef4ffb-c436-41ab-a649-e4d5fd385a76"
      },
      "source": [
        "## 14. 1列目を出力\n",
        "ファイルの先頭10行に対して、各行の1列目だけを抜き出して表示せよ。確認にはcutコマンドなどを用いよ。"
      ]
    },
    {
      "cell_type": "code",
      "source": [
        "with open('/content/popular-names.txt') as f:\n",
        "  lines = f.readlines()\n",
        "  firstten_lines = lines[:10]\n",
        "  for line in firstten_lines:\n",
        "    first_column = line.split()[0]\n",
        "    print(first_column)\n"
      ],
      "metadata": {
        "id": "b_2ntkcN4sEy",
        "outputId": "4fb1b189-fbb2-4bac-f069-42ae3cdfc0a7",
        "colab": {
          "base_uri": "https://localhost:8080/"
        }
      },
      "id": "b_2ntkcN4sEy",
      "execution_count": 10,
      "outputs": [
        {
          "output_type": "stream",
          "name": "stdout",
          "text": [
            "Mary\n",
            "Anna\n",
            "Emma\n",
            "Elizabeth\n",
            "Minnie\n",
            "Margaret\n",
            "Ida\n",
            "Alice\n",
            "Bertha\n",
            "Sarah\n"
          ]
        }
      ]
    },
    {
      "cell_type": "code",
      "source": [
        "!cut -f 1 /content/popular-names.txt | head -n 10"
      ],
      "metadata": {
        "id": "CU7E1S9tCxZR",
        "outputId": "79da74bf-5b41-44bd-c3ea-f0fafbbe9e7f",
        "colab": {
          "base_uri": "https://localhost:8080/"
        }
      },
      "id": "CU7E1S9tCxZR",
      "execution_count": 11,
      "outputs": [
        {
          "output_type": "stream",
          "name": "stdout",
          "text": [
            "Mary\n",
            "Anna\n",
            "Emma\n",
            "Elizabeth\n",
            "Minnie\n",
            "Margaret\n",
            "Ida\n",
            "Alice\n",
            "Bertha\n",
            "Sarah\n"
          ]
        }
      ]
    },
    {
      "cell_type": "markdown",
      "id": "00c76a76-98bc-4ccc-918d-459b8d7954cf",
      "metadata": {
        "id": "00c76a76-98bc-4ccc-918d-459b8d7954cf"
      },
      "source": [
        "## 15. ファイルをN分割する\n",
        "ファイルを行単位でN分割し、別のファイルに格納せよ。例えば、N=10としてファイルを10分割せよ。同様の処理をsplitコマンドで実現せよ。"
      ]
    },
    {
      "cell_type": "code",
      "source": [
        "!mkdir chunk"
      ],
      "metadata": {
        "id": "DId6DzYupeyx"
      },
      "id": "DId6DzYupeyx",
      "execution_count": 12,
      "outputs": []
    },
    {
      "cell_type": "code",
      "source": [
        "with open('/content/popular-names.txt') as f:\n",
        "  lines = f.readlines()\n",
        "  n = 10\n",
        "  size = len(lines) // n\n",
        "\n",
        "  for i in range(n):\n",
        "    start = i * size\n",
        "    end = (i + 1) * size\n",
        "\n",
        "    with open(f'/content/chunk/chunk{i+1}.txt', 'w') as f_out:\n",
        "      f_out.writelines(lines[start:end])\n"
      ],
      "metadata": {
        "id": "tpActoXmELNE"
      },
      "id": "tpActoXmELNE",
      "execution_count": 13,
      "outputs": []
    },
    {
      "cell_type": "code",
      "source": [
        "!mkdir -p /content/chunk2\n",
        "!split -n l/10 /content/popular-names.txt /content/chunk2/bunkatsu_"
      ],
      "metadata": {
        "id": "arU5dZn5HTIy"
      },
      "id": "arU5dZn5HTIy",
      "execution_count": 14,
      "outputs": []
    },
    {
      "cell_type": "markdown",
      "id": "bc88859b-8a4d-4028-9aa4-684ab5ad9797",
      "metadata": {
        "id": "bc88859b-8a4d-4028-9aa4-684ab5ad9797"
      },
      "source": [
        "## 16. ランダムに各行を並び替える\n",
        "ファイルを行単位でランダムに並び替えよ（注意: 各行の内容は変更せずに並び替えよ）。同様の処理をshufコマンドで実現せよ。"
      ]
    },
    {
      "cell_type": "code",
      "source": [
        "import random\n",
        "\n",
        "\n",
        "with open('/content/popular-names.txt', 'r') as f:\n",
        "    lines = f.readlines()\n",
        "\n",
        "random.shuffle(lines)\n",
        "\n",
        "with open('/content/popular-names-shuffled.txt', 'w') as f:\n",
        "    f.writelines(lines)"
      ],
      "metadata": {
        "id": "Ufz4XcleVII7"
      },
      "id": "Ufz4XcleVII7",
      "execution_count": 15,
      "outputs": []
    },
    {
      "cell_type": "markdown",
      "id": "1041d23d-1a44-49c3-b95a-223fa9e3d3ae",
      "metadata": {
        "id": "1041d23d-1a44-49c3-b95a-223fa9e3d3ae"
      },
      "source": [
        "## 17. １列目の文字列の異なり\n",
        "1列目の文字列の異なり（文字列の種類）を求めよ。確認にはcut, sort, uniqコマンドを用いよ。"
      ]
    },
    {
      "cell_type": "code",
      "source": [
        "with open('/content/popular-names.txt', 'r') as f:\n",
        "  names = []\n",
        "\n",
        "  for line in f:\n",
        "\n",
        "    data = line.split('\\t')\n",
        "    name = data[0]\n",
        "    names.append(name)\n",
        "\n",
        "kotaetachi = sorted(set(names))\n",
        "for kotae in kotaetachi:\n",
        "  print(kotae)\n"
      ],
      "metadata": {
        "collapsed": true,
        "id": "wHj3Dl2JLr1K",
        "outputId": "7032c0e7-6f8e-4344-93df-d393a114b1e6",
        "colab": {
          "base_uri": "https://localhost:8080/"
        }
      },
      "id": "wHj3Dl2JLr1K",
      "execution_count": 33,
      "outputs": [
        {
          "output_type": "stream",
          "name": "stdout",
          "text": [
            "Abigail\n",
            "Aiden\n",
            "Alexander\n",
            "Alexis\n",
            "Alice\n",
            "Amanda\n",
            "Amelia\n",
            "Amy\n",
            "Andrew\n",
            "Angela\n",
            "Anna\n",
            "Annie\n",
            "Anthony\n",
            "Ashley\n",
            "Austin\n",
            "Ava\n",
            "Barbara\n",
            "Benjamin\n",
            "Bertha\n",
            "Bessie\n",
            "Betty\n",
            "Brandon\n",
            "Brian\n",
            "Brittany\n",
            "Carol\n",
            "Carolyn\n",
            "Charles\n",
            "Charlotte\n",
            "Chloe\n",
            "Christopher\n",
            "Clara\n",
            "Crystal\n",
            "Cynthia\n",
            "Daniel\n",
            "David\n",
            "Deborah\n",
            "Debra\n",
            "Donald\n",
            "Donna\n",
            "Doris\n",
            "Dorothy\n",
            "Edward\n",
            "Elijah\n",
            "Elizabeth\n",
            "Emily\n",
            "Emma\n",
            "Ethan\n",
            "Ethel\n",
            "Evelyn\n",
            "Florence\n",
            "Frances\n",
            "Frank\n",
            "Gary\n",
            "George\n",
            "Hannah\n",
            "Harper\n",
            "Harry\n",
            "Heather\n",
            "Helen\n",
            "Henry\n",
            "Ida\n",
            "Isabella\n",
            "Jacob\n",
            "James\n",
            "Jason\n",
            "Jayden\n",
            "Jeffrey\n",
            "Jennifer\n",
            "Jessica\n",
            "Joan\n",
            "John\n",
            "Joseph\n",
            "Joshua\n",
            "Judith\n",
            "Julie\n",
            "Justin\n",
            "Karen\n",
            "Kathleen\n",
            "Kelly\n",
            "Kimberly\n",
            "Larry\n",
            "Laura\n",
            "Lauren\n",
            "Liam\n",
            "Lillian\n",
            "Linda\n",
            "Lisa\n",
            "Logan\n",
            "Lori\n",
            "Lucas\n",
            "Madison\n",
            "Margaret\n",
            "Marie\n",
            "Mark\n",
            "Mary\n",
            "Mason\n",
            "Matthew\n",
            "Megan\n",
            "Melissa\n",
            "Mia\n",
            "Michael\n",
            "Michelle\n",
            "Mildred\n",
            "Minnie\n",
            "Nancy\n",
            "Nicholas\n",
            "Nicole\n",
            "Noah\n",
            "Oliver\n",
            "Olivia\n",
            "Pamela\n",
            "Patricia\n",
            "Rachel\n",
            "Rebecca\n",
            "Richard\n",
            "Robert\n",
            "Ronald\n",
            "Ruth\n",
            "Samantha\n",
            "Sandra\n",
            "Sarah\n",
            "Scott\n",
            "Sharon\n",
            "Shirley\n",
            "Sophia\n",
            "Stephanie\n",
            "Steven\n",
            "Susan\n",
            "Tammy\n",
            "Taylor\n",
            "Thomas\n",
            "Tracy\n",
            "Tyler\n",
            "Virginia\n",
            "Walter\n",
            "William\n"
          ]
        }
      ]
    },
    {
      "cell_type": "code",
      "source": [
        "!cut -f 1 /content/popular-names.txt | sort | uniq"
      ],
      "metadata": {
        "collapsed": true,
        "id": "xOYKxqadLXWh",
        "outputId": "4c5da283-44ac-4e51-a095-c2b51f9d0d1c",
        "colab": {
          "base_uri": "https://localhost:8080/"
        }
      },
      "id": "xOYKxqadLXWh",
      "execution_count": 27,
      "outputs": [
        {
          "output_type": "stream",
          "name": "stdout",
          "text": [
            "Abigail\n",
            "Aiden\n",
            "Alexander\n",
            "Alexis\n",
            "Alice\n",
            "Amanda\n",
            "Amelia\n",
            "Amy\n",
            "Andrew\n",
            "Angela\n",
            "Anna\n",
            "Annie\n",
            "Anthony\n",
            "Ashley\n",
            "Austin\n",
            "Ava\n",
            "Barbara\n",
            "Benjamin\n",
            "Bertha\n",
            "Bessie\n",
            "Betty\n",
            "Brandon\n",
            "Brian\n",
            "Brittany\n",
            "Carol\n",
            "Carolyn\n",
            "Charles\n",
            "Charlotte\n",
            "Chloe\n",
            "Christopher\n",
            "Clara\n",
            "Crystal\n",
            "Cynthia\n",
            "Daniel\n",
            "David\n",
            "Deborah\n",
            "Debra\n",
            "Donald\n",
            "Donna\n",
            "Doris\n",
            "Dorothy\n",
            "Edward\n",
            "Elijah\n",
            "Elizabeth\n",
            "Emily\n",
            "Emma\n",
            "Ethan\n",
            "Ethel\n",
            "Evelyn\n",
            "Florence\n",
            "Frances\n",
            "Frank\n",
            "Gary\n",
            "George\n",
            "Hannah\n",
            "Harper\n",
            "Harry\n",
            "Heather\n",
            "Helen\n",
            "Henry\n",
            "Ida\n",
            "Isabella\n",
            "Jacob\n",
            "James\n",
            "Jason\n",
            "Jayden\n",
            "Jeffrey\n",
            "Jennifer\n",
            "Jessica\n",
            "Joan\n",
            "John\n",
            "Joseph\n",
            "Joshua\n",
            "Judith\n",
            "Julie\n",
            "Justin\n",
            "Karen\n",
            "Kathleen\n",
            "Kelly\n",
            "Kimberly\n",
            "Larry\n",
            "Laura\n",
            "Lauren\n",
            "Liam\n",
            "Lillian\n",
            "Linda\n",
            "Lisa\n",
            "Logan\n",
            "Lori\n",
            "Lucas\n",
            "Madison\n",
            "Margaret\n",
            "Marie\n",
            "Mark\n",
            "Mary\n",
            "Mason\n",
            "Matthew\n",
            "Megan\n",
            "Melissa\n",
            "Mia\n",
            "Michael\n",
            "Michelle\n",
            "Mildred\n",
            "Minnie\n",
            "Nancy\n",
            "Nicholas\n",
            "Nicole\n",
            "Noah\n",
            "Oliver\n",
            "Olivia\n",
            "Pamela\n",
            "Patricia\n",
            "Rachel\n",
            "Rebecca\n",
            "Richard\n",
            "Robert\n",
            "Ronald\n",
            "Ruth\n",
            "Samantha\n",
            "Sandra\n",
            "Sarah\n",
            "Scott\n",
            "Sharon\n",
            "Shirley\n",
            "Sophia\n",
            "Stephanie\n",
            "Steven\n",
            "Susan\n",
            "Tammy\n",
            "Taylor\n",
            "Thomas\n",
            "Tracy\n",
            "Tyler\n",
            "Virginia\n",
            "Walter\n",
            "William\n"
          ]
        }
      ]
    },
    {
      "cell_type": "markdown",
      "id": "3f5363e2-d751-40cc-958c-86d8b185089d",
      "metadata": {
        "id": "3f5363e2-d751-40cc-958c-86d8b185089d"
      },
      "source": [
        "## 18. 各行の1列目の文字列の出現頻度を求め、出現頻度の高い順に並べる\n",
        "1列目の文字列の出現頻度を求め、出現頻度と名前を出現頻度の多い順に並べて表示せよ。確認にはcut, uniq, sortコマンドを用いよ。"
      ]
    },
    {
      "cell_type": "code",
      "source": [
        "from collections import Counter\n",
        "\n",
        "with open(\"/content/popular-names.txt\") as f:\n",
        "  names = []\n",
        "\n",
        "  for line in f:\n",
        "\n",
        "    data = line.split('\\t')\n",
        "    name = data[0]\n",
        "    names.append(name)\n",
        "\n",
        "counts = Counter(names)\n",
        "\n",
        "\n",
        "for name, count in counts.most_common():\n",
        "  print(str(name) + '\\t' + str(count))\n",
        "\n"
      ],
      "metadata": {
        "colab": {
          "base_uri": "https://localhost:8080/"
        },
        "id": "T1Xh6Mz737PR",
        "outputId": "37370fd9-9453-42d6-c3ed-1ea5f933d6f4"
      },
      "id": "T1Xh6Mz737PR",
      "execution_count": 22,
      "outputs": [
        {
          "output_type": "stream",
          "name": "stdout",
          "text": [
            "James\t118\n",
            "William\t111\n",
            "John\t108\n",
            "Robert\t108\n",
            "Mary\t92\n",
            "Charles\t75\n",
            "Michael\t74\n",
            "Elizabeth\t73\n",
            "Joseph\t70\n",
            "Margaret\t60\n",
            "George\t58\n",
            "Thomas\t58\n",
            "David\t57\n",
            "Richard\t51\n",
            "Helen\t45\n",
            "Frank\t43\n",
            "Christopher\t43\n",
            "Anna\t41\n",
            "Edward\t40\n",
            "Ruth\t39\n",
            "Patricia\t38\n",
            "Matthew\t37\n",
            "Dorothy\t36\n",
            "Emma\t35\n",
            "Barbara\t32\n",
            "Daniel\t31\n",
            "Joshua\t31\n",
            "Sarah\t26\n",
            "Linda\t26\n",
            "Jennifer\t26\n",
            "Emily\t26\n",
            "Jessica\t25\n",
            "Jacob\t25\n",
            "Mildred\t24\n",
            "Betty\t24\n",
            "Susan\t24\n",
            "Henry\t23\n",
            "Ashley\t23\n",
            "Nancy\t22\n",
            "Andrew\t21\n",
            "Florence\t20\n",
            "Marie\t20\n",
            "Donald\t20\n",
            "Amanda\t20\n",
            "Samantha\t19\n",
            "Karen\t18\n",
            "Lisa\t18\n",
            "Melissa\t18\n",
            "Madison\t18\n",
            "Olivia\t18\n",
            "Stephanie\t17\n",
            "Abigail\t17\n",
            "Ethel\t16\n",
            "Sandra\t16\n",
            "Mark\t16\n",
            "Frances\t15\n",
            "Carol\t15\n",
            "Angela\t15\n",
            "Michelle\t15\n",
            "Heather\t15\n",
            "Ethan\t15\n",
            "Isabella\t15\n",
            "Shirley\t14\n",
            "Kimberly\t14\n",
            "Amy\t14\n",
            "Ava\t14\n",
            "Virginia\t13\n",
            "Deborah\t13\n",
            "Brian\t13\n",
            "Jason\t13\n",
            "Nicole\t13\n",
            "Hannah\t13\n",
            "Sophia\t13\n",
            "Minnie\t12\n",
            "Bertha\t12\n",
            "Donna\t12\n",
            "Cynthia\t11\n",
            "Alice\t10\n",
            "Doris\t10\n",
            "Ronald\t10\n",
            "Brittany\t10\n",
            "Nicholas\t10\n",
            "Mia\t10\n",
            "Noah\t10\n",
            "Joan\t9\n",
            "Debra\t9\n",
            "Tyler\t9\n",
            "Ida\t8\n",
            "Clara\t8\n",
            "Judith\t8\n",
            "Taylor\t8\n",
            "Alexis\t8\n",
            "Alexander\t8\n",
            "Mason\t8\n",
            "Harry\t7\n",
            "Sharon\t7\n",
            "Steven\t7\n",
            "Tammy\t7\n",
            "Brandon\t7\n",
            "Liam\t7\n",
            "Anthony\t6\n",
            "Annie\t5\n",
            "Gary\t5\n",
            "Jeffrey\t5\n",
            "Jayden\t5\n",
            "Charlotte\t5\n",
            "Lillian\t4\n",
            "Kathleen\t4\n",
            "Justin\t4\n",
            "Austin\t4\n",
            "Chloe\t4\n",
            "Benjamin\t4\n",
            "Evelyn\t3\n",
            "Megan\t3\n",
            "Aiden\t3\n",
            "Harper\t3\n",
            "Elijah\t3\n",
            "Bessie\t2\n",
            "Larry\t2\n",
            "Rebecca\t2\n",
            "Lauren\t2\n",
            "Amelia\t2\n",
            "Logan\t2\n",
            "Oliver\t2\n",
            "Walter\t1\n",
            "Carolyn\t1\n",
            "Pamela\t1\n",
            "Lori\t1\n",
            "Laura\t1\n",
            "Tracy\t1\n",
            "Julie\t1\n",
            "Scott\t1\n",
            "Kelly\t1\n",
            "Crystal\t1\n",
            "Rachel\t1\n",
            "Lucas\t1\n"
          ]
        }
      ]
    },
    {
      "cell_type": "code",
      "source": [
        "!cut -f 1 /content/popular-names.txt | sort | uniq -c | sort -nr\n",
        "#uniqは連続した重複行しかカウントしないから、はじめにsort必要"
      ],
      "metadata": {
        "colab": {
          "base_uri": "https://localhost:8080/"
        },
        "id": "I6qs4ZoKGMUg",
        "outputId": "ced94ead-1042-4ec4-8c6c-b93ccb3400b1"
      },
      "id": "I6qs4ZoKGMUg",
      "execution_count": 26,
      "outputs": [
        {
          "output_type": "stream",
          "name": "stdout",
          "text": [
            "    118 James\n",
            "    111 William\n",
            "    108 Robert\n",
            "    108 John\n",
            "     92 Mary\n",
            "     75 Charles\n",
            "     74 Michael\n",
            "     73 Elizabeth\n",
            "     70 Joseph\n",
            "     60 Margaret\n",
            "     58 Thomas\n",
            "     58 George\n",
            "     57 David\n",
            "     51 Richard\n",
            "     45 Helen\n",
            "     43 Frank\n",
            "     43 Christopher\n",
            "     41 Anna\n",
            "     40 Edward\n",
            "     39 Ruth\n",
            "     38 Patricia\n",
            "     37 Matthew\n",
            "     36 Dorothy\n",
            "     35 Emma\n",
            "     32 Barbara\n",
            "     31 Joshua\n",
            "     31 Daniel\n",
            "     26 Sarah\n",
            "     26 Linda\n",
            "     26 Jennifer\n",
            "     26 Emily\n",
            "     25 Jessica\n",
            "     25 Jacob\n",
            "     24 Susan\n",
            "     24 Mildred\n",
            "     24 Betty\n",
            "     23 Henry\n",
            "     23 Ashley\n",
            "     22 Nancy\n",
            "     21 Andrew\n",
            "     20 Marie\n",
            "     20 Florence\n",
            "     20 Donald\n",
            "     20 Amanda\n",
            "     19 Samantha\n",
            "     18 Olivia\n",
            "     18 Melissa\n",
            "     18 Madison\n",
            "     18 Lisa\n",
            "     18 Karen\n",
            "     17 Stephanie\n",
            "     17 Abigail\n",
            "     16 Sandra\n",
            "     16 Mark\n",
            "     16 Ethel\n",
            "     15 Michelle\n",
            "     15 Isabella\n",
            "     15 Heather\n",
            "     15 Frances\n",
            "     15 Ethan\n",
            "     15 Carol\n",
            "     15 Angela\n",
            "     14 Shirley\n",
            "     14 Kimberly\n",
            "     14 Ava\n",
            "     14 Amy\n",
            "     13 Virginia\n",
            "     13 Sophia\n",
            "     13 Nicole\n",
            "     13 Jason\n",
            "     13 Hannah\n",
            "     13 Deborah\n",
            "     13 Brian\n",
            "     12 Minnie\n",
            "     12 Donna\n",
            "     12 Bertha\n",
            "     11 Cynthia\n",
            "     10 Ronald\n",
            "     10 Noah\n",
            "     10 Nicholas\n",
            "     10 Mia\n",
            "     10 Doris\n",
            "     10 Brittany\n",
            "     10 Alice\n",
            "      9 Tyler\n",
            "      9 Joan\n",
            "      9 Debra\n",
            "      8 Taylor\n",
            "      8 Mason\n",
            "      8 Judith\n",
            "      8 Ida\n",
            "      8 Clara\n",
            "      8 Alexis\n",
            "      8 Alexander\n",
            "      7 Tammy\n",
            "      7 Steven\n",
            "      7 Sharon\n",
            "      7 Liam\n",
            "      7 Harry\n",
            "      7 Brandon\n",
            "      6 Anthony\n",
            "      5 Jeffrey\n",
            "      5 Jayden\n",
            "      5 Gary\n",
            "      5 Charlotte\n",
            "      5 Annie\n",
            "      4 Lillian\n",
            "      4 Kathleen\n",
            "      4 Justin\n",
            "      4 Chloe\n",
            "      4 Benjamin\n",
            "      4 Austin\n",
            "      3 Megan\n",
            "      3 Harper\n",
            "      3 Evelyn\n",
            "      3 Elijah\n",
            "      3 Aiden\n",
            "      2 Rebecca\n",
            "      2 Oliver\n",
            "      2 Logan\n",
            "      2 Lauren\n",
            "      2 Larry\n",
            "      2 Bessie\n",
            "      2 Amelia\n",
            "      1 Walter\n",
            "      1 Tracy\n",
            "      1 Scott\n",
            "      1 Rachel\n",
            "      1 Pamela\n",
            "      1 Lucas\n",
            "      1 Lori\n",
            "      1 Laura\n",
            "      1 Kelly\n",
            "      1 Julie\n",
            "      1 Crystal\n",
            "      1 Carolyn\n"
          ]
        }
      ]
    },
    {
      "cell_type": "markdown",
      "id": "5ea1c928-6748-4f02-9e65-2110655b30d8",
      "metadata": {
        "id": "5ea1c928-6748-4f02-9e65-2110655b30d8"
      },
      "source": [
        "## 19. 3列目の数値の降順に各行を並び替える\n",
        "3列目の数値の逆順でファイルの各行を整列せよ（注意: 各行の内容は変更せずに並び替えよ）。同様の処理をsortコマンドで実現せよ。"
      ]
    }
  ],
  "metadata": {
    "colab": {
      "provenance": []
    },
    "kernelspec": {
      "display_name": "Python 3 (ipykernel)",
      "language": "python",
      "name": "python3"
    },
    "language_info": {
      "codemirror_mode": {
        "name": "ipython",
        "version": 3
      },
      "file_extension": ".py",
      "mimetype": "text/x-python",
      "name": "python",
      "nbconvert_exporter": "python",
      "pygments_lexer": "ipython3",
      "version": "3.12.3"
    }
  },
  "nbformat": 4,
  "nbformat_minor": 5
}
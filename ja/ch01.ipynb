{
  "cells": [
    {
      "cell_type": "markdown",
      "id": "5d2e8296-0efe-488a-9303-c53e0aac5573",
      "metadata": {
        "editable": true,
        "id": "5d2e8296-0efe-488a-9303-c53e0aac5573",
        "tags": []
      },
      "source": [
        "# 第1章: 準備運動"
      ]
    },
    {
      "cell_type": "markdown",
      "id": "b25a842d-828c-4fcd-b23e-62fcdbabc4dd",
      "metadata": {
        "editable": true,
        "id": "b25a842d-828c-4fcd-b23e-62fcdbabc4dd",
        "tags": []
      },
      "source": [
        "## 00. パタトクカシーー\n",
        "2つの文字列「パトカー」と「タクシー」の文字を先頭から交互に連結し、文字列「パタトクカシーー」を得よ。"
      ]
    },
    {
      "cell_type": "code",
      "source": [
        "pa = \"パトカー\"\n",
        "ta = \"タクシー\"\n",
        "\n",
        "for i in range(len(pa)):\n",
        "  print(pa[i], end=\"\")\n",
        "  print(ta[i], end=\"\")\n"
      ],
      "metadata": {
        "id": "T6CkOvQZvPvv",
        "outputId": "5ba4d59e-4cc4-42fc-c3b3-40464ee0d766",
        "colab": {
          "base_uri": "https://localhost:8080/"
        }
      },
      "id": "T6CkOvQZvPvv",
      "execution_count": 1,
      "outputs": [
        {
          "output_type": "stream",
          "name": "stdout",
          "text": [
            "パタトクカシーー"
          ]
        }
      ]
    },
    {
      "cell_type": "markdown",
      "id": "552596a9-f286-49b1-8443-ceb3454889e0",
      "metadata": {
        "editable": true,
        "id": "552596a9-f286-49b1-8443-ceb3454889e0",
        "tags": []
      },
      "source": [
        "## 01. タクシー\n",
        "文字列「パタトクカシーー」の2, 4, 6, 8文字目を取り出し、それらを連結した文字列を得よ。"
      ]
    },
    {
      "cell_type": "code",
      "source": [
        "a = \"パタトクカシーー\"\n",
        "\n",
        "a = a[::2]\n",
        "\n",
        "a"
      ],
      "metadata": {
        "id": "3tn5Xq6Ywahh",
        "outputId": "f6864768-370f-474b-8213-aa2e1bc2d717",
        "colab": {
          "base_uri": "https://localhost:8080/",
          "height": 35
        }
      },
      "id": "3tn5Xq6Ywahh",
      "execution_count": null,
      "outputs": [
        {
          "output_type": "execute_result",
          "data": {
            "text/plain": [
              "'パトカー'"
            ],
            "application/vnd.google.colaboratory.intrinsic+json": {
              "type": "string"
            }
          },
          "metadata": {},
          "execution_count": 23
        }
      ]
    },
    {
      "cell_type": "markdown",
      "id": "1c0a9a7c-4ade-4023-9f44-fc9cf394978b",
      "metadata": {
        "editable": true,
        "id": "1c0a9a7c-4ade-4023-9f44-fc9cf394978b",
        "tags": []
      },
      "source": [
        "## 02. 文字列の逆順\n",
        "文字列\"stressed\"の文字を逆に（末尾から先頭に向かって）並べた文字列を得よ。"
      ]
    },
    {
      "cell_type": "code",
      "source": [
        "a = \"stressed\"\n",
        "\n",
        "a = a[::-1]\n",
        "\n",
        "a"
      ],
      "metadata": {
        "id": "rtYP04gcz07w",
        "outputId": "084b1345-d3bb-446b-e4c1-2e6aa8725282",
        "colab": {
          "base_uri": "https://localhost:8080/",
          "height": 35
        }
      },
      "id": "rtYP04gcz07w",
      "execution_count": null,
      "outputs": [
        {
          "output_type": "execute_result",
          "data": {
            "text/plain": [
              "'desserts'"
            ],
            "application/vnd.google.colaboratory.intrinsic+json": {
              "type": "string"
            }
          },
          "metadata": {},
          "execution_count": 24
        }
      ]
    },
    {
      "cell_type": "markdown",
      "id": "4161bcb5-5baf-4172-b2a6-7c14f1907d54",
      "metadata": {
        "id": "4161bcb5-5baf-4172-b2a6-7c14f1907d54"
      },
      "source": [
        "## 03. 円周率\n",
        "\"Now I need a drink, alcoholic of course, after the heavy lectures involving quantum mechanics.\"という文を単語に分解し、各単語の（アルファベットの）文字数を先頭から出現順に並べたリストを作成せよ。"
      ]
    },
    {
      "cell_type": "code",
      "source": [
        "a =\"Now I need a drink, alcoholic of course, after the heavy lectures involving quantum mechanics.\"\n",
        "a = a.replace(\",\", \"\")\n",
        "a = a.replace(\".\", \"\")\n",
        "\n",
        "words = a.split()\n",
        "\n",
        "word_len = []\n",
        "for word in words:\n",
        "  word_len.append(len(word))\n",
        "\n",
        "\n",
        "print(word_len)"
      ],
      "metadata": {
        "id": "5ZE-ut594cry",
        "outputId": "da9c8c68-b980-48ab-cfe5-32b83233fed6",
        "colab": {
          "base_uri": "https://localhost:8080/"
        }
      },
      "id": "5ZE-ut594cry",
      "execution_count": null,
      "outputs": [
        {
          "output_type": "stream",
          "name": "stdout",
          "text": [
            "[3, 1, 4, 1, 5, 9, 2, 6, 5, 3, 5, 8, 9, 7, 9]\n"
          ]
        }
      ]
    },
    {
      "cell_type": "markdown",
      "id": "8e56c958-d6fb-411c-9dc6-77992c515637",
      "metadata": {
        "id": "8e56c958-d6fb-411c-9dc6-77992c515637"
      },
      "source": [
        "## 04. 元素記号\n",
        "\"Hi He Lied Because Boron Could Not Oxidize Fluorine. New Nations Might Also Sign Peace Security Clause. Arthur King Can.\"という文を単語に分解し、1, 5, 6, 7, 8, 9, 15, 16, 19番目の単語は先頭の1文字、それ以外の単語は先頭の2文字を取り出し、取り出した文字列から単語の位置（先頭から何番目の単語か）への連想配列（辞書型もしくはマップ型）を作成せよ。"
      ]
    },
    {
      "cell_type": "code",
      "source": [
        "a = \"Hi He Lied Because Boron Could Not Oxidize Fluorine. New Nations Might Also Sign Peace Security Clause. Arthur King Can.\"\n",
        "\n",
        "a = a.replace(\".\", \"\")\n",
        "\n",
        "words = a.split()\n",
        "\n",
        "genso = []\n",
        "\n",
        "for index, word in enumerate(words):\n",
        "  if index+1 == 1 or index == 5 or index == 6 or index == 7 or index == 8 or index == 9 or index == 15 or index == 16 or index == 19:\n",
        "    genso.append(word[0])\n",
        "  else:\n",
        "    genso.append(word[:2])\n",
        "\n",
        "print(genso)\n"
      ],
      "metadata": {
        "id": "JmHlmoss789m",
        "outputId": "778f8bcb-f9d3-471e-98bf-a2cfa792de44",
        "colab": {
          "base_uri": "https://localhost:8080/"
        }
      },
      "id": "JmHlmoss789m",
      "execution_count": null,
      "outputs": [
        {
          "output_type": "stream",
          "name": "stdout",
          "text": [
            "['H', 'He', 'Li', 'Be', 'Bo', 'C', 'N', 'O', 'F', 'N', 'Na', 'Mi', 'Al', 'Si', 'Pe', 'S', 'C', 'Ar', 'Ki', 'C']\n"
          ]
        }
      ]
    },
    {
      "cell_type": "markdown",
      "id": "5269dd34-1b19-4a99-9e3d-593e978f3361",
      "metadata": {
        "id": "5269dd34-1b19-4a99-9e3d-593e978f3361"
      },
      "source": [
        "## 05. n-gram\n",
        "与えられたシーケンス（文字列やリストなど）からn-gramを作る関数を作成せよ。この関数を用い、\"I am an NLPer\"という文から文字tri-gram、単語bi-gramを得よ。"
      ]
    },
    {
      "cell_type": "code",
      "source": [
        "def ngram_maker(seq, n):\n",
        "  seq = seq.split()\n",
        "  ngram_list = []\n",
        "  for i in range(0,len(seq) - n + 1):\n",
        "    if seq[i:i+n] not in ngram_list:\n",
        "      ngram_list.append(seq[i:i+n])\n",
        "  return ngram_list\n",
        "\n",
        "ans2 = ngram_maker(\"I am an NLPer\", 2)\n",
        "print(ans2)\n",
        "\n",
        "ans3 = ngram_maker(\"I am an NLPer\", 3)\n",
        "print(ans3)"
      ],
      "metadata": {
        "id": "axjPIvq7_621",
        "outputId": "4c199da0-8f71-4638-9db4-536cc46635e7",
        "colab": {
          "base_uri": "https://localhost:8080/"
        }
      },
      "id": "axjPIvq7_621",
      "execution_count": 4,
      "outputs": [
        {
          "output_type": "stream",
          "name": "stdout",
          "text": [
            "[['I', 'am'], ['am', 'an'], ['an', 'NLPer']]\n",
            "[['I', 'am', 'an'], ['am', 'an', 'NLPer']]\n"
          ]
        }
      ]
    },
    {
      "cell_type": "markdown",
      "id": "15df1a31-7906-4562-b5c5-b52194487ea9",
      "metadata": {
        "id": "15df1a31-7906-4562-b5c5-b52194487ea9"
      },
      "source": [
        "## 06. 集合\n",
        "\"paraparaparadise\"と\"paragraph\"に含まれる文字bi-gramの集合を、それぞれ, $X$ と $Y$ として求め、$X$ と $Y$ の和集合（$X \\cup Y$）、積集合（$X \\cap Y$）、差集合（$X \\setminus Y$）を求めよ。さらに、'se'というbi-gramがXおよびYに含まれるかどうかを調べよ。"
      ]
    },
    {
      "cell_type": "code",
      "source": [
        "def moji_bigram_maker(mojiretsu, n = 2):\n",
        "  bigram_list = []\n",
        "  for i in range(0,len(mojiretsu) - n + 1):\n",
        "    if mojiretsu[i:i+n] not in bigram_list:\n",
        "      bigram_list.append(mojiretsu[i:i+n])\n",
        "  return bigram_list\n",
        "\n",
        "\n",
        "X = moji_bigram_maker(\"paraparaparadise\")\n",
        "Y = moji_bigram_maker(\"paragraph\")\n",
        "\n",
        "wa  = []\n",
        "seki = []\n",
        "sa = []\n",
        "\n",
        "\n",
        "for x in X:\n",
        "  if x not in wa:\n",
        "    wa.append(x)\n",
        "for y in Y:\n",
        "  if y not in wa:\n",
        "    wa.append(y)\n",
        "\n",
        "for x in X:\n",
        "  for y in Y:\n",
        "    if x == y and x not in seki:#XかつYの元を追加\n",
        "      seki.append(x)\n",
        "\n",
        "for x in X:\n",
        "  for y in Y:\n",
        "    if x not in Y and x not in sa:#XかつYでない元を追加\n",
        "      sa.append(x)\n",
        "\n",
        "print(\"X \"+str(X))\n",
        "print(\"Y \"+str(Y))\n",
        "\n",
        "print(\"和集合 \"+str(wa))\n",
        "print(\"積集合 \"+str(seki))\n",
        "print(\"差集合 \"+str(sa))\n",
        "\n",
        "\n"
      ],
      "metadata": {
        "id": "RgLGLzTA7qOJ",
        "outputId": "777c3301-ba07-4ab1-e6eb-2b84ab222986",
        "colab": {
          "base_uri": "https://localhost:8080/"
        }
      },
      "id": "RgLGLzTA7qOJ",
      "execution_count": 26,
      "outputs": [
        {
          "output_type": "stream",
          "name": "stdout",
          "text": [
            "X ['pa', 'ar', 'ra', 'ap', 'ad', 'di', 'is', 'se']\n",
            "Y ['pa', 'ar', 'ra', 'ag', 'gr', 'ap', 'ph']\n",
            "和集合 ['pa', 'ar', 'ra', 'ap', 'ad', 'di', 'is', 'se', 'ag', 'gr', 'ph']\n",
            "積集合 ['pa', 'ar', 'ra', 'ap']\n",
            "差集合 ['ad', 'di', 'is', 'se']\n"
          ]
        }
      ]
    },
    {
      "cell_type": "markdown",
      "id": "90b9bdde-e35c-4dc5-a46d-f7a8dd6d6513",
      "metadata": {
        "id": "90b9bdde-e35c-4dc5-a46d-f7a8dd6d6513"
      },
      "source": [
        "## 07. テンプレートによる文生成\n",
        "引数x, y, zを受け取り「x時のyはz」という文字列を返す関数を実装せよ。さらに、x=12, y=\"気温\", z=22.4として、実行結果を確認せよ。"
      ]
    },
    {
      "cell_type": "code",
      "source": [
        "def temp(x,y,z):\n",
        "  return str(x) + \"時の\" + str(y) + \"は\" + str(z)\n",
        "\n",
        "ans = temp(12, \"気温\", 22.4)\n",
        "print(ans)"
      ],
      "metadata": {
        "id": "tChGCLZwhk_Y",
        "outputId": "9815b66f-f762-4142-b6a7-6e9afa5204f1",
        "colab": {
          "base_uri": "https://localhost:8080/"
        }
      },
      "id": "tChGCLZwhk_Y",
      "execution_count": 28,
      "outputs": [
        {
          "output_type": "stream",
          "name": "stdout",
          "text": [
            "12時の気温は22.4\n"
          ]
        }
      ]
    },
    {
      "cell_type": "markdown",
      "id": "215bd86b-1b3c-4446-98ae-af5d671fba12",
      "metadata": {
        "id": "215bd86b-1b3c-4446-98ae-af5d671fba12"
      },
      "source": [
        "## 08. 暗号文\n",
        "与えられた文字列の各文字を、以下の仕様で変換する関数cipherを実装せよ。\n",
        "\n",
        "* 英小文字ならば (219 - 文字コード) のASCIIコードに対応する文字に置換\n",
        "* その他の文字はそのまま出力\n",
        "\n",
        "この関数を用い、英語のメッセージを暗号化・復号化せよ。"
      ]
    },
    {
      "cell_type": "markdown",
      "id": "64c1bdae-5ce3-4128-86be-23ce079a2d98",
      "metadata": {
        "id": "64c1bdae-5ce3-4128-86be-23ce079a2d98"
      },
      "source": [
        "## 09. Typoglycemia\n",
        "スペースで区切られた単語列に対して、各単語の先頭と末尾の文字は残し、それ以外の文字の順序をランダムに並び替えるプログラムを作成せよ。ただし、長さが４以下の単語は並び替えないこととする。適当な英語の文（例えば\"I couldn't believe that I could actually understand what I was reading : the phenomenal power of the human mind .\"）を与え、その実行結果を確認せよ。"
      ]
    }
  ],
  "metadata": {
    "colab": {
      "provenance": []
    },
    "kernelspec": {
      "display_name": "Python 3",
      "name": "python3"
    },
    "language_info": {
      "codemirror_mode": {
        "name": "ipython",
        "version": 3
      },
      "file_extension": ".py",
      "mimetype": "text/x-python",
      "name": "python",
      "nbconvert_exporter": "python",
      "pygments_lexer": "ipython3",
      "version": "3.12.3"
    }
  },
  "nbformat": 4,
  "nbformat_minor": 5
}
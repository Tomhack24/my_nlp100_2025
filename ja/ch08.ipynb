{
  "cells": [
    {
      "cell_type": "markdown",
      "id": "1e1YwuFtZd1t",
      "metadata": {
        "editable": true,
        "id": "1e1YwuFtZd1t",
        "tags": []
      },
      "source": [
        "# 第8章: ニューラルネット\n",
        "\n",
        "第7章で取り組んだポジネガ分類を題材として、ニューラルネットワークで分類モデルを実装する。なお、この章ではPyTorchやTensorFlow、JAXなどの深層学習フレームワークを活用せよ。"
      ]
    },
    {
      "cell_type": "markdown",
      "id": "b03603ee-a54b-4b93-97a2-888f5e3feeff",
      "metadata": {
        "id": "b03603ee-a54b-4b93-97a2-888f5e3feeff"
      },
      "source": [
        "## 70. 単語埋め込みの読み込み\n",
        "\n",
        "事前学習済み単語埋め込みを活用し、$|V| \\times d_\\rm{emb}$ の単語埋め込み行列$\\pmb{E}$を作成せよ。ここで、$|V|$は単語埋め込みの語彙数、$d_\\rm{emb}$は単語埋め込みの次元数である。ただし、単語埋め込み行列の先頭の行ベクトル$\\pmb{E}_{0,:}$は、将来的にパディング（`<PAD>`）トークンの埋め込みベクトルとして用いたいので、ゼロベクトルとして予約せよ。ゆえに、$\\pmb{E}$の2行目以降に事前学習済み単語埋め込みを読み込むことになる。\n",
        "\n",
        "もし、Google Newsデータセットの[学習済み単語ベクトル](https://drive.google.com/file/d/0B7XkCwpI5KDYNlNUTTlSS21pQmM/edit?usp=sharing)（300万単語・フレーズ、300次元）を全て読み込んだ場合、$|V|=3000001, d_\\rm{emb}=300$になるはずである（ただ、300万単語の中には、殆ど用いられない稀な単語も含まれるので、語彙を削減した方がメモリの節約になる）。\n",
        "\n",
        "また、単語埋め込み行列の構築と同時に、単語埋め込み行列の各行のインデックス番号（トークンID）と、単語（トークン）への双方向の対応付けを保持せよ。"
      ]
    },
    {
      "cell_type": "code",
      "source": [
        "!pip install gensim"
      ],
      "metadata": {
        "id": "XgNj2B6QKS9i",
        "outputId": "1c6b96ab-1a98-464d-b70c-ebcdd2d21caf",
        "colab": {
          "base_uri": "https://localhost:8080/"
        }
      },
      "id": "XgNj2B6QKS9i",
      "execution_count": null,
      "outputs": [
        {
          "output_type": "stream",
          "name": "stdout",
          "text": [
            "Collecting gensim\n",
            "  Downloading gensim-4.3.3-cp311-cp311-manylinux_2_17_x86_64.manylinux2014_x86_64.whl.metadata (8.1 kB)\n",
            "Collecting numpy<2.0,>=1.18.5 (from gensim)\n",
            "  Downloading numpy-1.26.4-cp311-cp311-manylinux_2_17_x86_64.manylinux2014_x86_64.whl.metadata (61 kB)\n",
            "\u001b[2K     \u001b[90m━━━━━━━━━━━━━━━━━━━━━━━━━━━━━━━━━━━━━━━━\u001b[0m \u001b[32m61.0/61.0 kB\u001b[0m \u001b[31m2.3 MB/s\u001b[0m eta \u001b[36m0:00:00\u001b[0m\n",
            "\u001b[?25hCollecting scipy<1.14.0,>=1.7.0 (from gensim)\n",
            "  Downloading scipy-1.13.1-cp311-cp311-manylinux_2_17_x86_64.manylinux2014_x86_64.whl.metadata (60 kB)\n",
            "\u001b[2K     \u001b[90m━━━━━━━━━━━━━━━━━━━━━━━━━━━━━━━━━━━━━━━━\u001b[0m \u001b[32m60.6/60.6 kB\u001b[0m \u001b[31m1.7 MB/s\u001b[0m eta \u001b[36m0:00:00\u001b[0m\n",
            "\u001b[?25hRequirement already satisfied: smart-open>=1.8.1 in /usr/local/lib/python3.11/dist-packages (from gensim) (7.1.0)\n",
            "Requirement already satisfied: wrapt in /usr/local/lib/python3.11/dist-packages (from smart-open>=1.8.1->gensim) (1.17.2)\n",
            "Downloading gensim-4.3.3-cp311-cp311-manylinux_2_17_x86_64.manylinux2014_x86_64.whl (26.7 MB)\n",
            "\u001b[2K   \u001b[90m━━━━━━━━━━━━━━━━━━━━━━━━━━━━━━━━━━━━━━━━\u001b[0m \u001b[32m26.7/26.7 MB\u001b[0m \u001b[31m22.4 MB/s\u001b[0m eta \u001b[36m0:00:00\u001b[0m\n",
            "\u001b[?25hDownloading numpy-1.26.4-cp311-cp311-manylinux_2_17_x86_64.manylinux2014_x86_64.whl (18.3 MB)\n",
            "\u001b[2K   \u001b[90m━━━━━━━━━━━━━━━━━━━━━━━━━━━━━━━━━━━━━━━━\u001b[0m \u001b[32m18.3/18.3 MB\u001b[0m \u001b[31m23.6 MB/s\u001b[0m eta \u001b[36m0:00:00\u001b[0m\n",
            "\u001b[?25hDownloading scipy-1.13.1-cp311-cp311-manylinux_2_17_x86_64.manylinux2014_x86_64.whl (38.6 MB)\n",
            "\u001b[2K   \u001b[90m━━━━━━━━━━━━━━━━━━━━━━━━━━━━━━━━━━━━━━━━\u001b[0m \u001b[32m38.6/38.6 MB\u001b[0m \u001b[31m12.9 MB/s\u001b[0m eta \u001b[36m0:00:00\u001b[0m\n",
            "\u001b[?25hInstalling collected packages: numpy, scipy, gensim\n",
            "  Attempting uninstall: numpy\n",
            "    Found existing installation: numpy 2.0.2\n",
            "    Uninstalling numpy-2.0.2:\n",
            "      Successfully uninstalled numpy-2.0.2\n",
            "  Attempting uninstall: scipy\n",
            "    Found existing installation: scipy 1.15.3\n",
            "    Uninstalling scipy-1.15.3:\n",
            "      Successfully uninstalled scipy-1.15.3\n",
            "\u001b[31mERROR: pip's dependency resolver does not currently take into account all the packages that are installed. This behaviour is the source of the following dependency conflicts.\n",
            "tsfresh 0.21.0 requires scipy>=1.14.0; python_version >= \"3.10\", but you have scipy 1.13.1 which is incompatible.\n",
            "thinc 8.3.6 requires numpy<3.0.0,>=2.0.0, but you have numpy 1.26.4 which is incompatible.\u001b[0m\u001b[31m\n",
            "\u001b[0mSuccessfully installed gensim-4.3.3 numpy-1.26.4 scipy-1.13.1\n"
          ]
        }
      ]
    },
    {
      "cell_type": "code",
      "source": [
        "!pip install numpy"
      ],
      "metadata": {
        "id": "VDqeIr0iKj_L",
        "outputId": "228235fd-6857-47e8-8a55-35991ceb7356",
        "colab": {
          "base_uri": "https://localhost:8080/"
        }
      },
      "id": "VDqeIr0iKj_L",
      "execution_count": null,
      "outputs": [
        {
          "output_type": "stream",
          "name": "stdout",
          "text": [
            "Requirement already satisfied: numpy in /usr/local/lib/python3.11/dist-packages (1.26.4)\n"
          ]
        }
      ]
    },
    {
      "cell_type": "code",
      "source": [
        "import gensim.downloader as api"
      ],
      "metadata": {
        "id": "3ZoPeAMwKoTf"
      },
      "id": "3ZoPeAMwKoTf",
      "execution_count": null,
      "outputs": []
    },
    {
      "cell_type": "code",
      "source": [
        "import gensim.downloader as api\n",
        "\n",
        "# Google Newsの学習済み単語ベクトルをダウンロード・ロード\n",
        "word2vec = api.load('glove-wiki-gigaword-50')\n"
      ],
      "metadata": {
        "id": "HhU_68U0KwOS",
        "outputId": "b39a8f32-28bf-45e1-ef32-e16219b600cd",
        "colab": {
          "base_uri": "https://localhost:8080/"
        }
      },
      "id": "HhU_68U0KwOS",
      "execution_count": null,
      "outputs": [
        {
          "output_type": "stream",
          "name": "stdout",
          "text": [
            "[==================================================] 100.0% 66.0/66.0MB downloaded\n"
          ]
        }
      ]
    },
    {
      "cell_type": "code",
      "source": [
        "word2id = {\"<PAD>\": 0}\n",
        "id2word = {0: \"<PAD>\"} #<PAD>を予約しておく\n",
        "\n",
        "for i, word in enumerate(word2vec.index_to_key):  # index_to_key は語彙のリスト\n",
        "    word2id[word] = i + 1  # 0は<PAD>だから+1\n",
        "    id2word[i + 1] = word"
      ],
      "metadata": {
        "id": "zQ8BHVpvDJp1"
      },
      "id": "zQ8BHVpvDJp1",
      "execution_count": null,
      "outputs": []
    },
    {
      "cell_type": "code",
      "source": [
        "import torch\n",
        "import torch.nn as nn\n",
        "import numpy as np"
      ],
      "metadata": {
        "id": "74dTHailATvp"
      },
      "id": "74dTHailATvp",
      "execution_count": null,
      "outputs": []
    },
    {
      "cell_type": "code",
      "source": [
        "vocab_size = len(word2vec) + 1  # <PAD>のために+1\n",
        "emb_dim = word2vec.vector_size\n",
        "\n",
        "embedding_tensor = torch.zeros((vocab_size, emb_dim), dtype=torch.float32)\n",
        "\n",
        "embedding_tensor[1:] = torch.from_numpy(word2vec.vectors)"
      ],
      "metadata": {
        "id": "TUIskwD2MbZJ"
      },
      "id": "TUIskwD2MbZJ",
      "execution_count": null,
      "outputs": []
    },
    {
      "cell_type": "markdown",
      "id": "c45bc5ba-4a83-493a-a78e-04aa48f3db2e",
      "metadata": {
        "id": "c45bc5ba-4a83-493a-a78e-04aa48f3db2e"
      },
      "source": [
        "## 71. データセットの読み込み\n",
        "\n",
        "[General Language Understanding Evaluation (GLUE)](https://gluebenchmark.com/) ベンチマークで配布されている[Stanford Sentiment Treebank (SST)](https://dl.fbaipublicfiles.com/glue/data/SST-2.zip) をダウンロードし、訓練セット（train.tsv）と開発セット（dev.tsv）のテキストと極性ラベルと読み込み、全てのテキストをトークンID列に変換せよ。このとき、単語埋め込みの語彙でカバーされていない単語は無視し、トークン列に含めないことにせよ。また、テキストの全トークンが単語埋め込みの語彙に含まれておらず、空のトークン列となってしまう事例は、訓練セットおよび開発セットから削除せよ（このため、第7章の実験で得られた正解率と比較できなくなることに注意せよ）。\n",
        "\n",
        "事例の表現方法は任意でよいが、例えば\"contains no wit , only labored gags\"がネガティブに分類される事例は、次のような辞書オブジェクトで表現すればよい。\n",
        "\n",
        "```\n",
        "{'text': 'contains no wit , only labored gags',\n",
        " 'label': tensor([0.]),\n",
        " 'input_ids': tensor([ 3475,    87, 15888,    90, 27695, 42637])}\n",
        "```\n",
        "\n",
        "この例では、`text`はテキスト、`label`は分類ラベル（ポジティブなら`tensor([1.])`、ネガティブなら`tensor([0.])`）、`input_ids`はテキストのトークン列をID列で表現している。"
      ]
    },
    {
      "cell_type": "code",
      "source": [
        "!wget https://dl.fbaipublicfiles.com/glue/data/SST-2.zip\n",
        "!unzip SST-2.zip"
      ],
      "metadata": {
        "collapsed": true,
        "id": "0yF3qKQhQ0LX",
        "outputId": "517818f0-82a2-40a4-dd27-2e228ffafae4",
        "colab": {
          "base_uri": "https://localhost:8080/"
        }
      },
      "id": "0yF3qKQhQ0LX",
      "execution_count": null,
      "outputs": [
        {
          "output_type": "stream",
          "name": "stdout",
          "text": [
            "--2025-05-19 03:06:28--  https://dl.fbaipublicfiles.com/glue/data/SST-2.zip\n",
            "Resolving dl.fbaipublicfiles.com (dl.fbaipublicfiles.com)... 13.227.74.9, 13.227.74.12, 13.227.74.118, ...\n",
            "Connecting to dl.fbaipublicfiles.com (dl.fbaipublicfiles.com)|13.227.74.9|:443... connected.\n",
            "HTTP request sent, awaiting response... 200 OK\n",
            "Length: 7439277 (7.1M) [application/zip]\n",
            "Saving to: ‘SST-2.zip’\n",
            "\n",
            "SST-2.zip           100%[===================>]   7.09M  --.-KB/s    in 0.1s    \n",
            "\n",
            "2025-05-19 03:06:28 (47.8 MB/s) - ‘SST-2.zip’ saved [7439277/7439277]\n",
            "\n",
            "Archive:  SST-2.zip\n",
            "   creating: SST-2/\n",
            "  inflating: SST-2/dev.tsv           \n",
            "   creating: SST-2/original/\n",
            "  inflating: SST-2/original/README.txt  \n",
            "  inflating: SST-2/original/SOStr.txt  \n",
            "  inflating: SST-2/original/STree.txt  \n",
            "  inflating: SST-2/original/datasetSentences.txt  \n",
            "  inflating: SST-2/original/datasetSplit.txt  \n",
            "  inflating: SST-2/original/dictionary.txt  \n",
            "  inflating: SST-2/original/original_rt_snippets.txt  \n",
            "  inflating: SST-2/original/sentiment_labels.txt  \n",
            "  inflating: SST-2/test.tsv          \n",
            "  inflating: SST-2/train.tsv         \n"
          ]
        }
      ]
    },
    {
      "cell_type": "code",
      "source": [
        "import pandas as pd\n",
        "\n",
        "# データの読み込み\n",
        "train_df = pd.read_csv(\"SST-2/train.tsv\", sep='\\t', )\n",
        "dev_df = pd.read_csv(\"SST-2/dev.tsv\", sep='\\t', )\n"
      ],
      "metadata": {
        "id": "n80xl6PqQ9pz"
      },
      "id": "n80xl6PqQ9pz",
      "execution_count": null,
      "outputs": []
    },
    {
      "cell_type": "code",
      "source": [
        "def text_to_ids(text, word2id):\n",
        "    ids = []\n",
        "    for word in text.split():\n",
        "        if word in word2id:\n",
        "            ids.append(word2id[word])\n",
        "    return ids"
      ],
      "metadata": {
        "id": "K2r8r6kwRhOR"
      },
      "id": "K2r8r6kwRhOR",
      "execution_count": null,
      "outputs": []
    },
    {
      "cell_type": "code",
      "source": [
        "def pre_processing(df, word2id):\n",
        "  data = []\n",
        "  for index, row in df.iterrows():\n",
        "    data_unit = {}\n",
        "    ids = text_to_ids(row[\"sentence\"], word2id)\n",
        "    if len(ids) > 0:\n",
        "      data_unit[\"text\"] = row[\"sentence\"]\n",
        "      data_unit[\"label\"] = torch.tensor([row[\"label\"]], dtype=torch.float32)\n",
        "      data_unit[\"input_ids\"] = torch.tensor(ids, dtype=torch.long)\n",
        "      data.append(data_unit)\n",
        "  return data\n"
      ],
      "metadata": {
        "id": "9MReYfu1VwSz"
      },
      "id": "9MReYfu1VwSz",
      "execution_count": null,
      "outputs": []
    },
    {
      "cell_type": "code",
      "source": [
        "train_data = pre_processing(train_df, word2id)\n",
        "dev_data = pre_processing(dev_df, word2id)"
      ],
      "metadata": {
        "id": "1s_6i-RQV7GE"
      },
      "id": "1s_6i-RQV7GE",
      "execution_count": null,
      "outputs": []
    },
    {
      "cell_type": "code",
      "source": [
        "train_data[:5]"
      ],
      "metadata": {
        "id": "vxjEDHXAb0AS",
        "outputId": "605f53d6-ffa5-4ede-c214-23198a9ccf99",
        "colab": {
          "base_uri": "https://localhost:8080/"
        }
      },
      "id": "vxjEDHXAb0AS",
      "execution_count": null,
      "outputs": [
        {
          "output_type": "execute_result",
          "data": {
            "text/plain": [
              "[{'text': 'hide new secretions from the parental units ',\n",
              "  'label': tensor([0.]),\n",
              "  'input_ids': tensor([ 5709,    51, 52777,    26,     1, 13055,  1504])},\n",
              " {'text': 'contains no wit , only labored gags ',\n",
              "  'label': tensor([0.]),\n",
              "  'input_ids': tensor([ 2434,    85, 13026,     2,    92, 26399, 31352])},\n",
              " {'text': 'that loves its characters and communicates something rather beautiful about human nature ',\n",
              "  'label': tensor([1.]),\n",
              "  'input_ids': tensor([   13,  6742,    48,  2154,     6, 36257,   646,   872,  3367,    60,\n",
              "            474,  1747])},\n",
              " {'text': 'remains utterly satisfied to remain the same throughout ',\n",
              "  'label': tensor([0.]),\n",
              "  'input_ids': tensor([  949, 14306,  5457,     5,   945,     1,   216,   984])},\n",
              " {'text': 'on the worst revenge-of-the-nerds clichés the filmmakers could dredge up ',\n",
              "  'label': tensor([0.]),\n",
              "  'input_ids': tensor([   14,     1,  1608, 72456,     1, 10364,    95, 36510,    61])}]"
            ]
          },
          "metadata": {},
          "execution_count": 11
        }
      ]
    },
    {
      "cell_type": "markdown",
      "id": "29dfe527-a08c-48fa-b9b4-0acebea36bca",
      "metadata": {
        "id": "29dfe527-a08c-48fa-b9b4-0acebea36bca"
      },
      "source": [
        "## 72. Bag of wordsモデルの構築\n",
        "\n",
        "単語埋め込みの平均ベクトルでテキストの特徴ベクトルを表現し、重みベクトルとの内積でポジティブ及びネガティブを分類するニューラルネットワーク（ロジスティック回帰モデル）を設計せよ。"
      ]
    },
    {
      "cell_type": "code",
      "source": [
        "def input_ids2mean_feature(input_ids, embedding_tensor):\n",
        "    selected_vectors = embedding_tensor[input_ids]\n",
        "    mean_vector = torch.mean(selected_vectors, dim=0)\n",
        "\n",
        "    return mean_vector"
      ],
      "metadata": {
        "id": "KmYJUADM5O46"
      },
      "id": "KmYJUADM5O46",
      "execution_count": null,
      "outputs": []
    },
    {
      "cell_type": "code",
      "source": [
        "ex_mean = input_ids2mean_feature(train_data[0][\"input_ids\"], embedding_tensor)\n",
        "ex_mean.shape"
      ],
      "metadata": {
        "id": "czlwim7bddqF",
        "outputId": "cb58d3f7-0e11-41c8-c4a2-a216d48ba7f7",
        "colab": {
          "base_uri": "https://localhost:8080/"
        }
      },
      "id": "czlwim7bddqF",
      "execution_count": null,
      "outputs": [
        {
          "output_type": "execute_result",
          "data": {
            "text/plain": [
              "torch.Size([50])"
            ]
          },
          "metadata": {},
          "execution_count": 13
        }
      ]
    },
    {
      "cell_type": "code",
      "source": [
        "import torch\n",
        "import torch.nn as nn\n",
        "import torch.nn.functional as F\n",
        "\n",
        "class LogisticRegression(nn.Module): #ロジスティック回帰の設計\n",
        "    def __init__(self, input_dim, output_dim):\n",
        "        super(LogisticRegression, self).__init__()\n",
        "        self.linear = nn.Linear(input_dim, output_dim)\n",
        "\n",
        "    def forward(self, x):\n",
        "        h1 = self.linear(x)\n",
        "        h2 = torch.sigmoid(h1)\n",
        "        return h2"
      ],
      "metadata": {
        "id": "dbLR1IWwwIfB"
      },
      "id": "dbLR1IWwwIfB",
      "execution_count": null,
      "outputs": []
    },
    {
      "cell_type": "markdown",
      "id": "72385c44-ceab-4d62-a4df-3023e15a37e2",
      "metadata": {
        "id": "72385c44-ceab-4d62-a4df-3023e15a37e2"
      },
      "source": [
        "## 73. モデルの学習\n",
        "\n",
        "問題72で設計したモデルの重みベクトルを訓練セット上で学習せよ。ただし、学習中は単語埋め込み行列の値を固定せよ（単語埋め込み行列のファインチューニングは行わない）。また、学習時に損失値を表示するなど、学習の進捗状況をモニタリングできるようにせよ。"
      ]
    },
    {
      "cell_type": "code",
      "source": [
        "model = LogisticRegression(emb_dim, 1)\n",
        "\n",
        "criterion = nn.BCELoss()\n",
        "optimizer = torch.optim.Adam(model.parameters(), lr=0.001)\n",
        "\n",
        "num_epochs = 10\n",
        "for epoch in range(num_epochs):\n",
        "    model.train()\n",
        "    total_loss = 0\n",
        "    for data_unit in train_data:\n",
        "        # 特徴ベクトルの計算\n",
        "        feature_vector = input_ids2mean_feature(data_unit[\"input_ids\"], embedding_tensor)\n",
        "\n",
        "        #modelが予測する\n",
        "        output = model(feature_vector)\n",
        "\n",
        "        loss = criterion(output, data_unit[\"label\"])\n",
        "\n",
        "        # バックプロパゲーションとパラメータ更新\n",
        "        optimizer.zero_grad()\n",
        "        loss.backward()\n",
        "        optimizer.step()\n",
        "\n",
        "        total_loss += loss.item()\n",
        "\n",
        "    print(f'Epoch {epoch+1}/{num_epochs}, Loss: {total_loss / len(train_data):.4f}')\n"
      ],
      "metadata": {
        "colab": {
          "base_uri": "https://localhost:8080/"
        },
        "id": "gw8iesBRzoE-",
        "outputId": "b6f2930a-20c0-4fd3-8b5c-439eae1c8f61"
      },
      "id": "gw8iesBRzoE-",
      "execution_count": null,
      "outputs": [
        {
          "output_type": "stream",
          "name": "stdout",
          "text": [
            "Epoch 1/10, Loss: 0.5173\n",
            "Epoch 2/10, Loss: 0.5050\n",
            "Epoch 3/10, Loss: 0.5049\n",
            "Epoch 4/10, Loss: 0.5049\n",
            "Epoch 5/10, Loss: 0.5048\n",
            "Epoch 6/10, Loss: 0.5047\n",
            "Epoch 7/10, Loss: 0.5047\n",
            "Epoch 8/10, Loss: 0.5046\n",
            "Epoch 9/10, Loss: 0.5046\n",
            "Epoch 10/10, Loss: 0.5046\n"
          ]
        }
      ]
    },
    {
      "cell_type": "markdown",
      "id": "26b25b5b-0ed2-4bf0-8350-601812eb057f",
      "metadata": {
        "id": "26b25b5b-0ed2-4bf0-8350-601812eb057f"
      },
      "source": [
        "## 74. モデルの評価\n",
        "\n",
        "問題73で学習したモデルの開発セットにおける正解率を求めよ。"
      ]
    },
    {
      "cell_type": "code",
      "source": [
        "def evaluate_accuracy(model, dev_data, embedding_tensor):\n",
        "    model.eval()\n",
        "    correct = 0\n",
        "    total = 0\n",
        "\n",
        "    with torch.no_grad():\n",
        "        for data_unit in dev_data:\n",
        "            feature_vector = input_ids2mean_feature(data_unit[\"input_ids\"], embedding_tensor)\n",
        "\n",
        "            output = model(feature_vector)\n",
        "\n",
        "            pred = (output >= 0.5).float()\n",
        "\n",
        "            correct += (pred == data_unit[\"label\"]).sum().item()\n",
        "            total += 1\n",
        "\n",
        "    accuracy = correct / total\n",
        "    return accuracy\n",
        "\n"
      ],
      "metadata": {
        "id": "y4hh6DDt7z2_"
      },
      "id": "y4hh6DDt7z2_",
      "execution_count": null,
      "outputs": []
    },
    {
      "cell_type": "code",
      "source": [
        "accuracy = evaluate_accuracy(model, dev_data, embedding_tensor)\n",
        "print(f'Accuracy: {accuracy * 100:.2f}%')"
      ],
      "metadata": {
        "id": "a2GFtH0EiZen",
        "outputId": "a10d715f-f4dd-48a6-cf35-456c3dcc72da",
        "colab": {
          "base_uri": "https://localhost:8080/"
        }
      },
      "id": "a2GFtH0EiZen",
      "execution_count": null,
      "outputs": [
        {
          "output_type": "stream",
          "name": "stdout",
          "text": [
            "Accuracy: 68.92%\n"
          ]
        }
      ]
    },
    {
      "cell_type": "markdown",
      "id": "O08V9g0mcJwe",
      "metadata": {
        "id": "O08V9g0mcJwe"
      },
      "source": [
        "## 75. パディング\n",
        "\n",
        "複数の事例が与えられたとき、これらをまとめて一つのテンソル・オブジェクトで表現する関数`collate`を実装せよ。与えられた複数の事例のトークン列の長さが異なるときは、トークン列の長さが最も長いものに揃え、0番のトークンIDでパディングをせよ。さらに、トークン列の長さが長いものから順に、事例を並び替えよ。\n",
        "\n",
        "例えば、訓練データセットの冒頭の4事例が次のように表されているとき、\n",
        "\n",
        "```\n",
        "[{'text': 'hide new secretions from the parental units',\n",
        "  'label': tensor([0.]),\n",
        "  'input_ids': tensor([  5785,     66, 113845,     18,     12,  15095,   1594])},\n",
        " {'text': 'contains no wit , only labored gags',\n",
        "  'label': tensor([0.]),\n",
        "  'input_ids': tensor([ 3475,    87, 15888,    90, 27695, 42637])},\n",
        " {'text': 'that loves its characters and communicates something rather beautiful about human nature',\n",
        "  'label': tensor([1.]),\n",
        "  'input_ids': tensor([    4,  5053,    45,  3305, 31647,   348,   904,  2815,    47,  1276,  1964])},\n",
        " {'text': 'remains utterly satisfied to remain the same throughout',\n",
        "  'label': tensor([0.]),\n",
        "  'input_ids': tensor([  987, 14528,  4941,   873,    12,   208,   898])}]\n",
        "```\n",
        "\n",
        "`collate`関数を通した結果は以下のようになることが想定される。\n",
        "\n",
        "```\n",
        "{'input_ids': tensor([\n",
        "    [     4,   5053,     45,   3305,  31647,    348,    904,   2815,     47,   1276,   1964],\n",
        "    [  5785,     66, 113845,     18,     12,  15095,   1594,      0,      0,      0,      0],\n",
        "    [   987,  14528,   4941,    873,     12,    208,    898,      0,      0,      0,      0],\n",
        "    [  3475,     87,  15888,     90,  27695,  42637,      0,      0,      0,      0,      0]]),\n",
        " 'label': tensor([\n",
        "    [1.],\n",
        "    [0.],\n",
        "    [0.],\n",
        "    [0.]])}\n",
        "```\n"
      ]
    },
    {
      "cell_type": "code",
      "source": [
        "def collate(batch):\n",
        "    # トークン長が長い順にソート\n",
        "    batch = sorted(batch, key=lambda x: len(x[\"input_ids\"]), reverse=True)\n",
        "\n",
        "    max_len = len(batch[0][\"input_ids\"])  #sortしたあとだから，0番目がmax\n",
        "\n",
        "    padded_input_ids = []\n",
        "    labels = []\n",
        "\n",
        "    for data_unit in batch:\n",
        "        input_ids = data_unit[\"input_ids\"]\n",
        "        label = data_unit[\"label\"]\n",
        "\n",
        "        # パディングする数\n",
        "        pad_len = max_len - len(input_ids)\n",
        "        padded = torch.cat([input_ids, torch.zeros(pad_len, dtype=torch.long)])  #pad_lenの数だけ下のinput_idsに0を連結する\n",
        "\n",
        "        padded_input_ids.append(padded) #この時はshape: (max_len)のテンソルのリスト\n",
        "        labels.append(label)\n",
        "\n",
        "    # バッチテンソルに変換\n",
        "    padded_input_ids = torch.stack(padded_input_ids)  # shape: (batch_size, max_len)　torch.stack使えばリストの中にテンソルが入っている状態のものを一つのテンソルにー\n",
        "    labels = torch.stack(labels)  # shape: (batch_size, 1)\n",
        "\n",
        "    return {\n",
        "        \"input_ids\": padded_input_ids,\n",
        "        \"label\": labels\n",
        "    }\n"
      ],
      "metadata": {
        "id": "i_t__bu6p1eu"
      },
      "id": "i_t__bu6p1eu",
      "execution_count": null,
      "outputs": []
    },
    {
      "cell_type": "code",
      "source": [
        "ex_padding = collate(train_data[:5])\n",
        "ex_padding"
      ],
      "metadata": {
        "id": "cxTEseoZsCp3",
        "outputId": "50db7e4c-098e-489c-8708-1df0aaa65152",
        "colab": {
          "base_uri": "https://localhost:8080/"
        }
      },
      "id": "cxTEseoZsCp3",
      "execution_count": null,
      "outputs": [
        {
          "output_type": "execute_result",
          "data": {
            "text/plain": [
              "{'input_ids': tensor([[   13,  6742,    48,  2154,     6, 36257,   646,   872,  3367,    60,\n",
              "            474,  1747],\n",
              "         [   14,     1,  1608, 72456,     1, 10364,    95, 36510,    61,     0,\n",
              "              0,     0],\n",
              "         [  949, 14306,  5457,     5,   945,     1,   216,   984,     0,     0,\n",
              "              0,     0],\n",
              "         [ 5709,    51, 52777,    26,     1, 13055,  1504,     0,     0,     0,\n",
              "              0,     0],\n",
              "         [ 2434,    85, 13026,     2,    92, 26399, 31352,     0,     0,     0,\n",
              "              0,     0]]),\n",
              " 'label': tensor([[1.],\n",
              "         [0.],\n",
              "         [0.],\n",
              "         [0.],\n",
              "         [0.]])}"
            ]
          },
          "metadata": {},
          "execution_count": 21
        }
      ]
    },
    {
      "cell_type": "markdown",
      "id": "9NzvuZ-5ebDU",
      "metadata": {
        "id": "9NzvuZ-5ebDU"
      },
      "source": [
        "## 76. ミニバッチ学習\n",
        "\n",
        "問題75のパディングの処理を活用して、ミニバッチでモデルを学習せよ。また、学習したモデルの開発セットにおける正解率を求めよ。"
      ]
    },
    {
      "cell_type": "code",
      "source": [
        "from torch.utils.data import Dataset\n",
        "\n",
        "class MyDataset(Dataset):\n",
        "  def __init__(self, data):\n",
        "    self.data = data\n",
        "\n",
        "  def __len__(self):\n",
        "    return len(self.data)\n",
        "\n",
        "  def __getitem__(self, idx):\n",
        "    return self.data[idx]"
      ],
      "metadata": {
        "id": "vocnGSO9rZCt"
      },
      "id": "vocnGSO9rZCt",
      "execution_count": null,
      "outputs": []
    },
    {
      "cell_type": "code",
      "source": [
        "train_dataset = MyDataset(train_data)\n",
        "train_dataset.__getitem__(0) #確認してみた"
      ],
      "metadata": {
        "id": "GjobfLJZsOF2",
        "outputId": "3f42ed9c-4b0c-4ea8-cf8c-17d51c58d1e1",
        "colab": {
          "base_uri": "https://localhost:8080/"
        }
      },
      "id": "GjobfLJZsOF2",
      "execution_count": null,
      "outputs": [
        {
          "output_type": "execute_result",
          "data": {
            "text/plain": [
              "{'text': 'hide new secretions from the parental units ',\n",
              " 'label': tensor([0.]),\n",
              " 'input_ids': tensor([ 5709,    51, 52777,    26,     1, 13055,  1504])}"
            ]
          },
          "metadata": {},
          "execution_count": 23
        }
      ]
    },
    {
      "cell_type": "code",
      "source": [
        "from torch.utils.data import DataLoader\n",
        "\n",
        "train_dataloader = DataLoader(train_dataset, batch_size=16, shuffle=True, collate_fn=collate)"
      ],
      "metadata": {
        "id": "rU0fRhG1tF-w"
      },
      "id": "rU0fRhG1tF-w",
      "execution_count": null,
      "outputs": []
    },
    {
      "cell_type": "code",
      "source": [
        "i = 0\n",
        "for data in train_dataloader:\n",
        "    print(data)\n",
        "    i = i+1\n",
        "    if i > 3:\n",
        "      break #確認してみた\n"
      ],
      "metadata": {
        "id": "mXoVEDEYtLIo",
        "outputId": "8f4bc932-8fc4-4f33-b2ae-b6822c68f095",
        "colab": {
          "base_uri": "https://localhost:8080/"
        }
      },
      "id": "mXoVEDEYtLIo",
      "execution_count": null,
      "outputs": [
        {
          "output_type": "stream",
          "name": "stdout",
          "text": [
            "{'input_ids': tensor([[116167,     10,   2284,   6180,     15,     71,    121,      8,    993,\n",
            "           3131,     18,  98306,     10,  17215,  19820,     90,     21,   2216,\n",
            "          27437,   1175,  98306,     10,    162,  38629,      5,      2,    145,\n",
            "              1,   1218,      4,    761,      3],\n",
            "        [     8,    192, 100708,   1006,      2,      6,     21,     44,   1347,\n",
            "              7,    582,     83,     20,     30,  24660,   2521,      5,      1,\n",
            "             86,    313,    314,   4668,      3,      0,      0,      0,      0,\n",
            "              0,      0,      0,      0,      0],\n",
            "        [    13,      1,     92,  14519,    139,     13,     54,     36,   3198,\n",
            "              4,      0,      0,      0,      0,      0,      0,      0,      0,\n",
            "              0,      0,      0,      0,      0,      0,      0,      0,      0,\n",
            "              0,      0,      0,      0,      0],\n",
            "        [    48,      6,   2756,      4,      1,   1628,  17490,     33,    101,\n",
            "          20721,      0,      0,      0,      0,      0,      0,      0,      0,\n",
            "              0,      0,      0,      0,      0,      0,      0,      0,      0,\n",
            "              0,      0,      0,      0,      0],\n",
            "        [   198,    192,    979,      8,   3054,   1836,     87,   4703,     31,\n",
            "              0,      0,      0,      0,      0,      0,      0,      0,      0,\n",
            "              0,      0,      0,      0,      0,      0,      0,      0,      0,\n",
            "              0,      0,      0,      0,      0],\n",
            "        [  1203,   8904,   3446,   4516,     58,  24066,      6, 190861,  14913,\n",
            "              0,      0,      0,      0,      0,      0,      0,      0,      0,\n",
            "              0,      0,      0,      0,      0,      0,      0,      0,      0,\n",
            "              0,      0,      0,      0,      0],\n",
            "        [  1008,  16976,     18,      1,    255,      4,    102,      6,      0,\n",
            "              0,      0,      0,      0,      0,      0,      0,      0,      0,\n",
            "              0,      0,      0,      0,      0,      0,      0,      0,      0,\n",
            "              0,      0,      0,      0,      0],\n",
            "        [    44,     31,   6061,     22,     38,   5260,  90203,      0,      0,\n",
            "              0,      0,      0,      0,      0,      0,      0,      0,      0,\n",
            "              0,      0,      0,      0,      0,      0,      0,      0,      0,\n",
            "              0,      0,      0,      0,      0],\n",
            "        [     8, 155762,  95835,   2291,  57047,      3,      0,      0,      0,\n",
            "              0,      0,      0,      0,      0,      0,      0,      0,      0,\n",
            "              0,      0,      0,      0,      0,      0,      0,      0,      0,\n",
            "              0,      0,      0,      0,      0],\n",
            "        [     1,   1608,    320,      4,      1,     63,      0,      0,      0,\n",
            "              0,      0,      0,      0,      0,      0,      0,      0,      0,\n",
            "              0,      0,      0,      0,      0,      0,      0,      0,      0,\n",
            "              0,      0,      0,      0,      0],\n",
            "        [   456,   3172,      4,   8500,  14560,      0,      0,      0,      0,\n",
            "              0,      0,      0,      0,      0,      0,      0,      0,      0,\n",
            "              0,      0,      0,      0,      0,      0,      0,      0,      0,\n",
            "              0,      0,      0,      0,      0],\n",
            "        [ 40547,      2,  68781,  16764,   8199,      0,      0,      0,      0,\n",
            "              0,      0,      0,      0,      0,      0,      0,      0,      0,\n",
            "              0,      0,      0,      0,      0,      0,      0,      0,      0,\n",
            "              0,      0,      0,      0,      0],\n",
            "        [  1461,   1378,   1109,      0,      0,      0,      0,      0,      0,\n",
            "              0,      0,      0,      0,      0,      0,      0,      0,      0,\n",
            "              0,      0,      0,      0,      0,      0,      0,      0,      0,\n",
            "              0,      0,      0,      0,      0],\n",
            "        [ 21649,      1,    761,      0,      0,      0,      0,      0,      0,\n",
            "              0,      0,      0,      0,      0,      0,      0,      0,      0,\n",
            "              0,      0,      0,      0,      0,      0,      0,      0,      0,\n",
            "              0,      0,      0,      0,      0],\n",
            "        [  1923,  38956,   1721,      0,      0,      0,      0,      0,      0,\n",
            "              0,      0,      0,      0,      0,      0,      0,      0,      0,\n",
            "              0,      0,      0,      0,      0,      0,      0,      0,      0,\n",
            "              0,      0,      0,      0,      0],\n",
            "        [   103,      8,   2987,      0,      0,      0,      0,      0,      0,\n",
            "              0,      0,      0,      0,      0,      0,      0,      0,      0,\n",
            "              0,      0,      0,      0,      0,      0,      0,      0,      0,\n",
            "              0,      0,      0,      0,      0]]), 'label': tensor([[0.],\n",
            "        [1.],\n",
            "        [0.],\n",
            "        [1.],\n",
            "        [0.],\n",
            "        [1.],\n",
            "        [1.],\n",
            "        [1.],\n",
            "        [1.],\n",
            "        [0.],\n",
            "        [1.],\n",
            "        [0.],\n",
            "        [1.],\n",
            "        [1.],\n",
            "        [0.],\n",
            "        [1.]])}\n",
            "{'input_ids': tensor([[    18,     65,      1,   7824,      2,  22673,      6,  16215, 125256,\n",
            "             61,      1,   2492,    435,     27,   1780,    215,   7433,      1,\n",
            "            608,      4,  33739,  24058,      6,  44628,    836,  31226,      3],\n",
            "        [    64,     15,   1482,     85,   2566,     13,     38,    320,   4652,\n",
            "              1,    249,   1209,     23,      1,    249,     80,      7,      1,\n",
            "            300,      4,    163,    124,      3,      0,      0,      0,      0],\n",
            "        [  6517,     30,  26646,   1381,      4,    242,      2,    111,  23697,\n",
            "              6,   2625,    456,    103,     87,   2408,     31,    835,  65895,\n",
            "           3172,      0,      0,      0,      0,      0,      0,      0,      0],\n",
            "        [     2, 136976,   1349,      5,     34,  26038,    360,    168,     86,\n",
            "            137,    820,   1006,     11,  11014,   3479,   1305,      3,      0,\n",
            "              0,      0,      0,      0,      0,      0,      0,      0,      0],\n",
            "        [   935,    139,     20,      8,  40112,  66504,   5352,     13,  15982,\n",
            "              7,     48,  14427,   5391,      4,   3920,  91933,      3,      0,\n",
            "              0,      0,      0,      0,      0,      0,      0,      0,      0],\n",
            "        [  3715,    164,   4122,     15,     71,     20,   5467,     20,     82,\n",
            "           1152,   2449,      3,      0,      0,      0,      0,      0,      0,\n",
            "              0,      0,      0,      0,      0,      0,      0,      0,      0],\n",
            "        [    22,   2154,     39,     33,    574,   3174,      5,    758,     60,\n",
            "              0,      0,      0,      0,      0,      0,      0,      0,      0,\n",
            "              0,      0,      0,      0,      0,      0,      0,      0,      0],\n",
            "        [  2103,   1138,      6,  72076,   3533,   7977,      2,      0,      0,\n",
            "              0,      0,      0,      0,      0,      0,      0,      0,      0,\n",
            "              0,      0,      0,      0,      0,      0,      0,      0,      0],\n",
            "        [     8,     57,   7675,   5231,      2,    414,      0,      0,      0,\n",
            "              0,      0,      0,      0,      0,      0,      0,      0,      0,\n",
            "              0,      0,      0,      0,      0,      0,      0,      0,      0],\n",
            "        [  9528,     26,     65,      1,  19082,      0,      0,      0,      0,\n",
            "              0,      0,      0,      0,      0,      0,      0,      0,      0,\n",
            "              0,      0,      0,      0,      0,      0,      0,      0,      0],\n",
            "        [     8,   7235,   2027,   5012,      0,      0,      0,      0,      0,\n",
            "              0,      0,      0,      0,      0,      0,      0,      0,      0,\n",
            "              0,      0,      0,      0,      0,      0,      0,      0,      0],\n",
            "        [     7,     48,    262,   2192,      0,      0,      0,      0,      0,\n",
            "              0,      0,      0,      0,      0,      0,      0,      0,      0,\n",
            "              0,      0,      0,      0,      0,      0,      0,      0,      0],\n",
            "        [   162,     66,     15,  12388,      0,      0,      0,      0,      0,\n",
            "              0,      0,      0,      0,      0,      0,      0,      0,      0,\n",
            "              0,      0,      0,      0,      0,      0,      0,      0,      0],\n",
            "        [ 20132,   6504,   8040,      0,      0,      0,      0,      0,      0,\n",
            "              0,      0,      0,      0,      0,      0,      0,      0,      0,\n",
            "              0,      0,      0,      0,      0,      0,      0,      0,      0],\n",
            "        [ 40353,    104,      0,      0,      0,      0,      0,      0,      0,\n",
            "              0,      0,      0,      0,      0,      0,      0,      0,      0,\n",
            "              0,      0,      0,      0,      0,      0,      0,      0,      0],\n",
            "        [  1447,   1196,      0,      0,      0,      0,      0,      0,      0,\n",
            "              0,      0,      0,      0,      0,      0,      0,      0,      0,\n",
            "              0,      0,      0,      0,      0,      0,      0,      0,      0]]), 'label': tensor([[0.],\n",
            "        [1.],\n",
            "        [1.],\n",
            "        [0.],\n",
            "        [0.],\n",
            "        [0.],\n",
            "        [0.],\n",
            "        [0.],\n",
            "        [1.],\n",
            "        [0.],\n",
            "        [1.],\n",
            "        [1.],\n",
            "        [1.],\n",
            "        [1.],\n",
            "        [0.],\n",
            "        [1.]])}\n",
            "{'input_ids': tensor([[  4516,     58,   1240,    320,   3867,      7,    592,    360,    556,\n",
            "            180,     66,     26,      1,   1650,      6,   2192,      5,      1,\n",
            "          30650,   3172,     66,  10743,    139,      3],\n",
            "        [    10,     20,  16692,      6,  33932,     20,    662,      2,    691,\n",
            "          20721,      6,      2,     97,      4,      1,     80,      2,   3961,\n",
            "              0,      0,      0,      0,      0,      0],\n",
            "        [     2,     82,    268,    648,   9216,    739,     82,    463,     52,\n",
            "           2642,     65,     38,  50091,      6,  28002,      3,      0,      0,\n",
            "              0,      0,      0,      0,      0,      0],\n",
            "        [  5644,      2,  21255,  99800,     13,   1145,    550,      2,  14815,\n",
            "           1980,      4,     48,      2,  44723,  11902,      3,      0,      0,\n",
            "              0,      0,      0,      0,      0,      0],\n",
            "        [    21,   6298,      5,  10125,     22,     14,  23857,  20161,     10,\n",
            "           5781,  17057,     11, 123927,   2842,      3,      0,      0,      0,\n",
            "              0,      0,      0,      0,      0,      0],\n",
            "        [     2,     21,   6298,      5,  25689,    297,  90062,      4,    521,\n",
            "           2230,   6212,      3,      0,      0,      0,      0,      0,      0,\n",
            "              0,      0,      0,      0,      0,      0],\n",
            "        [  2825,      1,   6299,   1686,   2335,      5,    221,    684,      0,\n",
            "              0,      0,      0,      0,      0,      0,      0,      0,      0,\n",
            "              0,      0,      0,      0,      0,      0],\n",
            "        [  1830,      8,  10391,    884,    550,      4,   1480,   2519,      0,\n",
            "              0,      0,      0,      0,      0,      0,      0,      0,      0,\n",
            "              0,      0,      0,      0,      0,      0],\n",
            "        [     4,   7589,  88975,  33506,     10,  12734,    421,      0,      0,\n",
            "              0,      0,      0,      0,      0,      0,      0,      0,      0,\n",
            "              0,      0,      0,      0,      0,      0],\n",
            "        [  9318,     48,  17912,     14,     48,  17209,      0,      0,      0,\n",
            "              0,      0,      0,      0,      0,      0,      0,      0,      0,\n",
            "              0,      0,      0,      0,      0,      0],\n",
            "        [   110,   1421,      1,   2616,   1428,    320,      0,      0,      0,\n",
            "              0,      0,      0,      0,      0,      0,      0,      0,      0,\n",
            "              0,      0,      0,      0,      0,      0],\n",
            "        [     4,     38,   2927,      4,      8,   1006,      0,      0,      0,\n",
            "              0,      0,      0,      0,      0,      0,      0,      0,      0,\n",
            "              0,      0,      0,      0,      0,      0],\n",
            "        [    21,    663,    118,      8,  15024,      0,      0,      0,      0,\n",
            "              0,      0,      0,      0,      0,      0,      0,      0,      0,\n",
            "              0,      0,      0,      0,      0,      0],\n",
            "        [     1,  10268,    874,      0,      0,      0,      0,      0,      0,\n",
            "              0,      0,      0,      0,      0,      0,      0,      0,      0,\n",
            "              0,      0,      0,      0,      0,      0],\n",
            "        [     8,    220,   1857,      0,      0,      0,      0,      0,      0,\n",
            "              0,      0,      0,      0,      0,      0,      0,      0,      0,\n",
            "              0,      0,      0,      0,      0,      0],\n",
            "        [ 75446,   9167,      0,      0,      0,      0,      0,      0,      0,\n",
            "              0,      0,      0,      0,      0,      0,      0,      0,      0,\n",
            "              0,      0,      0,      0,      0,      0]]), 'label': tensor([[0.],\n",
            "        [1.],\n",
            "        [0.],\n",
            "        [1.],\n",
            "        [1.],\n",
            "        [1.],\n",
            "        [1.],\n",
            "        [1.],\n",
            "        [1.],\n",
            "        [1.],\n",
            "        [1.],\n",
            "        [0.],\n",
            "        [1.],\n",
            "        [0.],\n",
            "        [1.],\n",
            "        [0.]])}\n",
            "{'input_ids': tensor([[   676,     14,      1,  11933,     13,  28861,   4792,   3323,      4,\n",
            "           7520,    220,  27196,   2123,      6,  35716,  14754, 132326,    508,\n",
            "          27804,   2490,    935,     26,    817,  20609,      6,   8527,  22404],\n",
            "        [   360,    101,    457,      8,    320,    935,    386,     13,     15,\n",
            "            101,  64190,   8980,      2,    101,   9957,      7,    101,    110,\n",
            "           1421,     13,   2642,     21,   2201,     82,  26037,      3,      0],\n",
            "        [   786,   3769,     10,   6068,     11,  21099, 104945,      1,  83282,\n",
            "              2, 199896,   2944,      4,      1,    933,     33,     54,      8,\n",
            "           4479,    909,    189,     58,      0,      0,      0,      0,      0],\n",
            "        [   261,     71,    842,      5,   2662,     96,     18,   2220,  17826,\n",
            "              2,     35,    872,   1349,      5,   3711,     48,    262,   8237,\n",
            "              3,      0,      0,      0,      0,      0,      0,      0,      0],\n",
            "        [  9290,      5, 153436,      2,  12833,      2,  31554,      2,  28737,\n",
            "              2,     47,    131,      4,      1,     69,   6503,   9182,      0,\n",
            "              0,      0,      0,      0,      0,      0,      0,      0,      0],\n",
            "        [  1704,  10603,     15,    334,     57,     74,      8,   4893,   1006,\n",
            "           1192,      5,   1917,     80,      3,      0,      0,      0,      0,\n",
            "              0,      0,      0,      0,      0,      0,      0,      0,      0],\n",
            "        [    76,      8,   1247,  11398,  25040,    433,      2,  14760,  16297,\n",
            "             10,  13381,  26282,   1136,      0,      0,      0,      0,      0,\n",
            "              0,      0,      0,      0,      0,      0,      0,      0,      0],\n",
            "        [   770,     31,     20,  15003,   2642, 188631, 307751,     20,      1,\n",
            "           2154,     33,      7,     21,      0,      0,      0,      0,      0,\n",
            "              0,      0,      0,      0,      0,      0,      0,      0,      0],\n",
            "        [    15,    440,     74,     97,      4,      1,   1650,      7,      1,\n",
            "           1006,      0,      0,      0,      0,      0,      0,      0,      0,\n",
            "              0,      0,      0,      0,      0,      0,      0,      0,      0],\n",
            "        [    15,     30,   4002,   1006,    806,      0,      0,      0,      0,\n",
            "              0,      0,      0,      0,      0,      0,      0,      0,      0,\n",
            "              0,      0,      0,      0,      0,      0,      0,      0,      0],\n",
            "        [  3367,      2,   3401,      6,   5280,      0,      0,      0,      0,\n",
            "              0,      0,      0,      0,      0,      0,      0,      0,      0,\n",
            "              0,      0,      0,      0,      0,      0,      0,      0,      0],\n",
            "        [  5159,    393,  28366,  16706,      0,      0,      0,      0,      0,\n",
            "              0,      0,      0,      0,      0,      0,      0,      0,      0,\n",
            "              0,      0,      0,      0,      0,      0,      0,      0,      0],\n",
            "        [ 25013,  21359,      0,      0,      0,      0,      0,      0,      0,\n",
            "              0,      0,      0,      0,      0,      0,      0,      0,      0,\n",
            "              0,      0,      0,      0,      0,      0,      0,      0,      0],\n",
            "        [    15,  11026,      0,      0,      0,      0,      0,      0,      0,\n",
            "              0,      0,      0,      0,      0,      0,      0,      0,      0,\n",
            "              0,      0,      0,      0,      0,      0,      0,      0,      0],\n",
            "        [ 42570,   1381,      0,      0,      0,      0,      0,      0,      0,\n",
            "              0,      0,      0,      0,      0,      0,      0,      0,      0,\n",
            "              0,      0,      0,      0,      0,      0,      0,      0,      0],\n",
            "        [ 18583,      0,      0,      0,      0,      0,      0,      0,      0,\n",
            "              0,      0,      0,      0,      0,      0,      0,      0,      0,\n",
            "              0,      0,      0,      0,      0,      0,      0,      0,      0]]), 'label': tensor([[0.],\n",
            "        [0.],\n",
            "        [1.],\n",
            "        [1.],\n",
            "        [0.],\n",
            "        [0.],\n",
            "        [1.],\n",
            "        [0.],\n",
            "        [0.],\n",
            "        [1.],\n",
            "        [1.],\n",
            "        [0.],\n",
            "        [0.],\n",
            "        [1.],\n",
            "        [1.],\n",
            "        [1.]])}\n"
          ]
        }
      ]
    },
    {
      "cell_type": "code",
      "source": [
        "model_with_batch_learning = LogisticRegression(emb_dim, 1)\n",
        "\n",
        "criterion = nn.BCELoss()\n",
        "optimizer = torch.optim.Adam(model_with_batch_learning.parameters(), lr=0.001)\n",
        "\n",
        "num_epochs = 10\n",
        "\n",
        "for epoch in range(num_epochs):\n",
        "    model_with_batch_learning.train()\n",
        "    total_loss = 0\n",
        "    for batch in train_dataloader:\n",
        "\n",
        "      input_ids_batch = batch['input_ids'] #shape: (B, L)\n",
        "      label_batch = batch['label'].float().squeeze(1) #shape: (B,)\n",
        "\n",
        "      # 特徴量の平均ベクトルをバッチ単位で計算\n",
        "        # embedding_tensor: shape (Vocab_size, emb_dim)\n",
        "        # input_ids_batch: shape (B, L)\n",
        "      embedded = embedding_tensor[input_ids_batch]  # shape: (B, L, D)\n",
        "      mean_vectors = embedded.mean(dim=1)           # shape: (B, D)\n",
        "\n",
        "      outputs = model_with_batch_learning(mean_vectors).squeeze(1)      # shape: (B,)\n",
        "\n",
        "      loss = criterion(outputs, label_batch)\n",
        "      optimizer.zero_grad()\n",
        "      loss.backward()\n",
        "      optimizer.step()\n",
        "\n",
        "      total_loss += loss.item()\n",
        "\n",
        "    print(f\"Epoch {epoch+1}/{num_epochs}, Loss: {total_loss / len(train_dataloader):.4f}\")\n",
        "\n"
      ],
      "metadata": {
        "id": "iK4D2nYuwNsI",
        "outputId": "07511011-815a-4469-9747-650fc2063545",
        "colab": {
          "base_uri": "https://localhost:8080/"
        }
      },
      "id": "iK4D2nYuwNsI",
      "execution_count": null,
      "outputs": [
        {
          "output_type": "stream",
          "name": "stdout",
          "text": [
            "Epoch 1/10, Loss: 0.6305\n",
            "Epoch 2/10, Loss: 0.5806\n",
            "Epoch 3/10, Loss: 0.5606\n",
            "Epoch 4/10, Loss: 0.5500\n",
            "Epoch 5/10, Loss: 0.5447\n",
            "Epoch 6/10, Loss: 0.5402\n",
            "Epoch 7/10, Loss: 0.5377\n",
            "Epoch 8/10, Loss: 0.5355\n",
            "Epoch 9/10, Loss: 0.5344\n",
            "Epoch 10/10, Loss: 0.5333\n"
          ]
        }
      ]
    },
    {
      "cell_type": "code",
      "source": [
        "accuracy = evaluate_accuracy(model_with_batch_learning, dev_data, embedding_tensor)\n",
        "print(f'Accuracy: {accuracy * 100:.2f}%')"
      ],
      "metadata": {
        "id": "FuWWyzyH6CRH",
        "outputId": "99b49a2d-dab4-4afa-f0b2-fef1541fc069",
        "colab": {
          "base_uri": "https://localhost:8080/"
        }
      },
      "id": "FuWWyzyH6CRH",
      "execution_count": null,
      "outputs": [
        {
          "output_type": "stream",
          "name": "stdout",
          "text": [
            "Accuracy: 71.90%\n"
          ]
        }
      ]
    },
    {
      "cell_type": "markdown",
      "id": "RUbjivUTejxn",
      "metadata": {
        "id": "RUbjivUTejxn"
      },
      "source": [
        "## 77. GPU上での学習\n",
        "\n",
        "問題76のモデル学習をGPU上で実行せよ。また、学習したモデルの開発セットにおける正解率を求めよ。"
      ]
    },
    {
      "cell_type": "code",
      "source": [
        "import torch\n",
        "import torch.nn as nn\n",
        "\n",
        "device = torch.device(\"cuda\" if torch.cuda.is_available() else \"cpu\")\n",
        "print(f\"Using device: {device}\")\n",
        "\n",
        "model_with_batch_learning = LogisticRegression(emb_dim, 1).to(device)\n",
        "\n",
        "criterion = nn.BCELoss()\n",
        "optimizer = torch.optim.Adam(model_with_batch_learning.parameters(), lr=0.001)\n",
        "\n",
        "embedding_tensor = embedding_tensor.to(device)\n",
        "\n",
        "num_epochs = 10\n",
        "\n",
        "for epoch in range(num_epochs):\n",
        "    model_with_batch_learning.train()\n",
        "    total_loss = 0\n",
        "    for batch in train_dataloader:\n",
        "\n",
        "        input_ids_batch = batch['input_ids'].to(device)        # shape: (B, L)\n",
        "        label_batch = batch['label'].float().squeeze(1).to(device)  # shape: (B,)\n",
        "\n",
        "        # embedding_tensor: shape (Vocab_size, emb_dim)\n",
        "        # input_ids_batch: shape (B, L)\n",
        "        embedded = embedding_tensor[input_ids_batch]  # shape: (B, L, D)\n",
        "        mean_vectors = embedded.mean(dim=1)           # shape: (B, D)\n",
        "\n",
        "        outputs = model_with_batch_learning(mean_vectors).squeeze(1)  # shape: (B,)\n",
        "\n",
        "        loss = criterion(outputs, label_batch)\n",
        "        optimizer.zero_grad()\n",
        "        loss.backward()\n",
        "        optimizer.step()\n",
        "\n",
        "        total_loss += loss.item()\n",
        "\n",
        "    print(f\"Epoch {epoch+1}/{num_epochs}, Loss: {total_loss / len(train_dataloader):.4f}\")\n"
      ],
      "metadata": {
        "colab": {
          "base_uri": "https://localhost:8080/"
        },
        "id": "hfKoazzMDoYE",
        "outputId": "64d63620-7ac0-4ebf-bd95-65d4cdd0b073"
      },
      "id": "hfKoazzMDoYE",
      "execution_count": null,
      "outputs": [
        {
          "output_type": "stream",
          "name": "stdout",
          "text": [
            "Using device: cuda\n",
            "Epoch 1/10, Loss: 0.6288\n",
            "Epoch 2/10, Loss: 0.5806\n",
            "Epoch 3/10, Loss: 0.5610\n",
            "Epoch 4/10, Loss: 0.5502\n",
            "Epoch 5/10, Loss: 0.5442\n",
            "Epoch 6/10, Loss: 0.5400\n",
            "Epoch 7/10, Loss: 0.5371\n",
            "Epoch 8/10, Loss: 0.5350\n",
            "Epoch 9/10, Loss: 0.5346\n",
            "Epoch 10/10, Loss: 0.5333\n"
          ]
        }
      ]
    },
    {
      "cell_type": "code",
      "source": [
        "def new_evaluate_accuracy(model, dev_data, embedding_tensor, device):\n",
        "    model.eval()\n",
        "    correct = 0\n",
        "    total = 0\n",
        "\n",
        "    model.to(device)\n",
        "    embedding_tensor = embedding_tensor.to(device)\n",
        "\n",
        "    with torch.no_grad():\n",
        "        for data_unit in dev_data:\n",
        "            input_ids = data_unit[\"input_ids\"].to(device)\n",
        "            label = data_unit[\"label\"].to(device)\n",
        "\n",
        "            feature_vector = input_ids2mean_feature(input_ids, embedding_tensor)\n",
        "\n",
        "            output = model(feature_vector)\n",
        "\n",
        "            pred = (output >= 0.5).float()\n",
        "\n",
        "            correct += (pred == label).sum().item()\n",
        "            total += 1\n",
        "\n",
        "    accuracy = correct / total\n",
        "    return accuracy"
      ],
      "metadata": {
        "id": "3Gwiv4ieHu4F"
      },
      "id": "3Gwiv4ieHu4F",
      "execution_count": null,
      "outputs": []
    },
    {
      "cell_type": "code",
      "source": [
        "accuracy = new_evaluate_accuracy(model_with_batch_learning, dev_data, embedding_tensor, device)\n",
        "print(f'Accuracy: {accuracy * 100:.2f}%')"
      ],
      "metadata": {
        "id": "MGZAlFX8HMos",
        "outputId": "7cc95b45-3585-4e5d-f162-f26df2914b4c",
        "colab": {
          "base_uri": "https://localhost:8080/"
        }
      },
      "id": "MGZAlFX8HMos",
      "execution_count": null,
      "outputs": [
        {
          "output_type": "stream",
          "name": "stdout",
          "text": [
            "Accuracy: 72.13%\n"
          ]
        }
      ]
    },
    {
      "cell_type": "markdown",
      "id": "ZUY1PsD-eplq",
      "metadata": {
        "id": "ZUY1PsD-eplq"
      },
      "source": [
        "## 78. 単語埋め込みのファインチューニング\n",
        "\n",
        "問題77の学習において、単語埋め込みのパラメータも同時に更新するファインチューニングを導入せよ。また、学習したモデルの開発セットにおける正解率を求めよ。"
      ]
    },
    {
      "cell_type": "code",
      "source": [
        "import torch\n",
        "import torch.nn as nn\n",
        "\n",
        "device = torch.device(\"cuda\" if torch.cuda.is_available() else \"cpu\")\n",
        "print(f\"Using device: {device}\")\n",
        "\n",
        "embedding_layer = nn.Embedding.from_pretrained(embedding_tensor, freeze=False).to(device)\n",
        "model_with_batch_learning_gpu = LogisticRegression(emb_dim, 1).to(device)\n",
        "\n",
        "criterion = nn.BCELoss()\n",
        "optimizer = torch.optim.Adam(\n",
        "    list(model_with_batch_learning_gpu.parameters()) + list(embedding_layer.parameters()),\n",
        "    lr=0.001\n",
        ")\n",
        "\n",
        "num_epochs = 10\n",
        "\n",
        "for epoch in range(num_epochs):\n",
        "    model_with_batch_learning_gpu.train()\n",
        "    total_loss = 0\n",
        "    for batch in train_dataloader:\n",
        "        input_ids_batch = batch['input_ids'].to(device)\n",
        "        label_batch = batch['label'].float().squeeze(1).to(device)\n",
        "\n",
        "        embedded = embedding_layer(input_ids_batch)  # shape: (B, L, D)\n",
        "        mean_vectors = embedded.mean(dim=1)          # shape: (B, D)\n",
        "\n",
        "        outputs = model_with_batch_learning_gpu(mean_vectors).squeeze(1)\n",
        "\n",
        "        loss = criterion(outputs, label_batch)\n",
        "        optimizer.zero_grad()\n",
        "        loss.backward()\n",
        "        optimizer.step()\n",
        "\n",
        "        total_loss += loss.item()\n",
        "\n",
        "    print(f\"Epoch {epoch+1}/{num_epochs}, Loss: {total_loss / len(train_dataloader):.4f}\")\n"
      ],
      "metadata": {
        "colab": {
          "base_uri": "https://localhost:8080/"
        },
        "id": "28io_DPhEsuw",
        "outputId": "60454f1b-a5d0-47b3-cd3d-6811ea948cf8"
      },
      "id": "28io_DPhEsuw",
      "execution_count": null,
      "outputs": [
        {
          "output_type": "stream",
          "name": "stdout",
          "text": [
            "Using device: cuda\n",
            "Epoch 1/10, Loss: 0.5044\n",
            "Epoch 2/10, Loss: 0.2996\n",
            "Epoch 3/10, Loss: 0.2402\n",
            "Epoch 4/10, Loss: 0.2118\n",
            "Epoch 5/10, Loss: 0.1948\n",
            "Epoch 6/10, Loss: 0.1822\n",
            "Epoch 7/10, Loss: 0.1748\n",
            "Epoch 8/10, Loss: 0.1675\n",
            "Epoch 9/10, Loss: 0.1631\n",
            "Epoch 10/10, Loss: 0.1577\n"
          ]
        }
      ]
    },
    {
      "cell_type": "code",
      "source": [
        "accuracy = new_evaluate_accuracy(model_with_batch_learning_gpu, dev_data, embedding_tensor, device)\n",
        "print(f'Accuracy: {accuracy * 100:.2f}%')"
      ],
      "metadata": {
        "id": "pLXYR5XIj8ec",
        "outputId": "021e811e-3242-4ea9-ddad-90f82412c391",
        "colab": {
          "base_uri": "https://localhost:8080/"
        }
      },
      "id": "pLXYR5XIj8ec",
      "execution_count": null,
      "outputs": [
        {
          "output_type": "stream",
          "name": "stdout",
          "text": [
            "Accuracy: 81.42%\n"
          ]
        }
      ]
    },
    {
      "cell_type": "markdown",
      "source": [
        "単語埋め込みベクトルも学習させようとすると，メモリに乗っかりきらないっぽい(無料の限界)"
      ],
      "metadata": {
        "id": "PwoBIWEbIIhV"
      },
      "id": "PwoBIWEbIIhV"
    },
    {
      "cell_type": "markdown",
      "id": "jVAdWIq0evKR",
      "metadata": {
        "id": "jVAdWIq0evKR"
      },
      "source": [
        "## 79. アーキテクチャの変更\n",
        "\n",
        "ニューラルネットワークのアーキテクチャを自由に変更し、モデルを学習せよ。また、学習したモデルの開発セットにおける正解率を求めよ。例えば、テキストの特徴ベクトル（単語埋め込みの平均ベクトル）に対して多層のニューラルネットワークを通したり、畳み込みニューラルネットワーク（CNN; Convolutional Neural Network）や再帰型ニューラルネットワーク（RNN; Recurrent Neural Network）などのモデルの学習に挑戦するとよい。"
      ]
    },
    {
      "cell_type": "code",
      "source": [
        "import torch\n",
        "import torch.nn as nn\n",
        "import torch.nn.functional as F\n",
        "\n",
        "class MLP(nn.Module):\n",
        "    def __init__(self, input_dim, hidden_dim, output_dim):\n",
        "        super(MLP, self).__init__()\n",
        "        self.fc1 = nn.Linear(input_dim, hidden_dim)\n",
        "        self.fc2 = nn.Linear(hidden_dim, output_dim)\n",
        "\n",
        "    def forward(self, x):\n",
        "        h1 = F.relu(self.fc1(x)) #中間はrelu使って最後はsigmoid\n",
        "        h2 = torch.sigmoid(self.fc2(h1))\n",
        "        return h2\n"
      ],
      "metadata": {
        "id": "vc8MlC3rI15v"
      },
      "id": "vc8MlC3rI15v",
      "execution_count": null,
      "outputs": []
    },
    {
      "cell_type": "code",
      "source": [
        "import torch\n",
        "import torch.nn as nn\n",
        "\n",
        "device = torch.device(\"cuda\" if torch.cuda.is_available() else \"cpu\")\n",
        "print(f\"Using device: {device}\")\n",
        "\n",
        "mlp = MLP(emb_dim,64, 1).to(device) #hidden_dimを64にした\n",
        "\n",
        "criterion = nn.BCELoss()\n",
        "optimizer = torch.optim.Adam(mlp.parameters(), lr=0.001)\n",
        "\n",
        "embedding_tensor = embedding_tensor.to(device)\n",
        "\n",
        "num_epochs = 10\n",
        "\n",
        "for epoch in range(num_epochs):\n",
        "    mlp.train()\n",
        "    total_loss = 0\n",
        "    for batch in train_dataloader:\n",
        "\n",
        "        input_ids_batch = batch['input_ids'].to(device)        # shape: (B, L)\n",
        "        label_batch = batch['label'].float().squeeze(1).to(device)  # shape: (B,)\n",
        "\n",
        "        # embedding_tensor: shape (Vocab_size, emb_dim)\n",
        "        # input_ids_batch: shape (B, L)\n",
        "        embedded = embedding_tensor[input_ids_batch]  # shape: (B, L, D)\n",
        "        mean_vectors = embedded.mean(dim=1)           # shape: (B, D)\n",
        "\n",
        "        outputs = mlp(mean_vectors).squeeze(1)  # shape: (B,)\n",
        "\n",
        "        loss = criterion(outputs, label_batch)\n",
        "        optimizer.zero_grad()\n",
        "        loss.backward()\n",
        "        optimizer.step()\n",
        "\n",
        "        total_loss += loss.item()\n",
        "\n",
        "    print(f\"Epoch {epoch+1}/{num_epochs}, Loss: {total_loss / len(train_dataloader):.4f}\")\n"
      ],
      "metadata": {
        "id": "OlpszsU2JM9Q",
        "outputId": "d4b33690-08f2-4e22-e646-568951769744",
        "colab": {
          "base_uri": "https://localhost:8080/"
        }
      },
      "id": "OlpszsU2JM9Q",
      "execution_count": null,
      "outputs": [
        {
          "output_type": "stream",
          "name": "stdout",
          "text": [
            "Using device: cuda\n",
            "Epoch 1/10, Loss: 0.1511\n",
            "Epoch 2/10, Loss: 0.1359\n",
            "Epoch 3/10, Loss: 0.1344\n",
            "Epoch 4/10, Loss: 0.1340\n",
            "Epoch 5/10, Loss: 0.1340\n",
            "Epoch 6/10, Loss: 0.1330\n",
            "Epoch 7/10, Loss: 0.1332\n",
            "Epoch 8/10, Loss: 0.1320\n",
            "Epoch 9/10, Loss: 0.1321\n",
            "Epoch 10/10, Loss: 0.1314\n"
          ]
        }
      ]
    },
    {
      "cell_type": "code",
      "source": [
        "accuracy = new_evaluate_accuracy(mlp, dev_data, embedding_tensor, device)\n",
        "print(f'Accuracy: {accuracy * 100:.2f}%')"
      ],
      "metadata": {
        "id": "CHnsPB3HJuFz",
        "outputId": "89768b2c-e8c9-4ab2-86ba-9adfa72a21f5",
        "colab": {
          "base_uri": "https://localhost:8080/"
        }
      },
      "id": "CHnsPB3HJuFz",
      "execution_count": null,
      "outputs": [
        {
          "output_type": "stream",
          "name": "stdout",
          "text": [
            "Accuracy: 80.16%\n"
          ]
        }
      ]
    }
  ],
  "metadata": {
    "colab": {
      "provenance": [],
      "gpuType": "T4"
    },
    "kernelspec": {
      "display_name": "Python 3",
      "name": "python3"
    },
    "language_info": {
      "codemirror_mode": {
        "name": "ipython",
        "version": 3
      },
      "file_extension": ".py",
      "mimetype": "text/x-python",
      "name": "python",
      "nbconvert_exporter": "python",
      "pygments_lexer": "ipython3",
      "version": "3.12.3"
    },
    "accelerator": "GPU"
  },
  "nbformat": 4,
  "nbformat_minor": 5
}
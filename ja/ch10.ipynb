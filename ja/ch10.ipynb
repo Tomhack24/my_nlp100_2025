{
  "cells": [
    {
      "cell_type": "markdown",
      "metadata": {
        "editable": true,
        "id": "ADPET68xjlzr",
        "tags": []
      },
      "source": [
        "# 第10章: 事前学習済み言語モデル（GPT型）\n",
        "\n",
        "本章では、GPT型（Transformerのデコーダ型）の事前学習済みモデルを利用して、言語生成、評判分析器（ポジネガ分類器）の構築、ファインチューニング、強化学習などに取り組む。"
      ]
    },
    {
      "cell_type": "code",
      "source": [
        "%%capture\n",
        "!pip install transformers"
      ],
      "metadata": {
        "id": "IxpqfMR3tzYa"
      },
      "execution_count": 27,
      "outputs": []
    },
    {
      "cell_type": "markdown",
      "metadata": {
        "editable": true,
        "id": "C1xKmMckti92",
        "tags": []
      },
      "source": [
        "## 90. 次単語予測\n",
        "\n",
        "“The movie was full of\"に続くトークン（トークン列ではなく一つのトークンであることに注意せよ）として適切なもの上位10個と、その確率（尤度）を求めよ。ただし、言語モデルへのプロンプトがどのようなトークン列に変換されたか、確認せよ。"
      ]
    },
    {
      "cell_type": "code",
      "source": [
        "import torch\n",
        "import numpy as np\n",
        "import pandas as pd\n",
        "import torch.nn as nn\n",
        "import torch.nn.functional as F\n",
        "from tqdm import tqdm\n",
        "from transformers import GPT2Tokenizer, GPT2LMHeadModel\n",
        "from torch.utils.data import Dataset, DataLoader"
      ],
      "metadata": {
        "id": "48EIUcopyPw9"
      },
      "execution_count": 22,
      "outputs": []
    },
    {
      "cell_type": "code",
      "source": [
        "model_name = 'gpt2'\n",
        "tokenizer = GPT2Tokenizer.from_pretrained(model_name)\n",
        "model = GPT2LMHeadModel.from_pretrained(model_name)\n",
        "\n",
        "model.eval()\n",
        "\n",
        "prompt = \"The movie was full of\"\n",
        "\n",
        "\n",
        "encoded_input = tokenizer(prompt, return_tensors='pt')\n",
        "print(f\"inputs_ids shape:{encoded_input['input_ids'].shape}\\nattention_mask shape:{encoded_input['attention_mask'].shape}\\n\")\n",
        "print(encoded_input)\n",
        "token = tokenizer.decode(encoded_input['input_ids'][0])\n",
        "print(f\"tokens: {token}\\n\")\n",
        "\n",
        "with torch.no_grad():\n",
        "    output = model(**encoded_input)\n",
        "\n",
        "\n",
        "logits = output.logits\n",
        "print(logits.shape) #shape: [B, L, V]\n",
        "\n",
        "last_token_logits = logits[0, -1, :]  #これで一番最後のトークンの次のロジット\n",
        "print(last_token_logits.shape)\n",
        "\n",
        "last_token_logits_prob = F.softmax(last_token_logits, dim=0)\n",
        "\n",
        "topk = torch.topk(last_token_logits_prob, k=10)\n",
        "\n",
        "for idx, score in zip(topk.indices, topk.values):\n",
        "    print(f\"{tokenizer.decode(idx)}: {score.item():.4f}\")"
      ],
      "metadata": {
        "colab": {
          "base_uri": "https://localhost:8080/"
        },
        "id": "w8wNaYzrusro",
        "outputId": "13a0407b-8815-4f09-afa3-326a98945d3b"
      },
      "execution_count": 23,
      "outputs": [
        {
          "output_type": "stream",
          "name": "stdout",
          "text": [
            "inputs_ids shape:torch.Size([1, 5])\n",
            "attention_mask shape:torch.Size([1, 5])\n",
            "\n",
            "{'input_ids': tensor([[ 464, 3807,  373, 1336,  286]]), 'attention_mask': tensor([[1, 1, 1, 1, 1]])}\n",
            "tokens: The movie was full of\n",
            "\n",
            "torch.Size([1, 5, 50257])\n",
            "torch.Size([50257])\n",
            " jokes: 0.0219\n",
            " great: 0.0186\n",
            " laughs: 0.0115\n",
            " bad: 0.0109\n",
            " surprises: 0.0107\n",
            " references: 0.0105\n",
            " fun: 0.0100\n",
            " humor: 0.0074\n",
            " \": 0.0074\n",
            " the: 0.0067\n"
          ]
        }
      ]
    },
    {
      "cell_type": "markdown",
      "metadata": {
        "editable": true,
        "id": "s1RhOldA0meh",
        "tags": []
      },
      "source": [
        "## 91. 続きのテキストの予測\n",
        "\n",
        "“The movie was full of\"に続くテキストを複数予測せよ。このとき、デコーディングの方法や温度パラメータ（temperature）を変えながら、予測される複数のテキストの変化を観察せよ。"
      ]
    },
    {
      "cell_type": "code",
      "source": [
        "#greedy\n",
        "import time\n",
        "model_name = 'gpt2'\n",
        "tokenizer = GPT2Tokenizer.from_pretrained(model_name)\n",
        "model = GPT2LMHeadModel.from_pretrained(model_name)\n",
        "\n",
        "model.eval()\n",
        "\n",
        "prompt = \"The movie was full of\"\n",
        "\n",
        "encoded_input = tokenizer(prompt, return_tensors='pt')\n",
        "\n",
        "start_time = time.time()\n",
        "output = model.generate(encoded_input['input_ids'], max_length=20)\n",
        "end_time = time.time()\n",
        "print(f\"time: {(end_time - start_time):.4f}\")\n",
        "print(output.shape) #shape: [B,L]\n",
        "print(tokenizer.decode(output[0], skip_special_tokens=False)) #確率が最も高いトークンを１つずつ順番に選んでいく->greedy decoding デフォはこれっぽい\n"
      ],
      "metadata": {
        "id": "Gx9IWBHmGHjN",
        "outputId": "60a05493-2dc5-46c4-9476-6e01e695a923",
        "colab": {
          "base_uri": "https://localhost:8080/"
        }
      },
      "execution_count": 24,
      "outputs": [
        {
          "output_type": "stream",
          "name": "stderr",
          "text": [
            "The attention mask and the pad token id were not set. As a consequence, you may observe unexpected behavior. Please pass your input's `attention_mask` to obtain reliable results.\n",
            "Setting `pad_token_id` to `eos_token_id`:50256 for open-end generation.\n"
          ]
        },
        {
          "output_type": "stream",
          "name": "stdout",
          "text": [
            "time: 1.5399\n",
            "torch.Size([1, 20])\n",
            "The movie was full of jokes and jokes about how the movie was a joke. It was a joke\n"
          ]
        }
      ]
    },
    {
      "cell_type": "code",
      "source": [
        "#beam_serch\n",
        "import time\n",
        "model_name = 'gpt2'\n",
        "tokenizer = GPT2Tokenizer.from_pretrained(model_name)\n",
        "model = GPT2LMHeadModel.from_pretrained(model_name)\n",
        "\n",
        "model.eval()\n",
        "\n",
        "prompt = \"The movie was full of\"\n",
        "\n",
        "encoded_input = tokenizer(prompt, return_tensors='pt')\n",
        "start_time = time.time()\n",
        "output = model.generate(encoded_input['input_ids'], max_length=15, num_beams=5)\n",
        "end_time = time.time()\n",
        "print(f\"time: {(end_time - start_time):.3f}s\")\n",
        "print(output.shape) #shape: [B,L]\n",
        "print(tokenizer.decode(output[0], skip_special_tokens=False)) #ビームサーチは貪欲法と比較して処理時間がおそい．\n"
      ],
      "metadata": {
        "id": "_2bEWV6dpznj",
        "outputId": "0e82dfb9-b570-486f-dc79-6605cea82f4a",
        "colab": {
          "base_uri": "https://localhost:8080/"
        }
      },
      "execution_count": 25,
      "outputs": [
        {
          "output_type": "stream",
          "name": "stderr",
          "text": [
            "The attention mask and the pad token id were not set. As a consequence, you may observe unexpected behavior. Please pass your input's `attention_mask` to obtain reliable results.\n",
            "Setting `pad_token_id` to `eos_token_id`:50256 for open-end generation.\n"
          ]
        },
        {
          "output_type": "stream",
          "name": "stdout",
          "text": [
            "time: 4.227\n",
            "torch.Size([1, 15])\n",
            "The movie was full of jokes and jokes and jokes and jokes and jokes and\n"
          ]
        }
      ]
    },
    {
      "cell_type": "code",
      "source": [
        "#topk\n",
        "import time\n",
        "model_name = 'gpt2'\n",
        "tokenizer = GPT2Tokenizer.from_pretrained(model_name)\n",
        "model = GPT2LMHeadModel.from_pretrained(model_name)\n",
        "\n",
        "model.eval()\n",
        "\n",
        "prompt = \"The movie was full of\"\n",
        "\n",
        "encoded_input = tokenizer(prompt, return_tensors='pt')\n",
        "start_time = time.time()\n",
        "output = model.generate(\n",
        "    encoded_input['input_ids'],\n",
        "    max_length=15,\n",
        "    top_k=50,\n",
        "    top_p=1.0,\n",
        "    temperature=1.0)\n",
        "end_time = time.time()\n",
        "print(f\"time: {(end_time - start_time):.3f}s\")\n",
        "print(output.shape) #shape: [B,L]\n",
        "print(tokenizer.decode(output[0], skip_special_tokens=False))"
      ],
      "metadata": {
        "id": "_fMBlNtwwstH",
        "outputId": "5d3096a2-2f67-474e-b22a-a0d4495d84d1",
        "colab": {
          "base_uri": "https://localhost:8080/"
        }
      },
      "execution_count": 40,
      "outputs": [
        {
          "output_type": "stream",
          "name": "stderr",
          "text": [
            "The attention mask and the pad token id were not set. As a consequence, you may observe unexpected behavior. Please pass your input's `attention_mask` to obtain reliable results.\n",
            "Setting `pad_token_id` to `eos_token_id`:50256 for open-end generation.\n"
          ]
        },
        {
          "output_type": "stream",
          "name": "stdout",
          "text": [
            "time: 1.260s\n",
            "torch.Size([1, 15])\n",
            "The movie was full of jokes and jokes about how the movie was a joke\n"
          ]
        }
      ]
    },
    {
      "cell_type": "markdown",
      "metadata": {
        "editable": true,
        "id": "7ZFadg6B8VdA",
        "tags": []
      },
      "source": [
        "## 92. 予測されたテキストの確率を計算\n",
        "\n",
        "“The movie was full of\"に続くテキストを予測し、生成された各単語の尤度を表示せよ（生成されるテキストが長いと出力が読みにくくなるので、適当な長さで生成を打ち切るとよい）。"
      ]
    },
    {
      "cell_type": "code",
      "source": [
        "import time\n",
        "\n",
        "model_name = 'gpt2'\n",
        "tokenizer = GPT2Tokenizer.from_pretrained(model_name)\n",
        "model = GPT2LMHeadModel.from_pretrained(model_name)\n",
        "model.eval()\n",
        "\n",
        "prompt = \"The movie was full of\"\n",
        "encoded_input = tokenizer(prompt, return_tensors='pt')\n",
        "input_ids = encoded_input['input_ids']\n",
        "\n",
        "start_time = time.time()\n",
        "\n",
        "output = model.generate(\n",
        "    input_ids,\n",
        "    max_length=15,\n",
        "    top_k=50,\n",
        "    top_p=1.0,\n",
        "    temperature=1.0,\n",
        "    return_dict_in_generate=True,\n",
        "    output_scores=True\n",
        ")\n",
        "end_time = time.time()\n",
        "\n",
        "generated_ids = output.sequences[0]\n",
        "print(f\"generated_ids shape: {generated_ids.shape}\")\n",
        "generated_text = tokenizer.decode(generated_ids, skip_special_tokens=True)\n",
        "print(f\"time: {(end_time - start_time):.3f}s\")\n",
        "print(f\"\\nGenerated Text:\\n{generated_text}\\n\")\n",
        "\n",
        "print(len(output.scores)) #tuple: max_len - input_len (=generated_len)\n",
        "print(output.scores[0].shape) #shape: [1, vocab_size]\n",
        "\n",
        "for score in output.scores:\n",
        "  prob = F.softmax(score, dim=1)\n",
        "  vocab_ids = torch.argmax(score, dim=1) #shape: [batch_size, ]\n",
        "  tokens = tokenizer.decode(vocab_ids)\n",
        "  print(f\"{tokens}: P={prob[0, vocab_ids].item():.3f}\")"
      ],
      "metadata": {
        "id": "31qsnFz5Aq7_",
        "outputId": "0f448191-b127-4728-c851-8d2b0e4f0761",
        "colab": {
          "base_uri": "https://localhost:8080/"
        }
      },
      "execution_count": 76,
      "outputs": [
        {
          "output_type": "stream",
          "name": "stderr",
          "text": [
            "The attention mask and the pad token id were not set. As a consequence, you may observe unexpected behavior. Please pass your input's `attention_mask` to obtain reliable results.\n",
            "Setting `pad_token_id` to `eos_token_id`:50256 for open-end generation.\n"
          ]
        },
        {
          "output_type": "stream",
          "name": "stdout",
          "text": [
            "generated_ids shape: torch.Size([15])\n",
            "time: 0.814s\n",
            "\n",
            "Generated Text:\n",
            "The movie was full of jokes and jokes about how the movie was a joke\n",
            "\n",
            "10\n",
            "torch.Size([1, 50257])\n",
            " jokes: P=0.022\n",
            " and: P=0.289\n",
            " jokes: P=0.099\n",
            " about: P=0.206\n",
            " how: P=0.100\n",
            " the: P=0.085\n",
            " movie: P=0.036\n",
            " was: P=0.296\n",
            " a: P=0.068\n",
            " joke: P=0.174\n"
          ]
        }
      ]
    },
    {
      "cell_type": "markdown",
      "metadata": {
        "editable": true,
        "id": "FvNCTMj6OegF",
        "tags": []
      },
      "source": [
        "## 93. パープレキシティ\n",
        "\n",
        "適当な文を準備して、事前学習済み言語モデルでパープレキシティを測定せよ。例えば、\n",
        "\n",
        "+ The movie was full of surprises\n",
        "+ The movies were full of surprises\n",
        "+ The movie were full of surprises\n",
        "+ The movies was full of surprises\n",
        "\n",
        "の4文に対して、パープレキシティを測定して観察せよ（最後の2つの文は故意に文法的な間違いを入れた）。"
      ]
    },
    {
      "cell_type": "markdown",
      "metadata": {
        "id": "8-7fB-n9suYg"
      },
      "source": [
        "## 94. チャットテンプレート\n",
        "\n",
        "\"What do you call a sweet eaten after dinner?\"という問いかけに対する応答を生成するため、チャットテンプレートを適用し、言語モデルに与えるべきプロンプトを作成せよ。また、そのプロンプトに対する応答を生成し、表示せよ。"
      ]
    },
    {
      "cell_type": "markdown",
      "metadata": {
        "editable": true,
        "id": "PT-bk0XWIZ2E",
        "tags": []
      },
      "source": [
        "## 95. マルチターンのチャット\n",
        "\n",
        "問題94で生成された応答に対して、追加で\"Please give me the plural form of the word with its spelling in reverse order.\"と問いかけたときの応答を生成・表示せよ。また、その時に言語モデルに与えるプロンプトを確認せよ。"
      ]
    },
    {
      "cell_type": "markdown",
      "metadata": {
        "editable": true,
        "id": "qH0YortL0afd",
        "tags": []
      },
      "source": [
        "## 96. プロンプトによる感情分析\n",
        "\n",
        "事前学習済み言語モデルで感情分析を行いたい。テキストを含むプロンプトを事前学習済み言語モデルに与え、（ファインチューニングは行わずに）テキストのポジネガを予測するという戦略で、[SST-2](https://dl.fbaipublicfiles.com/glue/data/SST-2.zip)の開発データにおける正解率を測定せよ。"
      ]
    },
    {
      "cell_type": "markdown",
      "metadata": {
        "editable": true,
        "id": "giA6FivrKaSf",
        "tags": []
      },
      "source": [
        "## 97. 埋め込みに基づく感情分析\n",
        "\n",
        "事前学習済み言語モデルでテキストをベクトルで表現（エンコード）し、そのベクトルにフィードフォワード層を通すことで極性ラベルを予測するモデルを学習せよ。"
      ]
    },
    {
      "cell_type": "markdown",
      "metadata": {
        "editable": true,
        "id": "UnREZD3nTWUr",
        "tags": []
      },
      "source": [
        "## 98. ファインチューニング\n",
        "\n",
        "問題96のプロンプトに対して、正解の感情ラベルをテキストの応答として返すように事前学習済みモデルをファインチューニングせよ。"
      ]
    },
    {
      "cell_type": "markdown",
      "metadata": {
        "editable": true,
        "id": "4f0St5Ce0l34",
        "tags": []
      },
      "source": [
        "## 99. 選好チューニング\n",
        "\n",
        "問題96のプロンプトに対して、正解の感情ラベルを含むテキストを望ましい応答、間違った感情ラベルを含むテキストを望ましくない応答として、事前学習済み言語モデルを選好チューニング (preference tuning) を実施せよ。選好チューニングのアルゴリズムとしては、近傍方策最適化 (PPO: Proximal Policy Optimization) や直接選好最適化 (DPO: Direct Preference Optimization) などが考えられる。\n"
      ]
    }
  ],
  "metadata": {
    "colab": {
      "provenance": []
    },
    "kernelspec": {
      "display_name": "Python 3",
      "name": "python3"
    },
    "language_info": {
      "codemirror_mode": {
        "name": "ipython",
        "version": 3
      },
      "file_extension": ".py",
      "mimetype": "text/x-python",
      "name": "python",
      "nbconvert_exporter": "python",
      "pygments_lexer": "ipython3",
      "version": "3.12.3"
    }
  },
  "nbformat": 4,
  "nbformat_minor": 0
}
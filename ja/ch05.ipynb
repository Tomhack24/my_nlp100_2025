{
  "cells": [
    {
      "cell_type": "markdown",
      "id": "bf8022b0-6a02-44e3-b2da-ef2efca867e7",
      "metadata": {
        "editable": true,
        "id": "bf8022b0-6a02-44e3-b2da-ef2efca867e7",
        "tags": []
      },
      "source": [
        "# 第5章: 大規模言語モデル\n",
        "\n",
        "この章では、大規模言語モデル (LLM; Large Language Model) の利用し、様々なタスクに取り組む。大規模言語モデルをプログラムからAPI経由で呼び出すことを想定しており、そのAPIの利用で費用が発生する可能性があることに留意せよ。"
      ]
    },
    {
      "cell_type": "code",
      "source": [
        "from google.colab import userdata\n",
        "import google.generativeai as genai\n",
        "\n",
        "GOOGLE_API_KEY = userdata.get(\"GOOGLE_API_KEY\")\n",
        "genai.configure(api_key=GOOGLE_API_KEY)"
      ],
      "metadata": {
        "id": "eJZvKJAu9v3i"
      },
      "id": "eJZvKJAu9v3i",
      "execution_count": 1,
      "outputs": []
    },
    {
      "cell_type": "markdown",
      "id": "1cb183db-021f-41f5-b719-15f34fe14da2",
      "metadata": {
        "id": "1cb183db-021f-41f5-b719-15f34fe14da2"
      },
      "source": [
        "## 40. Zero-Shot推論\n",
        "\n",
        "以下の問題の解答を作成せよ。ただし、解答生成はzero-shot推論とせよ。\n",
        "\n",
        "```\n",
        "9世紀に活躍した人物に関係するできごとについて述べた次のア～ウを年代の古い順に正しく並べよ。\n",
        "\n",
        "ア　藤原時平は，策謀を用いて菅原道真を政界から追放した。\n",
        "イ　嵯峨天皇は，藤原冬嗣らを蔵人頭に任命した。\n",
        "ウ　藤原良房は，承和の変後，藤原氏の中での北家の優位を確立した。\n",
        "```\n",
        "\n",
        "出典: [令和5年度第1回高等学校卒業程度認定試験問題](https://www.mext.go.jp/a_menu/koutou/shiken/kakomon/1411255_00010.htm) [日本史AB 問題](https://www.mext.go.jp/content/20240523-mxt_syogai02-mext_000031286_03nihonshi.pdf) 日本史B 1 問3"
      ]
    },
    {
      "cell_type": "code",
      "source": [
        "model = genai.GenerativeModel(\"gemini-1.5-flash\")\n",
        "question = \"9世紀に活躍した人物に関係するできごとについて述べた次のア～ウを年代の古い順に正しく並べよ。\\n\\nア　藤原時平は，策謀を用いて菅原道真を政界から追放した。\\nイ　嵯峨天皇は，藤原冬嗣らを蔵人頭に任命した。\\nウ　藤原良房は，承和の変後，藤原氏の中での北家の優位を確立した。\"\n",
        "response = model.generate_content(question)\n",
        "print(response.text)"
      ],
      "metadata": {
        "colab": {
          "base_uri": "https://localhost:8080/",
          "height": 201
        },
        "id": "NUmb4qtQ-noO",
        "outputId": "5bb4dd90-bdf5-482d-ee6f-83d6d8630a8c"
      },
      "id": "NUmb4qtQ-noO",
      "execution_count": 2,
      "outputs": [
        {
          "output_type": "stream",
          "name": "stdout",
          "text": [
            "9世紀における出来事を年代順に並べると以下のようになります。\n",
            "\n",
            "1. **ウ　藤原良房は，承和の変後，藤原氏の中での北家の優位を確立した。**  承和の変は834年。その後の良房の台頭で北家が勢力を伸ばしました。\n",
            "\n",
            "2. **イ　嵯峨天皇は，藤原冬嗣らを蔵人頭に任命した。** 嵯峨天皇の在位は809年から823年。藤原冬嗣は嵯峨天皇の時代に活躍した人物です。\n",
            "\n",
            "3. **ア　藤原時平は，策謀を用いて菅原道真を政界から追放した。**  これは894年のことです。\n",
            "\n",
            "よって、年代順はウ→イ→アとなります。\n",
            "\n"
          ]
        }
      ]
    },
    {
      "cell_type": "markdown",
      "id": "608f75ea-f00f-4365-b642-bf55fe98fa9c",
      "metadata": {
        "id": "608f75ea-f00f-4365-b642-bf55fe98fa9c"
      },
      "source": [
        "## 41. Few-Shot推論\n",
        "\n",
        "以下の問題と解答を与え、問題40で示した質問の解答をfew-shot推論（この場合は4-shot推論）で生成せよ。\n",
        "\n",
        "```\n",
        "日本の近代化に関連するできごとについて述べた次のア～ウを年代の古い順に正しく並べよ。\n",
        "\n",
        "ア　府知事・県令からなる地方官会議が設置された。\n",
        "イ　廃藩置県が実施され，中央から府知事・県令が派遣される体制になった。\n",
        "ウ　すべての藩主が，天皇に領地と領民を返還した。\n",
        "\n",
        "解答: ウ→イ→ア\n",
        "```\n",
        "\n",
        "出典: [令和5年度第1回高等学校卒業程度認定試験問題](https://www.mext.go.jp/a_menu/koutou/shiken/kakomon/1411255_00010.htm) [日本史AB 問題](https://www.mext.go.jp/content/20240523-mxt_syogai02-mext_000031286_03nihonshi.pdf) 日本史A 1 問8\n",
        "\n",
        "\n",
        "```\n",
        "江戸幕府の北方での対外的な緊張について述べた次の文ア～ウを年代の古い順に正しく並べよ。\n",
        "\n",
        "ア　レザノフが長崎に来航したが，幕府が冷淡な対応をしたため，ロシア船が樺太や択捉島を攻撃した。\n",
        "イ　ゴローウニンが国後島に上陸し，幕府の役人に捕らえられ抑留された。\n",
        "ウ　ラクスマンが根室に来航し，漂流民を届けるとともに通商を求めた。\n",
        "\n",
        "解答: ウ→ア→イ\n",
        "```\n",
        "\n",
        "出典: [令和5年度第1回高等学校卒業程度認定試験問題](https://www.mext.go.jp/a_menu/koutou/shiken/kakomon/1411255_00010.htm) [日本史AB 問題](https://www.mext.go.jp/content/20240523-mxt_syogai02-mext_000031286_03nihonshi.pdf) 日本史B 3 問3\n",
        "\n",
        "```\n",
        "中居屋重兵衛の生涯の期間におこったできごとについて述べた次のア～ウを，年代の古い順に正しく並べよ。\n",
        "\n",
        "ア　アヘン戦争がおこり，清がイギリスに敗北した。\n",
        "イ　異国船打払令が出され，外国船を撃退することが命じられた。\n",
        "ウ　桜田門外の変がおこり，大老の井伊直弼が暗殺された。\n",
        "\n",
        "解答: イ→ア→ウ\n",
        "```\n",
        "\n",
        "出典: [令和4年度第1回高等学校卒業程度認定試験問題](https://www.mext.go.jp/a_menu/koutou/shiken/kakomon/1411255_00007.htm) [日本史 問題](https://www.mext.go.jp/content/20240513-mxt_syogai02-mext_00002452_03nihonshi.pdf) 日本史A 1 問1\n",
        "\n",
        "\n",
        "```\n",
        "加藤高明が外務大臣として提言を行ってから、内閣総理大臣となり演説を行うまでの時期のできごとについて述べた次のア～ウを，年代の古い順に正しく並べよ。\n",
        "\n",
        "ア　朝鮮半島において，独立を求める大衆運動である三・一独立運動が展開された。\n",
        "イ　関東大震災後の混乱のなかで，朝鮮人や中国人に対する殺傷事件がおきた。\n",
        "ウ　日本政府が，袁世凱政府に対して二十一カ条の要求を突き付けた。\n",
        "\n",
        "解答: ウ→ア→イ\n",
        "```\n",
        "\n",
        "出典: [令和4年度第1回高等学校卒業程度認定試験問題](https://www.mext.go.jp/a_menu/koutou/shiken/kakomon/1411255_00007.htm) [日本史 問題](https://www.mext.go.jp/content/20240513-mxt_syogai02-mext_00002452_03nihonshi.pdf) 日本史A 2 問4\n"
      ]
    },
    {
      "cell_type": "code",
      "source": [
        "shot1 = \"日本の近代化に関連するできごとについて述べた次のア～ウを年代の古い順に正しく並べよ。\\n\\nア　府知事・県令からなる地方官会議が設置された。\\nイ　廃藩置県が実施され，中央から府知事・県令が派遣される体制になった。\\nウ　すべての藩主が，天皇に領地と領民を返還した。\\n\\n解答: ウ→イ→ア\"\n",
        "shot2 = \"江戸幕府の北方での対外的な緊張について述べた次の文ア～ウを年代の古い順に正しく並べよ。\\n\\nア　レザノフが長崎に来航したが，幕府が冷淡な対応をしたため，ロシア船が樺太や択捉島を攻撃した。\\nイ　ゴローウニンが国後島に上陸し，幕府の役人に捕らえられ抑留された。\\nウ　ラクスマンが根室に来航し，漂流民を届けるとともに通商を求めた。\\n\\n解答: ウ→ア→イ\"\n",
        "shot3 = \"中居屋重兵衛の生涯の期間におこったできごとについて述べた次のア～ウを，年代の古い順に正しく並べよ。\\n\\nア　アヘン戦争がおこり，清がイギリスに敗北した。\\nイ　異国船打払令が出され，外国船を撃退することが命じられた。\\nウ　桜田門外の変がおこり，大老の井伊直弼が暗殺された。\\n\\n解答: イ→ア→ウ\"\n",
        "shot4 = \"加藤高明が外務大臣として提言を行ってから、内閣総理大臣となり演説を行うまでの時期のできごとについて述べた次のア～ウを，年代の古い順に正しく並べよ。\\n\\nア　朝鮮半島において，独立を求める大衆運動である三・一独立運動が展開された。\\nイ　関東大震災後の混乱のなかで，朝鮮人や中国人に対する殺傷事件がおきた。\\nウ　日本政府が，袁世凱政府に対して二十一カ条の要求を突き付けた。\\n\\n解答: ウ→ア→イ\"\n",
        "prompt = shot1 + shot2 + shot3 + shot4 + question\n",
        "response = model.generate_content(prompt)\n",
        "print(response.text)"
      ],
      "metadata": {
        "colab": {
          "base_uri": "https://localhost:8080/",
          "height": 311
        },
        "id": "Qs3H0aWfE0_r",
        "outputId": "1e9b5171-d391-493f-b1a5-9e41b5e928a3"
      },
      "id": "Qs3H0aWfE0_r",
      "execution_count": 3,
      "outputs": [
        {
          "output_type": "stream",
          "name": "stdout",
          "text": [
            "解答：イ→ウ→ア\n",
            "\n",
            "\n",
            "**解説**\n",
            "\n",
            "日本の近代化のプロセスにおいて、これらの出来事は以下の順序で発生しました。\n",
            "\n",
            "* **ウ：すべての藩主が，天皇に領地と領民を返還した。**  これは、明治維新における重要な一歩であり、廃藩置県へと繋がります。\n",
            "\n",
            "* **イ：廃藩置県が実施され，中央から府知事・県令が派遣される体制になった。**  藩の廃止と、中央政府による直接統治の開始です。\n",
            "\n",
            "* **ア　府知事・県令からなる地方官会議が設置された。** これは廃藩置県後の地方行政の整備の一環として行われました。\n",
            "\n",
            "\n",
            "したがって、正しい順番はウ→イ→アとなります。\n",
            "\n"
          ]
        }
      ]
    },
    {
      "cell_type": "markdown",
      "id": "ba5b3390-fe20-460a-b6ba-fee5d64def0d",
      "metadata": {
        "id": "ba5b3390-fe20-460a-b6ba-fee5d64def0d"
      },
      "source": [
        "## 42. 多肢選択問題の正解率\n",
        "\n",
        "[JMMLU](https://github.com/nlp-waseda/JMMLU) のいずれかの科目を大規模言語モデルに解答させ、その正解率を求めよ。"
      ]
    },
    {
      "cell_type": "code",
      "source": [
        "!git clone https://github.com/nlp-waseda/JMMLU.git"
      ],
      "metadata": {
        "id": "X49I1dUE5mFw",
        "outputId": "6252858e-9e50-4301-99cd-7bb98a800d04",
        "colab": {
          "base_uri": "https://localhost:8080/"
        }
      },
      "id": "X49I1dUE5mFw",
      "execution_count": 4,
      "outputs": [
        {
          "output_type": "stream",
          "name": "stdout",
          "text": [
            "Cloning into 'JMMLU'...\n",
            "remote: Enumerating objects: 408, done.\u001b[K\n",
            "remote: Counting objects: 100% (134/134), done.\u001b[K\n",
            "remote: Compressing objects: 100% (128/128), done.\u001b[K\n",
            "remote: Total 408 (delta 73), reused 14 (delta 6), pack-reused 274 (from 1)\u001b[K\n",
            "Receiving objects: 100% (408/408), 1.46 MiB | 3.05 MiB/s, done.\n",
            "Resolving deltas: 100% (211/211), done.\n"
          ]
        }
      ]
    },
    {
      "cell_type": "code",
      "source": [
        "import csv\n",
        "\n",
        "with open(\"/content/JMMLU/JMMLU/astronomy.csv\", encoding=\"utf-8\") as f:\n",
        "    reader = csv.reader(f)\n",
        "    questions = []\n",
        "    for row in reader:\n",
        "        q = {\n",
        "            \"input\": row[0],     # 問題文\n",
        "            \"choices\": [         # 選択肢A〜D\n",
        "                row[1],\n",
        "                row[2],\n",
        "                row[3],\n",
        "                row[4],\n",
        "            ],\n",
        "            \"target\": row[5]     # 正解（A〜Dの文字ではなく、実際の選択肢テキスト）\n",
        "        }\n",
        "        questions.append(q)\n",
        "\n",
        "questions[:5]"
      ],
      "metadata": {
        "id": "xhA7Vq4o6Jhn",
        "outputId": "0cb247a1-d1bc-4175-a6fa-e20756f663ec",
        "colab": {
          "base_uri": "https://localhost:8080/"
        }
      },
      "id": "xhA7Vq4o6Jhn",
      "execution_count": 5,
      "outputs": [
        {
          "output_type": "execute_result",
          "data": {
            "text/plain": [
              "[{'input': '\\ufeffある物体の実際の明るさと、あなたがいる位置からの見かけの明るさの両方がわかっている場合、他の情報がなくても推定することができることは次のどれか？',\n",
              "  'choices': [' あなたに対するその天体の速度 ', ' その天体の組成 ', ' その天体の大きさ ', ' あなたからのその天体の距離'],\n",
              "  'target': 'D'},\n",
              " {'input': 'なぜ空は青いのか？',\n",
              "  'choices': [' 地球の大気を構成する分子が青っぽい色をしているから。',\n",
              "   ' 空は地球の海の色を反映しているから。',\n",
              "   ' 大気が短波長を優先的に散乱させるから。',\n",
              "   ' 地球の大気は他のすべての色を優先的に吸収するから。'],\n",
              "  'target': 'C'},\n",
              " {'input': 'あなたは、すべての物体の間には引力があるという科学的理論を立てた。あなたの理論が正しいと証明されるのはいつか？',\n",
              "  'choices': [' 初めてボーリングの球を落として、その球が地面に落ちたとき、あなたの仮説が証明される。',\n",
              "   ' 実験を何度も繰り返した後。',\n",
              "   ' あなたは自分の理論が正しいことを証明することはできず、単に『まだ間違っていると証明されていない』と言えるだけ。',\n",
              "   ' あなたや他の多くの人が仮説を検証したとき。'],\n",
              "  'target': 'C'},\n",
              " {'input': '次のうち正しいものはどれか？',\n",
              "  'choices': [' タイタンは厚い大気を持つ唯一の太陽系外縁衛星。',\n",
              "   ' タイタンは最近の地質活動の証拠を持つ唯一の太陽系外縁衛星。',\n",
              "   ' タイタンの大気の大部分は炭化水素で構成されている。',\n",
              "   ' AとD'],\n",
              "  'target': 'D'},\n",
              " {'input': '質量mの彗星が最小衝突速度で地球（質量M 半径R）に衝突する。この衝突で放出される全エネルギーの式は？',\n",
              "  'choices': [' m*v ', ' 0.5*m/(R^3) ', ' 0.5*m*(2GM/R) ', ' 0.6*G(M^2)/R'],\n",
              "  'target': 'C'}]"
            ]
          },
          "metadata": {},
          "execution_count": 5
        }
      ]
    },
    {
      "cell_type": "code",
      "source": [
        "correct = 0\n",
        "total = 0\n",
        "\n",
        "for q in questions:\n",
        "    prompt = f\"\"\"以下の選択肢から最も適切な答えを1つ選んでください。\n",
        "\n",
        "問題: {q['input']}\n",
        "選択肢:\n",
        "A. {q['choices'][0]}\n",
        "B. {q['choices'][1]}\n",
        "C. {q['choices'][2]}\n",
        "D. {q['choices'][3]}\n",
        "\n",
        "回答は A/B/C/D のいずれかで答えてください。\n",
        "\"\"\"\n",
        "    response = model.generate_content(prompt)\n",
        "    answer = response.text.strip()\n",
        "\n",
        "    # Geminiの出力を選択肢に変換\n",
        "    if answer.startswith(\"A\"):\n",
        "        pred = \"A\"\n",
        "    elif answer.startswith(\"B\"):\n",
        "        pred = \"B\"\n",
        "    elif answer.startswith(\"C\"):\n",
        "        pred = \"C\"\n",
        "    elif answer.startswith(\"D\"):\n",
        "        pred = \"D\"\n",
        "\n",
        "    if pred == q['target']:\n",
        "        correct += 1\n",
        "    total += 1\n",
        "\n",
        "print(f\"正解数: {correct}/{total} (正解率: {correct/total:.2%})\")\n"
      ],
      "metadata": {
        "id": "eQI4TrH98Kc7",
        "outputId": "94bcf49b-580b-475a-c072-c982d4b8fed3",
        "colab": {
          "base_uri": "https://localhost:8080/",
          "height": 35
        }
      },
      "id": "eQI4TrH98Kc7",
      "execution_count": 6,
      "outputs": [
        {
          "output_type": "stream",
          "name": "stdout",
          "text": [
            "正解数: 120/148 (正解率: 81.08%)\n"
          ]
        }
      ]
    },
    {
      "cell_type": "code",
      "source": [
        "correct = 0\n",
        "total = 0\n",
        "\n",
        "for q in questions:\n",
        "    prompt = f\"\"\"以下の選択肢から最も適切な答えを1つ選んでください。\n",
        "\n",
        "問題: {q['input']}\n",
        "選択肢:\n",
        "A. {q['choices'][0]}\n",
        "B. {q['choices'][1]}\n",
        "C. {q['choices'][2]}\n",
        "D. {q['choices'][3]}\n",
        "\n",
        "回答は A/B/C/D のいずれかで答えてください。\n",
        "\"\"\"\n",
        "    response = model.generate_content(\n",
        "        prompt,\n",
        "        generation_config=genai.types.GenerationConfig(temperature=0.0)\n",
        "        )\n",
        "    answer = response.text.strip()\n",
        "\n",
        "    # Geminiの出力を選択肢に変換\n",
        "    if answer.startswith(\"A\"):\n",
        "        pred = \"A\"\n",
        "    elif answer.startswith(\"B\"):\n",
        "        pred = \"B\"\n",
        "    elif answer.startswith(\"C\"):\n",
        "        pred = \"C\"\n",
        "    elif answer.startswith(\"D\"):\n",
        "        pred = \"D\"\n",
        "\n",
        "    if pred == q['target']:\n",
        "        correct += 1\n",
        "    total += 1\n",
        "\n",
        "print(f\"正解数: {correct}/{total} (正解率: {correct/total:.2%})\")"
      ],
      "metadata": {
        "id": "LMPFFWBXBCS-",
        "outputId": "b652c3c4-1efe-4bcb-a5cd-e44f0a70fdce",
        "colab": {
          "base_uri": "https://localhost:8080/",
          "height": 35
        }
      },
      "id": "LMPFFWBXBCS-",
      "execution_count": 7,
      "outputs": [
        {
          "output_type": "stream",
          "name": "stdout",
          "text": [
            "正解数: 120/148 (正解率: 81.08%)\n"
          ]
        }
      ]
    },
    {
      "cell_type": "code",
      "source": [
        "correct = 0\n",
        "total = 0\n",
        "\n",
        "for q in questions:\n",
        "    prompt = f\"\"\"以下の選択肢から最も適切な答えを1つ選んでください。\n",
        "\n",
        "問題: {q['input']}\n",
        "選択肢:\n",
        "A. {q['choices'][0]}\n",
        "B. {q['choices'][1]}\n",
        "C. {q['choices'][2]}\n",
        "D. {q['choices'][3]}\n",
        "\n",
        "回答は A/B/C/D のいずれかで答えてください。\n",
        "\"\"\"\n",
        "    response = model.generate_content(\n",
        "        prompt,\n",
        "        generation_config=genai.types.GenerationConfig(temperature=2.0)\n",
        "        )\n",
        "    answer = response.text.strip()\n",
        "\n",
        "    # Geminiの出力を選択肢に変換\n",
        "    if answer.startswith(\"A\"):\n",
        "        pred = \"A\"\n",
        "    elif answer.startswith(\"B\"):\n",
        "        pred = \"B\"\n",
        "    elif answer.startswith(\"C\"):\n",
        "        pred = \"C\"\n",
        "    elif answer.startswith(\"D\"):\n",
        "        pred = \"D\"\n",
        "\n",
        "    if pred == q['target']:\n",
        "        correct += 1\n",
        "    total += 1\n",
        "\n",
        "print(f\"正解数: {correct}/{total} (正解率: {correct/total:.2%})\")"
      ],
      "metadata": {
        "id": "ZKfKOCEUCY6A",
        "outputId": "b717cea2-df87-41cd-b1a6-508bbf2ca0ca",
        "colab": {
          "base_uri": "https://localhost:8080/",
          "height": 35
        }
      },
      "id": "ZKfKOCEUCY6A",
      "execution_count": 19,
      "outputs": [
        {
          "output_type": "stream",
          "name": "stdout",
          "text": [
            "正解数: 119/148 (正解率: 80.41%)\n"
          ]
        }
      ]
    },
    {
      "cell_type": "markdown",
      "id": "e12fc22a-24a5-4bd0-881f-27ea99120cce",
      "metadata": {
        "id": "e12fc22a-24a5-4bd0-881f-27ea99120cce"
      },
      "source": [
        "## 43. 応答のバイアス\n",
        "\n",
        "問題42において、実験設定を変化させると正解率が変化するかどうかを調べよ。実験設定の例としては、大規模言語モデルの温度パラメータ、プロンプト、多肢選択肢の順番、多肢選択肢の記号などが考えられる。"
      ]
    },
    {
      "cell_type": "markdown",
      "id": "rwHMH3_y6vGI",
      "metadata": {
        "id": "rwHMH3_y6vGI"
      },
      "source": [
        "正解の選択肢を全てDに入れ替えて解答させる例。"
      ]
    },
    {
      "cell_type": "markdown",
      "id": "68b9f58d-d6bf-41cb-9601-1dc50799f21a",
      "metadata": {
        "id": "68b9f58d-d6bf-41cb-9601-1dc50799f21a"
      },
      "source": [
        "## 44. 対話\n",
        "\n",
        "以下の問いかけに対する応答を生成せよ。\n",
        "\n",
        "> つばめちゃんは渋谷駅から東急東横線に乗り、自由が丘駅で乗り換えました。東急大井町線の大井町方面の電車に乗り換えたとき、各駅停車に乗車すべきところ、間違えて急行に乗車してしまったことに気付きました。自由が丘の次の急行停車駅で降車し、反対方向の電車で一駅戻った駅がつばめちゃんの目的地でした。目的地の駅の名前を答えてください。\n",
        "\n",
        "参考: [東急線・みなとみらい線路線案内](https://www.tokyu.co.jp/railway/station/map.html)"
      ]
    },
    {
      "cell_type": "code",
      "source": [
        "model = genai.GenerativeModel(\"gemini-1.5-flash\")\n",
        "chat = model.start_chat(history=[])\n",
        "prompt1 = \"つばめちゃんは渋谷駅から東急東横線に乗り、自由が丘駅で乗り換えました。東急大井町線の大井町方面の電車に乗り換えたとき、各駅停車に乗車すべきところ、間違えて急行に乗車してしまったことに気付きました。自由が丘の次の急行停車駅で降車し、反対方向の電車で一駅戻った駅がつばめちゃんの目的地でした。目的地の駅の名前を答えてください。\"\n",
        "response = chat.send_message(prompt1)\n",
        "print(response.text)\n"
      ],
      "metadata": {
        "id": "ZUV1fo_YLgun",
        "outputId": "9485efa1-eab7-4582-8096-fc48f0c5414e",
        "colab": {
          "base_uri": "https://localhost:8080/",
          "height": 90
        }
      },
      "id": "ZUV1fo_YLgun",
      "execution_count": 8,
      "outputs": [
        {
          "output_type": "stream",
          "name": "stdout",
          "text": [
            "つばめちゃんが間違って乗ってしまったのは大井町方面の急行です。自由が丘の次の急行停車駅は、東急大井町線の**九品仏駅**です。そこから反対方向の電車で一駅戻ると、**自由が丘駅**になります。\n",
            "\n",
            "よって、つばめちゃんの目的地は**自由が丘駅**です。\n",
            "\n"
          ]
        }
      ]
    },
    {
      "cell_type": "markdown",
      "id": "90e21f41-e016-40f5-94e7-da332111226c",
      "metadata": {
        "id": "90e21f41-e016-40f5-94e7-da332111226c"
      },
      "source": [
        "## 45. マルチターン対話"
      ]
    },
    {
      "cell_type": "markdown",
      "id": "3a9bdee2-8bac-43a9-98a0-e8af0c600c2a",
      "metadata": {
        "id": "3a9bdee2-8bac-43a9-98a0-e8af0c600c2a"
      },
      "source": [
        "先ほどの応答に続けて、以下の追加の問いかけに対する応答を生成せよ。\n",
        "\n",
        "> さらに、つばめちゃんが自由が丘駅で乗り換えたとき、先ほどとは反対方向の急行電車に間違って乗車してしまった場合を考えます。目的地の駅に向かうため、自由が丘の次の急行停車駅で降車した後、反対方向の各駅停車に乗車した場合、何駅先の駅で降りれば良いでしょうか？"
      ]
    },
    {
      "cell_type": "code",
      "source": [
        "prompt2 = \"さらに、つばめちゃんが自由が丘駅で乗り換えたとき、先ほどとは反対方向の急行電車に間違って乗車してしまった場合を考えます。目的地の駅に向かうため、自由が丘の次の急行停車駅で降車した後、反対方向の各駅停車に乗車した場合、何駅先の駅で降りれば良いでしょうか？\"\n",
        "response = chat.send_message(prompt2)\n",
        "print(response.text)"
      ],
      "metadata": {
        "id": "Onss0ifTMSCw",
        "outputId": "8e5621f2-3ca6-4d76-8ee9-0362edd2a89f",
        "colab": {
          "base_uri": "https://localhost:8080/",
          "height": 90
        }
      },
      "id": "Onss0ifTMSCw",
      "execution_count": 9,
      "outputs": [
        {
          "output_type": "stream",
          "name": "stdout",
          "text": [
            "自由が丘駅から大井町方面の急行に乗車し、次の急行停車駅である九品仏駅で降車します。  その後、反対方向（自由が丘方面）の各駅停車に乗車した場合、九品仏駅から自由が丘までは各駅停車で1駅です。\n",
            "\n",
            "つまり、降りる駅は**自由が丘駅**です。\n",
            "\n"
          ]
        }
      ]
    },
    {
      "cell_type": "markdown",
      "id": "lJXGYVdnKQOu",
      "metadata": {
        "id": "lJXGYVdnKQOu"
      },
      "source": [
        "## 46. 川柳の生成\n",
        "\n",
        "適当なお題を設定し、川柳の案を10個作成せよ。"
      ]
    },
    {
      "cell_type": "code",
      "source": [
        "model = genai.GenerativeModel(\"gemini-1.5-flash\")\n",
        "prompt = \"お題はゴールデンウィークで川柳の案を10個作成せよ。\"\n",
        "response = model.generate_content(prompt)\n",
        "print(response.text)"
      ],
      "metadata": {
        "id": "hBle3UTXMlwu",
        "outputId": "f9d6dc0c-716b-43ae-aec3-17e748790d32",
        "colab": {
          "base_uri": "https://localhost:8080/",
          "height": 384
        }
      },
      "id": "hBle3UTXMlwu",
      "execution_count": 24,
      "outputs": [
        {
          "output_type": "stream",
          "name": "stdout",
          "text": [
            "1. GW満喫　川辺でBBQ　笑顔咲く\n",
            "\n",
            "2. 子供らの　笑顔眩しい　GWかな\n",
            "\n",
            "3. 混む高速　渋滞ノロノロ　GW病\n",
            "\n",
            "4. 花見酒　五月の陽射し　心地好し\n",
            "\n",
            "5. 旅行計画　ワクワク胸躍る　GW到来\n",
            "\n",
            "6. 長い休み　充電完了　明日から頑張る\n",
            "\n",
            "7. 家でゴロゴロ　平和なGW　至福の時\n",
            "\n",
            "8. 思い出写真　アルバムに詰まる　GWの記憶\n",
            "\n",
            "9. 新緑の中　サイクリング楽しむ　爽快感\n",
            "\n",
            "10. GW終わる　現実逃避　また来年まで\n",
            "\n"
          ]
        }
      ]
    },
    {
      "cell_type": "markdown",
      "id": "6a8207e1-4084-47eb-8533-c5371f795b16",
      "metadata": {
        "id": "6a8207e1-4084-47eb-8533-c5371f795b16"
      },
      "source": [
        "## 47. LLMによる評価\n",
        "\n",
        "大規模言語モデルを評価者（ジャッジ）として、問題46の川柳の面白さを10段階で評価せよ。"
      ]
    },
    {
      "cell_type": "code",
      "source": [
        "response2 = model.generate_content(\"以下の10個の川柳を10段階で評価せよ。答え方は数値のみで。\\n\" + response.text )\n",
        "print(response2.text)"
      ],
      "metadata": {
        "id": "Sug4vP-4NlVc",
        "outputId": "71cf5497-69c2-42ed-e880-c48ce94aefab",
        "colab": {
          "base_uri": "https://localhost:8080/",
          "height": 219
        }
      },
      "id": "Sug4vP-4NlVc",
      "execution_count": 25,
      "outputs": [
        {
          "output_type": "stream",
          "name": "stdout",
          "text": [
            "7\n",
            "6\n",
            "5\n",
            "7\n",
            "6\n",
            "6\n",
            "7\n",
            "8\n",
            "7\n",
            "6\n",
            "\n"
          ]
        }
      ]
    },
    {
      "cell_type": "markdown",
      "id": "9e33b5a2-d9e0-43c7-9cc6-b8b642458be2",
      "metadata": {
        "id": "9e33b5a2-d9e0-43c7-9cc6-b8b642458be2"
      },
      "source": [
        "## 48. LLMによる評価の頑健性\n",
        "\n",
        "問題47で行ったLLMによるテキストの評価に関して、その頑健さ（脆弱さ）を調査せよ。最も単純な方法は、同じ評価を何回か繰り返した時のスコアの分散を調べることであろう。また、川柳の末尾に特定のメッセージを追加することで、評価スコアを恣意的に操作することも可能であろう。"
      ]
    },
    {
      "cell_type": "code",
      "source": [
        "import numpy as np\n",
        "\n",
        "results = []\n",
        "model = genai.GenerativeModel(\"gemini-1.5-flash\")\n",
        "\n",
        "for _ in range(10):\n",
        "    response3 = model.generate_content(\"以下の10個の川柳を10段階で評価せよ。答え方は数値のみかつスペース区切り\\n\" + response.text)\n",
        "    scores = [int(s) for s in response3.text.strip().split()]\n",
        "    results.append(scores)\n",
        "\n",
        "results_array = np.array(results)\n",
        "\n",
        "variances = np.var(results_array, axis=0)  # axis=0で川柳ごとに分散計算\n",
        "\n",
        "print(\"各川柳の分散:\", variances)\n",
        "print(\"平均分散:\", np.mean(variances))\n"
      ],
      "metadata": {
        "colab": {
          "base_uri": "https://localhost:8080/",
          "height": 54
        },
        "id": "ReVOOOof0kRr",
        "outputId": "cb0dc4d7-4c11-4dd4-b63c-ed81d4c0bbcc"
      },
      "id": "ReVOOOof0kRr",
      "execution_count": 27,
      "outputs": [
        {
          "output_type": "stream",
          "name": "stdout",
          "text": [
            "各川柳の分散: [0.   0.   0.36 0.09 0.   0.25 0.24 0.21 0.24 0.09]\n",
            "平均分散: 0.148\n"
          ]
        }
      ]
    },
    {
      "cell_type": "markdown",
      "id": "fbb81de5-8434-4738-89d8-a79f46663857",
      "metadata": {
        "id": "fbb81de5-8434-4738-89d8-a79f46663857"
      },
      "source": [
        "## 49. トークン化\n",
        "\n",
        "以下の文章（夏目漱石の『吾輩は猫である』の冒頭部分）のトークン数を計測せよ。\n",
        "\n",
        ">　吾輩は猫である。名前はまだ無い。\n",
        ">\n",
        ">　どこで生れたかとんと見当がつかぬ。何でも薄暗いじめじめした所でニャーニャー泣いていた事だけは記憶している。吾輩はここで始めて人間というものを見た。しかもあとで聞くとそれは書生という人間中で一番獰悪な種族であったそうだ。この書生というのは時々我々を捕えて煮て食うという話である。しかしその当時は何という考もなかったから別段恐しいとも思わなかった。ただ彼の掌に載せられてスーと持ち上げられた時何だかフワフワした感じがあったばかりである。掌の上で少し落ちついて書生の顔を見たのがいわゆる人間というものの見始であろう。この時妙なものだと思った感じが今でも残っている。第一毛をもって装飾されべきはずの顔がつるつるしてまるで薬缶だ。その後猫にもだいぶ逢ったがこんな片輪には一度も出会わした事がない。のみならず顔の真中があまりに突起している。そうしてその穴の中から時々ぷうぷうと煙を吹く。どうも咽せぽくて実に弱った。これが人間の飲む煙草というものである事はようやくこの頃知った。\n"
      ]
    },
    {
      "cell_type": "code",
      "source": [
        "model = genai.GenerativeModel(\"gemini-1.5-flash\")\n",
        "prompt = \"吾輩は猫である。名前はまだ無い。\\n\\n\\tどこで生れたかとんと見当がつかぬ。何でも薄暗いじめじめした所でニャーニャー泣いていた事だけは記憶している。吾輩はここで始めて人間というものを見た。しかもあとで聞くとそれは書生という人間中で一番獰悪な種族であったそうだ。この書生というのは時々我々を捕えて煮て食うという話である。しかしその当時は何という考もなかったから別段恐しいとも思わなかった。ただ彼の掌に載せられてスーと持ち上げられた時何だかフワフワした感じがあったばかりである。掌の上で少し落ちついて書生の顔を見たのがいわゆる人間というものの見始であろう。この時妙なものだと思った感じが今でも残っている。第一毛をもって装飾されべきはずの顔がつるつるしてまるで薬缶だ。その後猫にもだいぶ逢ったがこんな片輪には一度も出会わした事がない。のみならず顔の真中があまりに突起している。そうしてその穴の中から時々ぷうぷうと煙を吹く。どうも咽せぽくて実に弱った。これが人間の飲む煙草というものである事はようやくこの頃知った。\"\n",
        "token_info = model.count_tokens(prompt)\n",
        "\n",
        "token_info"
      ],
      "metadata": {
        "id": "a_SVPZ29OM2D",
        "outputId": "ebf04b14-2ff3-4498-f0b2-c2d8c628c6c4",
        "colab": {
          "base_uri": "https://localhost:8080/",
          "height": 35
        }
      },
      "id": "a_SVPZ29OM2D",
      "execution_count": 14,
      "outputs": [
        {
          "output_type": "execute_result",
          "data": {
            "text/plain": [
              "total_tokens: 251"
            ]
          },
          "metadata": {},
          "execution_count": 14
        }
      ]
    }
  ],
  "metadata": {
    "colab": {
      "provenance": []
    },
    "kernelspec": {
      "display_name": "Python 3 (ipykernel)",
      "language": "python",
      "name": "python3"
    },
    "language_info": {
      "codemirror_mode": {
        "name": "ipython",
        "version": 3
      },
      "file_extension": ".py",
      "mimetype": "text/x-python",
      "name": "python",
      "nbconvert_exporter": "python",
      "pygments_lexer": "ipython3",
      "version": "3.12.3"
    }
  },
  "nbformat": 4,
  "nbformat_minor": 5
}
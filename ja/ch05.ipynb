{
  "cells": [
    {
      "cell_type": "markdown",
      "id": "bf8022b0-6a02-44e3-b2da-ef2efca867e7",
      "metadata": {
        "editable": true,
        "id": "bf8022b0-6a02-44e3-b2da-ef2efca867e7",
        "tags": []
      },
      "source": [
        "# 第5章: 大規模言語モデル\n",
        "\n",
        "この章では、大規模言語モデル (LLM; Large Language Model) の利用し、様々なタスクに取り組む。大規模言語モデルをプログラムからAPI経由で呼び出すことを想定しており、そのAPIの利用で費用が発生する可能性があることに留意せよ。"
      ]
    },
    {
      "cell_type": "code",
      "source": [
        "from google.colab import userdata\n",
        "import google.generativeai as genai\n",
        "\n",
        "GOOGLE_API_KEY = userdata.get(\"GOOGLE_API_KEY\")\n",
        "genai.configure(api_key=GOOGLE_API_KEY)"
      ],
      "metadata": {
        "id": "eJZvKJAu9v3i"
      },
      "id": "eJZvKJAu9v3i",
      "execution_count": 1,
      "outputs": []
    },
    {
      "cell_type": "markdown",
      "id": "1cb183db-021f-41f5-b719-15f34fe14da2",
      "metadata": {
        "id": "1cb183db-021f-41f5-b719-15f34fe14da2"
      },
      "source": [
        "## 40. Zero-Shot推論\n",
        "\n",
        "以下の問題の解答を作成せよ。ただし、解答生成はzero-shot推論とせよ。\n",
        "\n",
        "```\n",
        "9世紀に活躍した人物に関係するできごとについて述べた次のア～ウを年代の古い順に正しく並べよ。\n",
        "\n",
        "ア　藤原時平は，策謀を用いて菅原道真を政界から追放した。\n",
        "イ　嵯峨天皇は，藤原冬嗣らを蔵人頭に任命した。\n",
        "ウ　藤原良房は，承和の変後，藤原氏の中での北家の優位を確立した。\n",
        "```\n",
        "\n",
        "出典: [令和5年度第1回高等学校卒業程度認定試験問題](https://www.mext.go.jp/a_menu/koutou/shiken/kakomon/1411255_00010.htm) [日本史AB 問題](https://www.mext.go.jp/content/20240523-mxt_syogai02-mext_000031286_03nihonshi.pdf) 日本史B 1 問3"
      ]
    },
    {
      "cell_type": "code",
      "source": [
        "model = genai.GenerativeModel(\"gemini-1.5-flash\")\n",
        "question = \"9世紀に活躍した人物に関係するできごとについて述べた次のア～ウを年代の古い順に正しく並べよ。\\n\\nア　藤原時平は，策謀を用いて菅原道真を政界から追放した。\\nイ　嵯峨天皇は，藤原冬嗣らを蔵人頭に任命した。\\nウ　藤原良房は，承和の変後，藤原氏の中での北家の優位を確立した。\"\n",
        "response = model.generate_content(question)\n",
        "print(response.text)"
      ],
      "metadata": {
        "colab": {
          "base_uri": "https://localhost:8080/",
          "height": 201
        },
        "id": "NUmb4qtQ-noO",
        "outputId": "1c62d776-1cad-46f1-f084-c93e0bcc4037"
      },
      "id": "NUmb4qtQ-noO",
      "execution_count": 2,
      "outputs": [
        {
          "output_type": "stream",
          "name": "stdout",
          "text": [
            "問題文の出来事を年代順に並べると以下のようになります。\n",
            "\n",
            "1. **ウ：藤原良房は，承和の変後，藤原氏の中での北家の優位を確立した。**  承和の変は842年。良房はこの変後、摂関政治を確立し北家の優位を築きました。\n",
            "\n",
            "2. **イ：嵯峨天皇は，藤原冬嗣らを蔵人頭に任命した。** 嵯峨天皇の在位は809年から823年。藤原冬嗣は嵯峨天皇の時代に活躍した人物です。\n",
            "\n",
            "3. **ア：藤原時平は，策謀を用いて菅原道真を政界から追放した。** 菅原道真の左遷は894年。\n",
            "\n",
            "よって、年代順はウ、イ、アとなります。\n",
            "\n"
          ]
        }
      ]
    },
    {
      "cell_type": "markdown",
      "id": "608f75ea-f00f-4365-b642-bf55fe98fa9c",
      "metadata": {
        "id": "608f75ea-f00f-4365-b642-bf55fe98fa9c"
      },
      "source": [
        "## 41. Few-Shot推論\n",
        "\n",
        "以下の問題と解答を与え、問題40で示した質問の解答をfew-shot推論（この場合は4-shot推論）で生成せよ。\n",
        "\n",
        "```\n",
        "日本の近代化に関連するできごとについて述べた次のア～ウを年代の古い順に正しく並べよ。\n",
        "\n",
        "ア　府知事・県令からなる地方官会議が設置された。\n",
        "イ　廃藩置県が実施され，中央から府知事・県令が派遣される体制になった。\n",
        "ウ　すべての藩主が，天皇に領地と領民を返還した。\n",
        "\n",
        "解答: ウ→イ→ア\n",
        "```\n",
        "\n",
        "出典: [令和5年度第1回高等学校卒業程度認定試験問題](https://www.mext.go.jp/a_menu/koutou/shiken/kakomon/1411255_00010.htm) [日本史AB 問題](https://www.mext.go.jp/content/20240523-mxt_syogai02-mext_000031286_03nihonshi.pdf) 日本史A 1 問8\n",
        "\n",
        "\n",
        "```\n",
        "江戸幕府の北方での対外的な緊張について述べた次の文ア～ウを年代の古い順に正しく並べよ。\n",
        "\n",
        "ア　レザノフが長崎に来航したが，幕府が冷淡な対応をしたため，ロシア船が樺太や択捉島を攻撃した。\n",
        "イ　ゴローウニンが国後島に上陸し，幕府の役人に捕らえられ抑留された。\n",
        "ウ　ラクスマンが根室に来航し，漂流民を届けるとともに通商を求めた。\n",
        "\n",
        "解答: ウ→ア→イ\n",
        "```\n",
        "\n",
        "出典: [令和5年度第1回高等学校卒業程度認定試験問題](https://www.mext.go.jp/a_menu/koutou/shiken/kakomon/1411255_00010.htm) [日本史AB 問題](https://www.mext.go.jp/content/20240523-mxt_syogai02-mext_000031286_03nihonshi.pdf) 日本史B 3 問3\n",
        "\n",
        "```\n",
        "中居屋重兵衛の生涯の期間におこったできごとについて述べた次のア～ウを，年代の古い順に正しく並べよ。\n",
        "\n",
        "ア　アヘン戦争がおこり，清がイギリスに敗北した。\n",
        "イ　異国船打払令が出され，外国船を撃退することが命じられた。\n",
        "ウ　桜田門外の変がおこり，大老の井伊直弼が暗殺された。\n",
        "\n",
        "解答: イ→ア→ウ\n",
        "```\n",
        "\n",
        "出典: [令和4年度第1回高等学校卒業程度認定試験問題](https://www.mext.go.jp/a_menu/koutou/shiken/kakomon/1411255_00007.htm) [日本史 問題](https://www.mext.go.jp/content/20240513-mxt_syogai02-mext_00002452_03nihonshi.pdf) 日本史A 1 問1\n",
        "\n",
        "\n",
        "```\n",
        "加藤高明が外務大臣として提言を行ってから、内閣総理大臣となり演説を行うまでの時期のできごとについて述べた次のア～ウを，年代の古い順に正しく並べよ。\n",
        "\n",
        "ア　朝鮮半島において，独立を求める大衆運動である三・一独立運動が展開された。\n",
        "イ　関東大震災後の混乱のなかで，朝鮮人や中国人に対する殺傷事件がおきた。\n",
        "ウ　日本政府が，袁世凱政府に対して二十一カ条の要求を突き付けた。\n",
        "\n",
        "解答: ウ→ア→イ\n",
        "```\n",
        "\n",
        "出典: [令和4年度第1回高等学校卒業程度認定試験問題](https://www.mext.go.jp/a_menu/koutou/shiken/kakomon/1411255_00007.htm) [日本史 問題](https://www.mext.go.jp/content/20240513-mxt_syogai02-mext_00002452_03nihonshi.pdf) 日本史A 2 問4\n"
      ]
    },
    {
      "cell_type": "code",
      "source": [
        "shot1 = \"日本の近代化に関連するできごとについて述べた次のア～ウを年代の古い順に正しく並べよ。\\n\\nア　府知事・県令からなる地方官会議が設置された。\\nイ　廃藩置県が実施され，中央から府知事・県令が派遣される体制になった。\\nウ　すべての藩主が，天皇に領地と領民を返還した。\\n\\n解答: ウ→イ→ア\"\n",
        "shot2 = \"江戸幕府の北方での対外的な緊張について述べた次の文ア～ウを年代の古い順に正しく並べよ。\\n\\nア　レザノフが長崎に来航したが，幕府が冷淡な対応をしたため，ロシア船が樺太や択捉島を攻撃した。\\nイ　ゴローウニンが国後島に上陸し，幕府の役人に捕らえられ抑留された。\\nウ　ラクスマンが根室に来航し，漂流民を届けるとともに通商を求めた。\\n\\n解答: ウ→ア→イ\"\n",
        "shot3 = \"中居屋重兵衛の生涯の期間におこったできごとについて述べた次のア～ウを，年代の古い順に正しく並べよ。\\n\\nア　アヘン戦争がおこり，清がイギリスに敗北した。\\nイ　異国船打払令が出され，外国船を撃退することが命じられた。\\nウ　桜田門外の変がおこり，大老の井伊直弼が暗殺された。\\n\\n解答: イ→ア→ウ\"\n",
        "shot4 = \"加藤高明が外務大臣として提言を行ってから、内閣総理大臣となり演説を行うまでの時期のできごとについて述べた次のア～ウを，年代の古い順に正しく並べよ。\\n\\nア　朝鮮半島において，独立を求める大衆運動である三・一独立運動が展開された。\\nイ　関東大震災後の混乱のなかで，朝鮮人や中国人に対する殺傷事件がおきた。\\nウ　日本政府が，袁世凱政府に対して二十一カ条の要求を突き付けた。\\n\\n解答: ウ→ア→イ\"\n",
        "prompt = shot1 + shot2 + shot3 + shot4 + question\n",
        "response = model.generate_content(prompt)\n",
        "print(response.text)"
      ],
      "metadata": {
        "colab": {
          "base_uri": "https://localhost:8080/",
          "height": 1000
        },
        "id": "Qs3H0aWfE0_r",
        "outputId": "7252f46a-4390-4288-c90d-bc0ae88e4257"
      },
      "id": "Qs3H0aWfE0_r",
      "execution_count": 3,
      "outputs": [
        {
          "output_type": "stream",
          "name": "stdout",
          "text": [
            "解答例：\n",
            "\n",
            "**日本の近代化に関連するできごと**\n",
            "\n",
            "ウ→イ→ア\n",
            "\n",
            "**説明:**\n",
            "\n",
            "* **ウ:** すべての藩主が領地と領民を天皇に返還したのは、 **明治維新** の直前の出来事です。\n",
            "* **イ:** 廃藩置県は、明治維新における重要な政策であり、ウの後に行われました。\n",
            "* **ア:** 地方官会議の設置は、廃藩置県後の行政体制整備の一環として行われたため、イの後になります。\n",
            "\n",
            "\n",
            "**江戸幕府の北方での対外的な緊張**\n",
            "\n",
            "ウ→ア→イ\n",
            "\n",
            "**説明:**\n",
            "\n",
            "* **ウ:** ラクスマンの来航は1792年、最も古い出来事です。\n",
            "* **ア:** レザノフの来航は1804年。\n",
            "* **イ:** ゴローウニンの捕縛は1811年。\n",
            "\n",
            "\n",
            "**中居屋重兵衛の生涯**\n",
            "\n",
            "イ→ア→ウ\n",
            "\n",
            "**説明:**\n",
            "\n",
            "* **イ:** 異国船打払令は1825年。\n",
            "* **ア:** アヘン戦争は1839～1842年。\n",
            "* **ウ:** 桜田門外の変は1860年。\n",
            "\n",
            "\n",
            "**加藤高明**\n",
            "\n",
            "ウ→ア→イ\n",
            "\n",
            "**説明:**\n",
            "\n",
            "* **ウ:** 二十一カ条の要求は1915年。\n",
            "* **ア:** 三・一独立運動は1919年。\n",
            "* **イ:** 関東大震災とそれに伴う朝鮮人・中国人虐殺は1923年。\n",
            "\n",
            "\n",
            "**9世紀の人物**\n",
            "\n",
            "イ→ウ→ア\n",
            "\n",
            "**説明:**\n",
            "\n",
            "* **イ:** 嵯峨天皇は809～823年に在位。藤原冬嗣の蔵人頭への任命は、この期間中に行われたと推測されます。\n",
            "* **ウ:** 承和の変は842年。藤原良房の北家の優位確立はその後の出来事。\n",
            "* **ア:** 菅原道真の追放は894年。\n",
            "\n",
            "\n",
            "これらの解答は、各出来事の発生時期に関する一般的な歴史的知識に基づいています。より詳細な情報が必要な場合は、歴史書などを参照してください。\n",
            "\n"
          ]
        }
      ]
    },
    {
      "cell_type": "markdown",
      "id": "ba5b3390-fe20-460a-b6ba-fee5d64def0d",
      "metadata": {
        "id": "ba5b3390-fe20-460a-b6ba-fee5d64def0d"
      },
      "source": [
        "## 42. 多肢選択問題の正解率\n",
        "\n",
        "[JMMLU](https://github.com/nlp-waseda/JMMLU) のいずれかの科目を大規模言語モデルに解答させ、その正解率を求めよ。"
      ]
    },
    {
      "cell_type": "markdown",
      "id": "e12fc22a-24a5-4bd0-881f-27ea99120cce",
      "metadata": {
        "id": "e12fc22a-24a5-4bd0-881f-27ea99120cce"
      },
      "source": [
        "## 43. 応答のバイアス\n",
        "\n",
        "問題42において、実験設定を変化させると正解率が変化するかどうかを調べよ。実験設定の例としては、大規模言語モデルの温度パラメータ、プロンプト、多肢選択肢の順番、多肢選択肢の記号などが考えられる。"
      ]
    },
    {
      "cell_type": "markdown",
      "id": "rwHMH3_y6vGI",
      "metadata": {
        "id": "rwHMH3_y6vGI"
      },
      "source": [
        "正解の選択肢を全てDに入れ替えて解答させる例。"
      ]
    },
    {
      "cell_type": "markdown",
      "id": "68b9f58d-d6bf-41cb-9601-1dc50799f21a",
      "metadata": {
        "id": "68b9f58d-d6bf-41cb-9601-1dc50799f21a"
      },
      "source": [
        "## 44. 対話\n",
        "\n",
        "以下の問いかけに対する応答を生成せよ。\n",
        "\n",
        "> つばめちゃんは渋谷駅から東急東横線に乗り、自由が丘駅で乗り換えました。東急大井町線の大井町方面の電車に乗り換えたとき、各駅停車に乗車すべきところ、間違えて急行に乗車してしまったことに気付きました。自由が丘の次の急行停車駅で降車し、反対方向の電車で一駅戻った駅がつばめちゃんの目的地でした。目的地の駅の名前を答えてください。\n",
        "\n",
        "参考: [東急線・みなとみらい線路線案内](https://www.tokyu.co.jp/railway/station/map.html)"
      ]
    },
    {
      "cell_type": "code",
      "source": [
        "model = genai.GenerativeModel(\"gemini-1.5-flash\")\n",
        "chat = model.start_chat(history=[])\n",
        "prompt1 = \"つばめちゃんは渋谷駅から東急東横線に乗り、自由が丘駅で乗り換えました。東急大井町線の大井町方面の電車に乗り換えたとき、各駅停車に乗車すべきところ、間違えて急行に乗車してしまったことに気付きました。自由が丘の次の急行停車駅で降車し、反対方向の電車で一駅戻った駅がつばめちゃんの目的地でした。目的地の駅の名前を答えてください。\"\n",
        "response = chat.send_message(prompt1)\n",
        "print(response.text)\n"
      ],
      "metadata": {
        "id": "ZUV1fo_YLgun",
        "outputId": "f7316246-1b1a-4748-8a40-0eb4858d8031",
        "colab": {
          "base_uri": "https://localhost:8080/",
          "height": 54
        }
      },
      "id": "ZUV1fo_YLgun",
      "execution_count": 4,
      "outputs": [
        {
          "output_type": "stream",
          "name": "stdout",
          "text": [
            "つばめちゃんが間違えて乗ってしまったのは大井町線の急行です。自由が丘の次の急行停車駅は、九品仏です。そこから反対方向の電車で一駅戻ると、**奥沢**になります。\n",
            "\n"
          ]
        }
      ]
    },
    {
      "cell_type": "markdown",
      "id": "90e21f41-e016-40f5-94e7-da332111226c",
      "metadata": {
        "id": "90e21f41-e016-40f5-94e7-da332111226c"
      },
      "source": [
        "## 45. マルチターン対話"
      ]
    },
    {
      "cell_type": "markdown",
      "id": "3a9bdee2-8bac-43a9-98a0-e8af0c600c2a",
      "metadata": {
        "id": "3a9bdee2-8bac-43a9-98a0-e8af0c600c2a"
      },
      "source": [
        "先ほどの応答に続けて、以下の追加の問いかけに対する応答を生成せよ。\n",
        "\n",
        "> さらに、つばめちゃんが自由が丘駅で乗り換えたとき、先ほどとは反対方向の急行電車に間違って乗車してしまった場合を考えます。目的地の駅に向かうため、自由が丘の次の急行停車駅で降車した後、反対方向の各駅停車に乗車した場合、何駅先の駅で降りれば良いでしょうか？"
      ]
    },
    {
      "cell_type": "code",
      "source": [
        "prompt2 = \"さらに、つばめちゃんが自由が丘駅で乗り換えたとき、先ほどとは反対方向の急行電車に間違って乗車してしまった場合を考えます。目的地の駅に向かうため、自由が丘の次の急行停車駅で降車した後、反対方向の各駅停車に乗車した場合、何駅先の駅で降りれば良いでしょうか？\"\n",
        "response = chat.send_message(prompt2)\n",
        "print(response.text)"
      ],
      "metadata": {
        "id": "Onss0ifTMSCw",
        "outputId": "4804d648-fb72-4ade-bf5f-e9ba3a032d09",
        "colab": {
          "base_uri": "https://localhost:8080/",
          "height": 54
        }
      },
      "id": "Onss0ifTMSCw",
      "execution_count": 5,
      "outputs": [
        {
          "output_type": "stream",
          "name": "stdout",
          "text": [
            "自由が丘駅から大井町方面の急行に乗車し、間違えたと気づいたとすると、次の急行停車駅は九品仏です。そこから反対方向の各駅停車に乗車した場合、次の駅である**奥沢**で降りれば目的の駅に到着します。\n",
            "\n"
          ]
        }
      ]
    },
    {
      "cell_type": "markdown",
      "id": "lJXGYVdnKQOu",
      "metadata": {
        "id": "lJXGYVdnKQOu"
      },
      "source": [
        "## 46. 川柳の生成\n",
        "\n",
        "適当なお題を設定し、川柳の案を10個作成せよ。"
      ]
    },
    {
      "cell_type": "code",
      "source": [
        "model = genai.GenerativeModel(\"gemini-1.5-flash\")\n",
        "prompt = \"お題はゴールデンウィークで川柳の案を10個作成せよ。\"\n",
        "response = model.generate_content(prompt)\n",
        "print(response.text)"
      ],
      "metadata": {
        "id": "hBle3UTXMlwu",
        "outputId": "207195d5-641f-4a95-9896-154a082b4698",
        "colab": {
          "base_uri": "https://localhost:8080/",
          "height": 256
        }
      },
      "id": "hBle3UTXMlwu",
      "execution_count": 6,
      "outputs": [
        {
          "output_type": "stream",
          "name": "stdout",
          "text": [
            "1. GW満喫　川辺でBBQ　煙と笑み\n",
            "2. 混む高速　渋滞ノロノロ　休み気分\n",
            "3. 子どもの笑顔　輝くGW　思い出一つ\n",
            "4. 花見弁当　川風心地よき　春の休日\n",
            "5. 旅行計画　あれこれ悩みつつ　出発の日が来る\n",
            "6. ５連休　あっという間だった　また来年まで\n",
            "7. 家でゆっくり　読書三昧のGW　至福の時\n",
            "8. キャンプファイヤー　夜空に星きらめき　語り明かす夜\n",
            "9. 新緑まぶしい　山道を歩く　爽快な気分\n",
            "10. GW終了　現実逃避終了　明日から仕事\n",
            "\n",
            "\n",
            "\n"
          ]
        }
      ]
    },
    {
      "cell_type": "markdown",
      "id": "6a8207e1-4084-47eb-8533-c5371f795b16",
      "metadata": {
        "id": "6a8207e1-4084-47eb-8533-c5371f795b16"
      },
      "source": [
        "## 47. LLMによる評価\n",
        "\n",
        "大規模言語モデルを評価者（ジャッジ）として、問題46の川柳の面白さを10段階で評価せよ。"
      ]
    },
    {
      "cell_type": "code",
      "source": [
        "response2 = model.generate_content(\"以下の10個の川柳を10段階で評価せよ。答え方は数値のみで。\\n\" + response.text )\n",
        "print(response2.text)"
      ],
      "metadata": {
        "id": "Sug4vP-4NlVc",
        "outputId": "5d1660b6-c88a-4f16-d44d-c11904f3b907",
        "colab": {
          "base_uri": "https://localhost:8080/",
          "height": 219
        }
      },
      "id": "Sug4vP-4NlVc",
      "execution_count": 12,
      "outputs": [
        {
          "output_type": "stream",
          "name": "stdout",
          "text": [
            "7\n",
            "5\n",
            "8\n",
            "7\n",
            "6\n",
            "6\n",
            "7\n",
            "8\n",
            "9\n",
            "6\n",
            "\n"
          ]
        }
      ]
    },
    {
      "cell_type": "markdown",
      "id": "9e33b5a2-d9e0-43c7-9cc6-b8b642458be2",
      "metadata": {
        "id": "9e33b5a2-d9e0-43c7-9cc6-b8b642458be2"
      },
      "source": [
        "## 48. LLMによる評価の頑健性\n",
        "\n",
        "問題47で行ったLLMによるテキストの評価に関して、その頑健さ（脆弱さ）を調査せよ。最も単純な方法は、同じ評価を何回か繰り返した時のスコアの分散を調べることであろう。また、川柳の末尾に特定のメッセージを追加することで、評価スコアを恣意的に操作することも可能であろう。"
      ]
    },
    {
      "cell_type": "code",
      "source": [
        "import numpy as np\n",
        "\n",
        "results = []\n",
        "\n",
        "for _ in range(30):\n",
        "    response3 = model.generate_content(\"以下の10個の川柳を10段階で評価せよ。答え方は数値のみで。\\n\" + response.text)\n",
        "    scores = [int(s) for s in response3.text.strip().split()]\n",
        "    results.append(scores)\n",
        "\n",
        "results_array = np.array(results)\n",
        "\n",
        "variances = np.var(results_array, axis=0)  # axis=0で川柳ごとに分散計算\n",
        "\n",
        "print(\"各川柳の分散:\", variances)\n",
        "print(\"平均分散:\", np.mean(variances))\n"
      ],
      "metadata": {
        "id": "ReVOOOof0kRr",
        "outputId": "c74e8d70-0c9d-4b15-9bad-8feaaa714d58",
        "colab": {
          "base_uri": "https://localhost:8080/",
          "height": 72
        }
      },
      "id": "ReVOOOof0kRr",
      "execution_count": 15,
      "outputs": [
        {
          "output_type": "stream",
          "name": "stdout",
          "text": [
            "各川柳の分散: [0.24       0.16       0.24       0.03222222 0.12888889 0.21\n",
            " 0.09888889 0.17888889 0.24888889 0.44888889]\n",
            "平均分散: 0.19866666666666669\n"
          ]
        }
      ]
    },
    {
      "cell_type": "markdown",
      "id": "fbb81de5-8434-4738-89d8-a79f46663857",
      "metadata": {
        "id": "fbb81de5-8434-4738-89d8-a79f46663857"
      },
      "source": [
        "## 49. トークン化\n",
        "\n",
        "以下の文章（夏目漱石の『吾輩は猫である』の冒頭部分）のトークン数を計測せよ。\n",
        "\n",
        ">　吾輩は猫である。名前はまだ無い。\n",
        ">\n",
        ">　どこで生れたかとんと見当がつかぬ。何でも薄暗いじめじめした所でニャーニャー泣いていた事だけは記憶している。吾輩はここで始めて人間というものを見た。しかもあとで聞くとそれは書生という人間中で一番獰悪な種族であったそうだ。この書生というのは時々我々を捕えて煮て食うという話である。しかしその当時は何という考もなかったから別段恐しいとも思わなかった。ただ彼の掌に載せられてスーと持ち上げられた時何だかフワフワした感じがあったばかりである。掌の上で少し落ちついて書生の顔を見たのがいわゆる人間というものの見始であろう。この時妙なものだと思った感じが今でも残っている。第一毛をもって装飾されべきはずの顔がつるつるしてまるで薬缶だ。その後猫にもだいぶ逢ったがこんな片輪には一度も出会わした事がない。のみならず顔の真中があまりに突起している。そうしてその穴の中から時々ぷうぷうと煙を吹く。どうも咽せぽくて実に弱った。これが人間の飲む煙草というものである事はようやくこの頃知った。\n"
      ]
    },
    {
      "cell_type": "code",
      "source": [
        "model = genai.GenerativeModel(\"gemini-1.5-flash\")\n",
        "prompt = \"吾輩は猫である。名前はまだ無い。\\n\\n\\tどこで生れたかとんと見当がつかぬ。何でも薄暗いじめじめした所でニャーニャー泣いていた事だけは記憶している。吾輩はここで始めて人間というものを見た。しかもあとで聞くとそれは書生という人間中で一番獰悪な種族であったそうだ。この書生というのは時々我々を捕えて煮て食うという話である。しかしその当時は何という考もなかったから別段恐しいとも思わなかった。ただ彼の掌に載せられてスーと持ち上げられた時何だかフワフワした感じがあったばかりである。掌の上で少し落ちついて書生の顔を見たのがいわゆる人間というものの見始であろう。この時妙なものだと思った感じが今でも残っている。第一毛をもって装飾されべきはずの顔がつるつるしてまるで薬缶だ。その後猫にもだいぶ逢ったがこんな片輪には一度も出会わした事がない。のみならず顔の真中があまりに突起している。そうしてその穴の中から時々ぷうぷうと煙を吹く。どうも咽せぽくて実に弱った。これが人間の飲む煙草というものである事はようやくこの頃知った。\"\n",
        "token_info = model.count_tokens(prompt)\n",
        "\n",
        "token_info"
      ],
      "metadata": {
        "id": "a_SVPZ29OM2D",
        "outputId": "bb24f63b-1187-4046-bda9-2652fe012257",
        "colab": {
          "base_uri": "https://localhost:8080/",
          "height": 35
        }
      },
      "id": "a_SVPZ29OM2D",
      "execution_count": 9,
      "outputs": [
        {
          "output_type": "execute_result",
          "data": {
            "text/plain": [
              "total_tokens: 251"
            ]
          },
          "metadata": {},
          "execution_count": 9
        }
      ]
    }
  ],
  "metadata": {
    "colab": {
      "provenance": []
    },
    "kernelspec": {
      "display_name": "Python 3 (ipykernel)",
      "language": "python",
      "name": "python3"
    },
    "language_info": {
      "codemirror_mode": {
        "name": "ipython",
        "version": 3
      },
      "file_extension": ".py",
      "mimetype": "text/x-python",
      "name": "python",
      "nbconvert_exporter": "python",
      "pygments_lexer": "ipython3",
      "version": "3.12.3"
    }
  },
  "nbformat": 4,
  "nbformat_minor": 5
}